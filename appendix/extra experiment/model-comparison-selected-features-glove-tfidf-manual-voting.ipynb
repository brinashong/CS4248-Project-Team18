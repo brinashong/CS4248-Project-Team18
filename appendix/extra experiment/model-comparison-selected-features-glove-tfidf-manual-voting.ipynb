{
 "cells": [
  {
   "cell_type": "markdown",
   "id": "e3dc9ae6-cce7-4b87-a88d-62213d5a7b3f",
   "metadata": {},
   "source": [
    "# Model Training"
   ]
  },
  {
   "cell_type": "code",
   "execution_count": 1,
   "id": "153a9fa8-50e8-445c-b738-7517bbb610ed",
   "metadata": {},
   "outputs": [],
   "source": [
    "%load_ext autoreload\n",
    "%autoreload 2\n",
    "\n",
    "import common\n",
    "import pandas as pd\n",
    "import scipy.sparse\n",
    "import joblib\n",
    "from sklearn.model_selection import train_test_split\n",
    "from sklearn.linear_model import LogisticRegression\n",
    "from sklearn.ensemble import RandomForestClassifier,StackingClassifier,GradientBoostingClassifier,VotingClassifier\n",
    "from sklearn.svm import SVC\n",
    "from sklearn.tree import plot_tree\n",
    "import matplotlib.pyplot as plt\n",
    "from imblearn.over_sampling import SMOTE\n",
    "import wandb\n",
    "import numpy as np\n",
    "import os"
   ]
  },
  {
   "cell_type": "code",
   "execution_count": 2,
   "id": "02c6dc5a-8178-4986-a420-16d82d805327",
   "metadata": {},
   "outputs": [
    {
     "name": "stderr",
     "output_type": "stream",
     "text": [
      "\u001b[34m\u001b[1mwandb\u001b[0m: Using wandb-core as the SDK backend.  Please refer to https://wandb.me/wandb-core for more information.\n",
      "\u001b[34m\u001b[1mwandb\u001b[0m: Currently logged in as: \u001b[33mnontaphat-c\u001b[0m (\u001b[33mnontaphat-c-nus\u001b[0m) to \u001b[32mhttps://api.wandb.ai\u001b[0m. Use \u001b[1m`wandb login --relogin`\u001b[0m to force relogin\n"
     ]
    },
    {
     "data": {
      "text/plain": [
       "True"
      ]
     },
     "execution_count": 2,
     "metadata": {},
     "output_type": "execute_result"
    }
   ],
   "source": [
    "wandb.login()"
   ]
  },
  {
   "cell_type": "markdown",
   "id": "708f37ae-f8aa-4ce9-895b-c9cdf702ea76",
   "metadata": {},
   "source": [
    "## Parameters"
   ]
  },
  {
   "cell_type": "code",
   "execution_count": null,
   "id": "f5fbfa52-2416-41ef-974b-206ce49b68d1",
   "metadata": {},
   "outputs": [],
   "source": [
    "# change this accordingly\n",
    "project_path = os.path.abspath(os.path.join(os.getcwd(), os.pardir))\n",
    "\n",
    "save_path = f\"{project_path}/scicite_preprocessed\"\n",
    "dataset = \"selected-features\"\n",
    "dataset2 = 'selecetd-features-glove'\n",
    "project_name = \"model-comparison-smote-ensemble-manual-voting(2-rf)\""
   ]
  },
  {
   "cell_type": "markdown",
   "id": "90cf845b-8b16-4dd1-9d9b-92d2df67f029",
   "metadata": {},
   "source": [
    "## 1. Load dataset"
   ]
  },
  {
   "cell_type": "code",
   "execution_count": 4,
   "id": "91c52bf4-58ca-49c5-94fe-ef3d8326ab5f",
   "metadata": {},
   "outputs": [],
   "source": [
    "train_df = pd.read_csv(f\"{save_path}/train-{dataset}.csv\")\n",
    "test_df = pd.read_csv(f\"{save_path}/test-{dataset}.csv\")\n",
    "label_encoder = joblib.load(f\"{save_path}/label_encoder.pkl\")\n",
    "\n",
    "X_train = train_df.drop(columns=['label'])\n",
    "y_train = train_df[\"label\"]\n",
    "X_test = test_df.drop(columns=['label'])\n",
    "y_test = test_df[\"label\"]\n",
    "\n",
    "smote = SMOTE(sampling_strategy='all', random_state=42)\n",
    "X_train, y_train = smote.fit_resample(X_train, y_train)"
   ]
  },
  {
   "cell_type": "code",
   "execution_count": null,
   "id": "c21ea64a",
   "metadata": {},
   "outputs": [],
   "source": [
    "train_df2 = pd.read_csv(f\"{save_path}/train-{dataset2}.csv\")\n",
    "test_df2 = pd.read_csv(f\"{save_path}/test-{dataset2}.csv\")\n",
    "label_encoder2 = joblib.load(f\"{save_path}/label_encoder.pkl\")\n",
    "\n",
    "X_train2 = train_df2.drop(columns=['label'])\n",
    "y_train2 = train_df2[\"label\"]\n",
    "X_test2 = test_df2.drop(columns=['label'])\n",
    "y_test2 = test_df2[\"label\"]\n",
    "\n",
    "smote2 = SMOTE(sampling_strategy='all', random_state=42)\n",
    "X_train2, y_train2 = smote2.fit_resample(X_train2, y_train2)"
   ]
  },
  {
   "cell_type": "markdown",
   "id": "0a0a990e-57e3-438b-a944-bd8cef1ec57f",
   "metadata": {},
   "source": [
    "## 2. Train-validation split"
   ]
  },
  {
   "cell_type": "code",
   "execution_count": 5,
   "id": "cc60398b-1b1c-4b73-8ed1-78705743a1e9",
   "metadata": {},
   "outputs": [],
   "source": [
    "# Split into 80% train and 20% validation sets\n",
    "# X_train, X_val, y_train, y_val = train_test_split(X, y, test_size=0.2, random_state=42, stratify=y)"
   ]
  },
  {
   "cell_type": "markdown",
   "id": "7382a7e8-f576-4aed-998b-22ae79e459f6",
   "metadata": {},
   "source": [
    "## 4. Train Random Forest Classifier"
   ]
  },
  {
   "cell_type": "code",
   "execution_count": null,
   "id": "43babbf8-e900-4ce6-bbc4-fd0b06d94920",
   "metadata": {},
   "outputs": [],
   "source": [
    "rf_model = RandomForestClassifier(n_estimators=100, random_state=42)\n",
    "rf_model.fit(X_train, y_train)\n",
    "y_pred_rf = rf_model.predict(X_test)\n",
    "y_pred_rf_prob = rf_model.predict_proba(X_test)\n",
    "\n",
    "wandb.init(entity='cs4248-nlp-project',project=f\"{project_name}-{dataset}\", name=\"random-forest-classifier-selected-features\")\n",
    "common.evaluate(y_test, y_pred_rf, label_encoder, \"Random Forest Classifier selected-features\")\n",
    "wandb.finish()"
   ]
  },
  {
   "cell_type": "code",
   "execution_count": null,
   "id": "d392ca21",
   "metadata": {},
   "outputs": [],
   "source": [
    "rf_model2 = RandomForestClassifier(n_estimators=100, random_state=42)\n",
    "rf_model2.fit(X_train2, y_train2)\n",
    "y_pred_rf2 = rf_model2.predict(X_test)\n",
    "y_pred_rf_prob2 = rf_model2.predict_proba(X_test)\n",
    "\n",
    "wandb.init(entity='cs4248-nlp-project',project=f\"{project_name}-{dataset}\", name=\"random-forest-classifier-selected_features-glove\")\n",
    "common.evaluate(y_test, y_pred_rf, label_encoder, \"Random Forest Classifier selected-features-glove\")\n",
    "wandb.finish()"
   ]
  },
  {
   "cell_type": "code",
   "execution_count": null,
   "id": "dbc7a77e",
   "metadata": {},
   "outputs": [],
   "source": [
    "avg_probs = (y_pred_rf_prob+y_pred_rf_prob2) / 2\n",
    "y_pred_voted = np.argmax(avg_probs, axis=1)"
   ]
  },
  {
   "cell_type": "code",
   "execution_count": null,
   "id": "b19a96bb",
   "metadata": {},
   "outputs": [],
   "source": [
    "wandb.init(entity='cs4248-nlp-project',project=f\"{project_name}-{dataset}\", name=\"random-forest-classifier-selected_features-voted\")\n",
    "common.evaluate(y_test, y_pred_voted, label_encoder, \"Random Forest Classifier selected-features-voted\")\n",
    "wandb.finish()"
   ]
  }
 ],
 "metadata": {
  "kernelspec": {
   "display_name": "nlp_proj",
   "language": "python",
   "name": "python3"
  },
  "language_info": {
   "codemirror_mode": {
    "name": "ipython",
    "version": 3
   },
   "file_extension": ".py",
   "mimetype": "text/x-python",
   "name": "python",
   "nbconvert_exporter": "python",
   "pygments_lexer": "ipython3",
   "version": "3.11.0"
  }
 },
 "nbformat": 4,
 "nbformat_minor": 5
}
