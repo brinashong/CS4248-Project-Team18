{
 "cells": [
  {
   "cell_type": "markdown",
   "id": "7b495769-0bf0-49bf-af8f-a626ced60b13",
   "metadata": {},
   "source": [
    "# Data Preprocessing"
   ]
  },
  {
   "cell_type": "code",
   "execution_count": 4,
   "id": "6b0cb200-b341-4caa-92e5-5ffaf10d85ef",
   "metadata": {},
   "outputs": [
    {
     "name": "stderr",
     "output_type": "stream",
     "text": [
      "[nltk_data] Downloading package punkt to\n",
      "[nltk_data]     C:\\Users\\nont\\AppData\\Roaming\\nltk_data...\n",
      "[nltk_data]   Package punkt is already up-to-date!\n",
      "[nltk_data] Downloading package stopwords to\n",
      "[nltk_data]     C:\\Users\\nont\\AppData\\Roaming\\nltk_data...\n",
      "[nltk_data]   Package stopwords is already up-to-date!\n",
      "[nltk_data] Downloading package wordnet to\n",
      "[nltk_data]     C:\\Users\\nont\\AppData\\Roaming\\nltk_data...\n",
      "[nltk_data]   Package wordnet is already up-to-date!\n"
     ]
    },
    {
     "data": {
      "text/plain": [
       "True"
      ]
     },
     "execution_count": 4,
     "metadata": {},
     "output_type": "execute_result"
    }
   ],
   "source": [
    "import pandas as pd\n",
    "import re\n",
    "import nltk\n",
    "from nltk.corpus import stopwords\n",
    "from nltk.tokenize import word_tokenize\n",
    "from nltk.stem import WordNetLemmatizer\n",
    "from sklearn.feature_extraction.text import TfidfVectorizer\n",
    "from sklearn.preprocessing import LabelEncoder, OneHotEncoder\n",
    "import numpy as np\n",
    "import matplotlib.pyplot as plt\n",
    "from wordcloud import WordCloud\n",
    "import scipy.sparse\n",
    "import joblib\n",
    "from collections import Counter\n",
    "import re\n",
    "import string\n",
    "import os\n",
    "\n",
    "nltk.download('punkt')\n",
    "nltk.download('stopwords')\n",
    "nltk.download('wordnet')"
   ]
  },
  {
   "cell_type": "markdown",
   "id": "ff92fa63-fc3b-421d-979b-f2ed0de22729",
   "metadata": {},
   "source": [
    "## Parameters"
   ]
  },
  {
   "cell_type": "code",
   "execution_count": 5,
   "id": "d6cdfac0-5264-438c-9ed4-e9dc26ac3638",
   "metadata": {},
   "outputs": [],
   "source": [
    "# change this accordingly\n",
    "project_path = os.path.abspath(os.path.join(os.getcwd(), os.pardir))\n",
    "\n",
    "save_path = f\"{project_path}/scicite_preprocessed\""
   ]
  },
  {
   "cell_type": "markdown",
   "id": "0c329344-3e60-4d07-aee0-1b144e1e7f07",
   "metadata": {},
   "source": [
    "## 1. Load dataset"
   ]
  },
  {
   "cell_type": "code",
   "execution_count": 6,
   "id": "b4444e53-0918-4c5e-9599-b9a83c19f6e6",
   "metadata": {},
   "outputs": [
    {
     "data": {
      "application/vnd.microsoft.datawrangler.viewer.v0+json": {
       "columns": [
        {
         "name": "index",
         "rawType": "int64",
         "type": "integer"
        },
        {
         "name": "source",
         "rawType": "object",
         "type": "string"
        },
        {
         "name": "citeEnd",
         "rawType": "float64",
         "type": "float"
        },
        {
         "name": "sectionName",
         "rawType": "object",
         "type": "string"
        },
        {
         "name": "citeStart",
         "rawType": "float64",
         "type": "float"
        },
        {
         "name": "string",
         "rawType": "object",
         "type": "string"
        },
        {
         "name": "label",
         "rawType": "object",
         "type": "string"
        },
        {
         "name": "label_confidence",
         "rawType": "float64",
         "type": "float"
        },
        {
         "name": "citingPaperId",
         "rawType": "object",
         "type": "string"
        },
        {
         "name": "citedPaperId",
         "rawType": "object",
         "type": "string"
        },
        {
         "name": "isKeyCitation",
         "rawType": "bool",
         "type": "boolean"
        },
        {
         "name": "id",
         "rawType": "object",
         "type": "string"
        },
        {
         "name": "unique_id",
         "rawType": "object",
         "type": "string"
        },
        {
         "name": "excerpt_index",
         "rawType": "int64",
         "type": "integer"
        },
        {
         "name": "label2",
         "rawType": "object",
         "type": "unknown"
        },
        {
         "name": "label2_confidence",
         "rawType": "float64",
         "type": "float"
        }
       ],
       "conversionMethod": "pd.DataFrame",
       "ref": "74667ffe-aa3e-4f58-b963-21fb6cd3969a",
       "rows": [
        [
         "0",
         "explicit",
         "175.0",
         "Introduction",
         "168.0",
         "However, how frataxin interacts with the Fe-S cluster biosynthesis components remains unclear as direct one-to-one interactions with each component were reported (IscS [12,22], IscU/Isu1 [6,11,16] or ISD11/Isd11 [14,15]).",
         "background",
         "1.0",
         "1872080baa7d30ec8fb87be9a65358cd3a7fb649",
         "894be9b4ea46a5c422e81ef3c241072d4c73fdc0",
         "True",
         "1872080baa7d30ec8fb87be9a65358cd3a7fb649>894be9b4ea46a5c422e81ef3c241072d4c73fdc0",
         "1872080baa7d30ec8fb87be9a65358cd3a7fb649>894be9b4ea46a5c422e81ef3c241072d4c73fdc0_11",
         "11",
         null,
         null
        ],
        [
         "1",
         "explicit",
         "36.0",
         "Novel Quantitative Trait Loci for Seminal Root Traits in Barley",
         "16.0",
         "In the study by Hickey et al. (2012), spikes were sampled from the field at the point of physiological\nrobinson et al.: genomic regions influencing root traits in barley 11 of 13\nmaturity, dried, grain threshed by hand, and stored at −20C to preserve grain dormancy before germination testing.",
         "background",
         "1.0",
         "ce1d09a4a3a8d7fd3405b9328f65f00c952cf64b",
         "b6642e19efb8db5623b3cc4eef1c5822a6151107",
         "True",
         "ce1d09a4a3a8d7fd3405b9328f65f00c952cf64b>b6642e19efb8db5623b3cc4eef1c5822a6151107",
         "ce1d09a4a3a8d7fd3405b9328f65f00c952cf64b>b6642e19efb8db5623b3cc4eef1c5822a6151107_2",
         "2",
         null,
         null
        ],
        [
         "2",
         "explicit",
         "228.0",
         "Introduction",
         "225.0",
         "The drug also reduces catecholamine secretion, thereby reducing stress and leading to a modest (10-20%) reduction in heart rate and blood pressure, which may be particularly beneficial in patients with cardiovascular disease.(7) Unlike midazolam, dexmedetomidine does not affect the ventilatory response to carbon dioxide.",
         "background",
         "1.0",
         "9cdf605beb1aa1078f235c4332b3024daa8b31dc",
         "4e6a17fb8d7a3cada601d942e22eb5da6d01adbd",
         "False",
         "9cdf605beb1aa1078f235c4332b3024daa8b31dc>4e6a17fb8d7a3cada601d942e22eb5da6d01adbd",
         "9cdf605beb1aa1078f235c4332b3024daa8b31dc>4e6a17fb8d7a3cada601d942e22eb5da6d01adbd_0",
         "0",
         null,
         null
        ],
        [
         "3",
         "explicit",
         "110.0",
         "Discussion",
         "46.0",
         "By clustering with lowly aggressive close kin (King 1989a,b; Viblanc et al. 2010; Arnaud, Dobson & Murie 2012), breeding females may decrease the time/energy cost of maintaining territorial boundaries (Festa-Bianchet & Boag 1982; Murie & Harris 1988), which could ultimately lead to increases in net energy income (TA) or higher allocations in somatic or reproductive functions.",
         "background",
         "1.0",
         "d9f3207db0c79a3b154f3875c9760cc6b056904b",
         "2cc6ff899bf17666ad35893524a4d61624555ed7",
         "False",
         "d9f3207db0c79a3b154f3875c9760cc6b056904b>2cc6ff899bf17666ad35893524a4d61624555ed7",
         "d9f3207db0c79a3b154f3875c9760cc6b056904b>2cc6ff899bf17666ad35893524a4d61624555ed7_3",
         "3",
         null,
         null
        ],
        [
         "4",
         "explicit",
         "239.0",
         "Discussion",
         "234.0",
         "Ophthalmic symptoms are rare manifestations of the intracranial arachnoid cyst, and include unilateral exophthalmos, visual field abnormality, decreased visual acuity and isolated palsies of the third, fourth and sixth cranial nerves [1–5].",
         "background",
         "1.0",
         "88b86556857f4374842d2af2e359576806239175",
         "a5bb0ff1a026944d2a47a155462959af2b8505a8",
         "False",
         "88b86556857f4374842d2af2e359576806239175>a5bb0ff1a026944d2a47a155462959af2b8505a8",
         "88b86556857f4374842d2af2e359576806239175>a5bb0ff1a026944d2a47a155462959af2b8505a8_2",
         "2",
         null,
         null
        ]
       ],
       "shape": {
        "columns": 15,
        "rows": 5
       }
      },
      "text/html": [
       "<div>\n",
       "<style scoped>\n",
       "    .dataframe tbody tr th:only-of-type {\n",
       "        vertical-align: middle;\n",
       "    }\n",
       "\n",
       "    .dataframe tbody tr th {\n",
       "        vertical-align: top;\n",
       "    }\n",
       "\n",
       "    .dataframe thead th {\n",
       "        text-align: right;\n",
       "    }\n",
       "</style>\n",
       "<table border=\"1\" class=\"dataframe\">\n",
       "  <thead>\n",
       "    <tr style=\"text-align: right;\">\n",
       "      <th></th>\n",
       "      <th>source</th>\n",
       "      <th>citeEnd</th>\n",
       "      <th>sectionName</th>\n",
       "      <th>citeStart</th>\n",
       "      <th>string</th>\n",
       "      <th>label</th>\n",
       "      <th>label_confidence</th>\n",
       "      <th>citingPaperId</th>\n",
       "      <th>citedPaperId</th>\n",
       "      <th>isKeyCitation</th>\n",
       "      <th>id</th>\n",
       "      <th>unique_id</th>\n",
       "      <th>excerpt_index</th>\n",
       "      <th>label2</th>\n",
       "      <th>label2_confidence</th>\n",
       "    </tr>\n",
       "  </thead>\n",
       "  <tbody>\n",
       "    <tr>\n",
       "      <th>0</th>\n",
       "      <td>explicit</td>\n",
       "      <td>175.0</td>\n",
       "      <td>Introduction</td>\n",
       "      <td>168.0</td>\n",
       "      <td>However, how frataxin interacts with the Fe-S ...</td>\n",
       "      <td>background</td>\n",
       "      <td>1.0</td>\n",
       "      <td>1872080baa7d30ec8fb87be9a65358cd3a7fb649</td>\n",
       "      <td>894be9b4ea46a5c422e81ef3c241072d4c73fdc0</td>\n",
       "      <td>True</td>\n",
       "      <td>1872080baa7d30ec8fb87be9a65358cd3a7fb649&gt;894be...</td>\n",
       "      <td>1872080baa7d30ec8fb87be9a65358cd3a7fb649&gt;894be...</td>\n",
       "      <td>11</td>\n",
       "      <td>NaN</td>\n",
       "      <td>NaN</td>\n",
       "    </tr>\n",
       "    <tr>\n",
       "      <th>1</th>\n",
       "      <td>explicit</td>\n",
       "      <td>36.0</td>\n",
       "      <td>Novel Quantitative Trait Loci for Seminal Root...</td>\n",
       "      <td>16.0</td>\n",
       "      <td>In the study by Hickey et al. (2012), spikes w...</td>\n",
       "      <td>background</td>\n",
       "      <td>1.0</td>\n",
       "      <td>ce1d09a4a3a8d7fd3405b9328f65f00c952cf64b</td>\n",
       "      <td>b6642e19efb8db5623b3cc4eef1c5822a6151107</td>\n",
       "      <td>True</td>\n",
       "      <td>ce1d09a4a3a8d7fd3405b9328f65f00c952cf64b&gt;b6642...</td>\n",
       "      <td>ce1d09a4a3a8d7fd3405b9328f65f00c952cf64b&gt;b6642...</td>\n",
       "      <td>2</td>\n",
       "      <td>NaN</td>\n",
       "      <td>NaN</td>\n",
       "    </tr>\n",
       "    <tr>\n",
       "      <th>2</th>\n",
       "      <td>explicit</td>\n",
       "      <td>228.0</td>\n",
       "      <td>Introduction</td>\n",
       "      <td>225.0</td>\n",
       "      <td>The drug also reduces catecholamine secretion,...</td>\n",
       "      <td>background</td>\n",
       "      <td>1.0</td>\n",
       "      <td>9cdf605beb1aa1078f235c4332b3024daa8b31dc</td>\n",
       "      <td>4e6a17fb8d7a3cada601d942e22eb5da6d01adbd</td>\n",
       "      <td>False</td>\n",
       "      <td>9cdf605beb1aa1078f235c4332b3024daa8b31dc&gt;4e6a1...</td>\n",
       "      <td>9cdf605beb1aa1078f235c4332b3024daa8b31dc&gt;4e6a1...</td>\n",
       "      <td>0</td>\n",
       "      <td>NaN</td>\n",
       "      <td>NaN</td>\n",
       "    </tr>\n",
       "    <tr>\n",
       "      <th>3</th>\n",
       "      <td>explicit</td>\n",
       "      <td>110.0</td>\n",
       "      <td>Discussion</td>\n",
       "      <td>46.0</td>\n",
       "      <td>By clustering with lowly aggressive close kin ...</td>\n",
       "      <td>background</td>\n",
       "      <td>1.0</td>\n",
       "      <td>d9f3207db0c79a3b154f3875c9760cc6b056904b</td>\n",
       "      <td>2cc6ff899bf17666ad35893524a4d61624555ed7</td>\n",
       "      <td>False</td>\n",
       "      <td>d9f3207db0c79a3b154f3875c9760cc6b056904b&gt;2cc6f...</td>\n",
       "      <td>d9f3207db0c79a3b154f3875c9760cc6b056904b&gt;2cc6f...</td>\n",
       "      <td>3</td>\n",
       "      <td>NaN</td>\n",
       "      <td>NaN</td>\n",
       "    </tr>\n",
       "    <tr>\n",
       "      <th>4</th>\n",
       "      <td>explicit</td>\n",
       "      <td>239.0</td>\n",
       "      <td>Discussion</td>\n",
       "      <td>234.0</td>\n",
       "      <td>Ophthalmic symptoms are rare manifestations of...</td>\n",
       "      <td>background</td>\n",
       "      <td>1.0</td>\n",
       "      <td>88b86556857f4374842d2af2e359576806239175</td>\n",
       "      <td>a5bb0ff1a026944d2a47a155462959af2b8505a8</td>\n",
       "      <td>False</td>\n",
       "      <td>88b86556857f4374842d2af2e359576806239175&gt;a5bb0...</td>\n",
       "      <td>88b86556857f4374842d2af2e359576806239175&gt;a5bb0...</td>\n",
       "      <td>2</td>\n",
       "      <td>NaN</td>\n",
       "      <td>NaN</td>\n",
       "    </tr>\n",
       "  </tbody>\n",
       "</table>\n",
       "</div>"
      ],
      "text/plain": [
       "     source  citeEnd                                        sectionName  \\\n",
       "0  explicit    175.0                                       Introduction   \n",
       "1  explicit     36.0  Novel Quantitative Trait Loci for Seminal Root...   \n",
       "2  explicit    228.0                                       Introduction   \n",
       "3  explicit    110.0                                         Discussion   \n",
       "4  explicit    239.0                                         Discussion   \n",
       "\n",
       "   citeStart                                             string       label  \\\n",
       "0      168.0  However, how frataxin interacts with the Fe-S ...  background   \n",
       "1       16.0  In the study by Hickey et al. (2012), spikes w...  background   \n",
       "2      225.0  The drug also reduces catecholamine secretion,...  background   \n",
       "3       46.0  By clustering with lowly aggressive close kin ...  background   \n",
       "4      234.0  Ophthalmic symptoms are rare manifestations of...  background   \n",
       "\n",
       "   label_confidence                             citingPaperId  \\\n",
       "0               1.0  1872080baa7d30ec8fb87be9a65358cd3a7fb649   \n",
       "1               1.0  ce1d09a4a3a8d7fd3405b9328f65f00c952cf64b   \n",
       "2               1.0  9cdf605beb1aa1078f235c4332b3024daa8b31dc   \n",
       "3               1.0  d9f3207db0c79a3b154f3875c9760cc6b056904b   \n",
       "4               1.0  88b86556857f4374842d2af2e359576806239175   \n",
       "\n",
       "                               citedPaperId  isKeyCitation  \\\n",
       "0  894be9b4ea46a5c422e81ef3c241072d4c73fdc0           True   \n",
       "1  b6642e19efb8db5623b3cc4eef1c5822a6151107           True   \n",
       "2  4e6a17fb8d7a3cada601d942e22eb5da6d01adbd          False   \n",
       "3  2cc6ff899bf17666ad35893524a4d61624555ed7          False   \n",
       "4  a5bb0ff1a026944d2a47a155462959af2b8505a8          False   \n",
       "\n",
       "                                                  id  \\\n",
       "0  1872080baa7d30ec8fb87be9a65358cd3a7fb649>894be...   \n",
       "1  ce1d09a4a3a8d7fd3405b9328f65f00c952cf64b>b6642...   \n",
       "2  9cdf605beb1aa1078f235c4332b3024daa8b31dc>4e6a1...   \n",
       "3  d9f3207db0c79a3b154f3875c9760cc6b056904b>2cc6f...   \n",
       "4  88b86556857f4374842d2af2e359576806239175>a5bb0...   \n",
       "\n",
       "                                           unique_id  excerpt_index label2  \\\n",
       "0  1872080baa7d30ec8fb87be9a65358cd3a7fb649>894be...             11    NaN   \n",
       "1  ce1d09a4a3a8d7fd3405b9328f65f00c952cf64b>b6642...              2    NaN   \n",
       "2  9cdf605beb1aa1078f235c4332b3024daa8b31dc>4e6a1...              0    NaN   \n",
       "3  d9f3207db0c79a3b154f3875c9760cc6b056904b>2cc6f...              3    NaN   \n",
       "4  88b86556857f4374842d2af2e359576806239175>a5bb0...              2    NaN   \n",
       "\n",
       "   label2_confidence  \n",
       "0                NaN  \n",
       "1                NaN  \n",
       "2                NaN  \n",
       "3                NaN  \n",
       "4                NaN  "
      ]
     },
     "metadata": {},
     "output_type": "display_data"
    },
    {
     "data": {
      "text/plain": [
       "(8243, 15)"
      ]
     },
     "metadata": {},
     "output_type": "display_data"
    },
    {
     "data": {
      "application/vnd.microsoft.datawrangler.viewer.v0+json": {
       "columns": [
        {
         "name": "index",
         "rawType": "int64",
         "type": "integer"
        },
        {
         "name": "source",
         "rawType": "object",
         "type": "string"
        },
        {
         "name": "citeEnd",
         "rawType": "float64",
         "type": "float"
        },
        {
         "name": "sectionName",
         "rawType": "object",
         "type": "string"
        },
        {
         "name": "citeStart",
         "rawType": "float64",
         "type": "float"
        },
        {
         "name": "string",
         "rawType": "object",
         "type": "string"
        },
        {
         "name": "label",
         "rawType": "object",
         "type": "string"
        },
        {
         "name": "citingPaperId",
         "rawType": "object",
         "type": "string"
        },
        {
         "name": "citedPaperId",
         "rawType": "object",
         "type": "string"
        },
        {
         "name": "isKeyCitation",
         "rawType": "bool",
         "type": "boolean"
        },
        {
         "name": "id",
         "rawType": "object",
         "type": "string"
        },
        {
         "name": "unique_id",
         "rawType": "object",
         "type": "string"
        },
        {
         "name": "excerpt_index",
         "rawType": "int64",
         "type": "integer"
        },
        {
         "name": "label2",
         "rawType": "object",
         "type": "unknown"
        },
        {
         "name": "label_confidence",
         "rawType": "float64",
         "type": "float"
        }
       ],
       "conversionMethod": "pd.DataFrame",
       "ref": "3d95b593-273d-435b-bf21-dbe459801778",
       "rows": [
        [
         "0",
         "acronym",
         "31.0",
         "",
         "28.0",
         "Chapel, as well as X10 [2], UPC [3] , CoArray Fortran [6], and Titanium [5], rely on the Partitioned Global Address Space (PGAS) memory model, which enables\nThe work has been performed under the HPC-EUROPA2 project (project number: 228398) with the support of the European Commission - Capacities Area - Research Infrastructures.",
         "background",
         "2c6797dab4c118cb73197f65ba39dacc99ac743d",
         "95c37bc99982d33873fd141ee00857160fd717a0",
         "True",
         "2c6797dab4c118cb73197f65ba39dacc99ac743d>95c37bc99982d33873fd141ee00857160fd717a0",
         "2c6797dab4c118cb73197f65ba39dacc99ac743d>95c37bc99982d33873fd141ee00857160fd717a0_6",
         "6",
         null,
         null
        ],
        [
         "1",
         "explicit",
         "166.0",
         "Discussion",
         "156.0",
         "In addition, the result of the present study supports previous studies, which did not find increased rates of first-born children among individual with OCD (20,31,34).",
         "result",
         "fa7145adc9f8cfb8af7a189d9040c13c84ced094",
         "20e23b4f76761d246a7c3b00b80e139e2008f77d",
         "False",
         "fa7145adc9f8cfb8af7a189d9040c13c84ced094>20e23b4f76761d246a7c3b00b80e139e2008f77d",
         "fa7145adc9f8cfb8af7a189d9040c13c84ced094>20e23b4f76761d246a7c3b00b80e139e2008f77d_0",
         "0",
         "supportive",
         null
        ],
        [
         "2",
         "explicit",
         "145.0",
         "Discussion",
         "137.0",
         "Several instruments that more specifically address patient-reported outcomes following gastrectomy are now available, albeit in Japanese [23, 24], and studies using these instruments that have shown some noteworthy results are now starting to be published [25–27].",
         "background",
         "98a8d8c0c5dae246720d4f339b88e8a9f44e3002",
         "bd222c7ec83dadefba513738290b3624f6dd6b21",
         "True",
         "98a8d8c0c5dae246720d4f339b88e8a9f44e3002>bd222c7ec83dadefba513738290b3624f6dd6b21",
         "98a8d8c0c5dae246720d4f339b88e8a9f44e3002>bd222c7ec83dadefba513738290b3624f6dd6b21_1",
         "1",
         null,
         null
        ],
        [
         "3",
         "explicit",
         "158.0",
         "Methods",
         "137.0",
         "Organotypic hippocampal slice cultures\nInterface hippocampal slice cultures were prepared as described previously (Stoppini et al. 1991; Boudkkazi et al. 2007; Debanne et al. 2008).",
         "method",
         "aeb178ef1910a61152cd74209c28641199c82855",
         "754c04953c261072fa367f4104e3deff082d9484",
         "False",
         "aeb178ef1910a61152cd74209c28641199c82855>754c04953c261072fa367f4104e3deff082d9484",
         "aeb178ef1910a61152cd74209c28641199c82855>754c04953c261072fa367f4104e3deff082d9484_1",
         "1",
         null,
         "1.0"
        ],
        [
         "4",
         "explicit",
         "186.0",
         "RESULTS",
         "178.0",
         "Activated PBMC are the basis of the standard PBMC blast assay for HIV-1 neutralization, whereas the various GHOST and HeLa cell lines have all been used in neutralization assays (42, 66).",
         "background",
         "e4d2591ac3bb65e2ec59f092884a7b15b8018592",
         "f0fb468a54fe8021bc7986a1618222c4fcd16df4",
         "False",
         "e4d2591ac3bb65e2ec59f092884a7b15b8018592>f0fb468a54fe8021bc7986a1618222c4fcd16df4",
         "e4d2591ac3bb65e2ec59f092884a7b15b8018592>f0fb468a54fe8021bc7986a1618222c4fcd16df4_6",
         "6",
         null,
         null
        ]
       ],
       "shape": {
        "columns": 14,
        "rows": 5
       }
      },
      "text/html": [
       "<div>\n",
       "<style scoped>\n",
       "    .dataframe tbody tr th:only-of-type {\n",
       "        vertical-align: middle;\n",
       "    }\n",
       "\n",
       "    .dataframe tbody tr th {\n",
       "        vertical-align: top;\n",
       "    }\n",
       "\n",
       "    .dataframe thead th {\n",
       "        text-align: right;\n",
       "    }\n",
       "</style>\n",
       "<table border=\"1\" class=\"dataframe\">\n",
       "  <thead>\n",
       "    <tr style=\"text-align: right;\">\n",
       "      <th></th>\n",
       "      <th>source</th>\n",
       "      <th>citeEnd</th>\n",
       "      <th>sectionName</th>\n",
       "      <th>citeStart</th>\n",
       "      <th>string</th>\n",
       "      <th>label</th>\n",
       "      <th>citingPaperId</th>\n",
       "      <th>citedPaperId</th>\n",
       "      <th>isKeyCitation</th>\n",
       "      <th>id</th>\n",
       "      <th>unique_id</th>\n",
       "      <th>excerpt_index</th>\n",
       "      <th>label2</th>\n",
       "      <th>label_confidence</th>\n",
       "    </tr>\n",
       "  </thead>\n",
       "  <tbody>\n",
       "    <tr>\n",
       "      <th>0</th>\n",
       "      <td>acronym</td>\n",
       "      <td>31.0</td>\n",
       "      <td></td>\n",
       "      <td>28.0</td>\n",
       "      <td>Chapel, as well as X10 [2], UPC [3] , CoArray ...</td>\n",
       "      <td>background</td>\n",
       "      <td>2c6797dab4c118cb73197f65ba39dacc99ac743d</td>\n",
       "      <td>95c37bc99982d33873fd141ee00857160fd717a0</td>\n",
       "      <td>True</td>\n",
       "      <td>2c6797dab4c118cb73197f65ba39dacc99ac743d&gt;95c37...</td>\n",
       "      <td>2c6797dab4c118cb73197f65ba39dacc99ac743d&gt;95c37...</td>\n",
       "      <td>6</td>\n",
       "      <td>NaN</td>\n",
       "      <td>NaN</td>\n",
       "    </tr>\n",
       "    <tr>\n",
       "      <th>1</th>\n",
       "      <td>explicit</td>\n",
       "      <td>166.0</td>\n",
       "      <td>Discussion</td>\n",
       "      <td>156.0</td>\n",
       "      <td>In addition, the result of the present study s...</td>\n",
       "      <td>result</td>\n",
       "      <td>fa7145adc9f8cfb8af7a189d9040c13c84ced094</td>\n",
       "      <td>20e23b4f76761d246a7c3b00b80e139e2008f77d</td>\n",
       "      <td>False</td>\n",
       "      <td>fa7145adc9f8cfb8af7a189d9040c13c84ced094&gt;20e23...</td>\n",
       "      <td>fa7145adc9f8cfb8af7a189d9040c13c84ced094&gt;20e23...</td>\n",
       "      <td>0</td>\n",
       "      <td>supportive</td>\n",
       "      <td>NaN</td>\n",
       "    </tr>\n",
       "    <tr>\n",
       "      <th>2</th>\n",
       "      <td>explicit</td>\n",
       "      <td>145.0</td>\n",
       "      <td>Discussion</td>\n",
       "      <td>137.0</td>\n",
       "      <td>Several instruments that more specifically add...</td>\n",
       "      <td>background</td>\n",
       "      <td>98a8d8c0c5dae246720d4f339b88e8a9f44e3002</td>\n",
       "      <td>bd222c7ec83dadefba513738290b3624f6dd6b21</td>\n",
       "      <td>True</td>\n",
       "      <td>98a8d8c0c5dae246720d4f339b88e8a9f44e3002&gt;bd222...</td>\n",
       "      <td>98a8d8c0c5dae246720d4f339b88e8a9f44e3002&gt;bd222...</td>\n",
       "      <td>1</td>\n",
       "      <td>NaN</td>\n",
       "      <td>NaN</td>\n",
       "    </tr>\n",
       "    <tr>\n",
       "      <th>3</th>\n",
       "      <td>explicit</td>\n",
       "      <td>158.0</td>\n",
       "      <td>Methods</td>\n",
       "      <td>137.0</td>\n",
       "      <td>Organotypic hippocampal slice cultures\\nInterf...</td>\n",
       "      <td>method</td>\n",
       "      <td>aeb178ef1910a61152cd74209c28641199c82855</td>\n",
       "      <td>754c04953c261072fa367f4104e3deff082d9484</td>\n",
       "      <td>False</td>\n",
       "      <td>aeb178ef1910a61152cd74209c28641199c82855&gt;754c0...</td>\n",
       "      <td>aeb178ef1910a61152cd74209c28641199c82855&gt;754c0...</td>\n",
       "      <td>1</td>\n",
       "      <td>NaN</td>\n",
       "      <td>1.0</td>\n",
       "    </tr>\n",
       "    <tr>\n",
       "      <th>4</th>\n",
       "      <td>explicit</td>\n",
       "      <td>186.0</td>\n",
       "      <td>RESULTS</td>\n",
       "      <td>178.0</td>\n",
       "      <td>Activated PBMC are the basis of the standard P...</td>\n",
       "      <td>background</td>\n",
       "      <td>e4d2591ac3bb65e2ec59f092884a7b15b8018592</td>\n",
       "      <td>f0fb468a54fe8021bc7986a1618222c4fcd16df4</td>\n",
       "      <td>False</td>\n",
       "      <td>e4d2591ac3bb65e2ec59f092884a7b15b8018592&gt;f0fb4...</td>\n",
       "      <td>e4d2591ac3bb65e2ec59f092884a7b15b8018592&gt;f0fb4...</td>\n",
       "      <td>6</td>\n",
       "      <td>NaN</td>\n",
       "      <td>NaN</td>\n",
       "    </tr>\n",
       "  </tbody>\n",
       "</table>\n",
       "</div>"
      ],
      "text/plain": [
       "     source  citeEnd sectionName  citeStart  \\\n",
       "0   acronym     31.0                   28.0   \n",
       "1  explicit    166.0  Discussion      156.0   \n",
       "2  explicit    145.0  Discussion      137.0   \n",
       "3  explicit    158.0     Methods      137.0   \n",
       "4  explicit    186.0     RESULTS      178.0   \n",
       "\n",
       "                                              string       label  \\\n",
       "0  Chapel, as well as X10 [2], UPC [3] , CoArray ...  background   \n",
       "1  In addition, the result of the present study s...      result   \n",
       "2  Several instruments that more specifically add...  background   \n",
       "3  Organotypic hippocampal slice cultures\\nInterf...      method   \n",
       "4  Activated PBMC are the basis of the standard P...  background   \n",
       "\n",
       "                              citingPaperId  \\\n",
       "0  2c6797dab4c118cb73197f65ba39dacc99ac743d   \n",
       "1  fa7145adc9f8cfb8af7a189d9040c13c84ced094   \n",
       "2  98a8d8c0c5dae246720d4f339b88e8a9f44e3002   \n",
       "3  aeb178ef1910a61152cd74209c28641199c82855   \n",
       "4  e4d2591ac3bb65e2ec59f092884a7b15b8018592   \n",
       "\n",
       "                               citedPaperId  isKeyCitation  \\\n",
       "0  95c37bc99982d33873fd141ee00857160fd717a0           True   \n",
       "1  20e23b4f76761d246a7c3b00b80e139e2008f77d          False   \n",
       "2  bd222c7ec83dadefba513738290b3624f6dd6b21           True   \n",
       "3  754c04953c261072fa367f4104e3deff082d9484          False   \n",
       "4  f0fb468a54fe8021bc7986a1618222c4fcd16df4          False   \n",
       "\n",
       "                                                  id  \\\n",
       "0  2c6797dab4c118cb73197f65ba39dacc99ac743d>95c37...   \n",
       "1  fa7145adc9f8cfb8af7a189d9040c13c84ced094>20e23...   \n",
       "2  98a8d8c0c5dae246720d4f339b88e8a9f44e3002>bd222...   \n",
       "3  aeb178ef1910a61152cd74209c28641199c82855>754c0...   \n",
       "4  e4d2591ac3bb65e2ec59f092884a7b15b8018592>f0fb4...   \n",
       "\n",
       "                                           unique_id  excerpt_index  \\\n",
       "0  2c6797dab4c118cb73197f65ba39dacc99ac743d>95c37...              6   \n",
       "1  fa7145adc9f8cfb8af7a189d9040c13c84ced094>20e23...              0   \n",
       "2  98a8d8c0c5dae246720d4f339b88e8a9f44e3002>bd222...              1   \n",
       "3  aeb178ef1910a61152cd74209c28641199c82855>754c0...              1   \n",
       "4  e4d2591ac3bb65e2ec59f092884a7b15b8018592>f0fb4...              6   \n",
       "\n",
       "       label2  label_confidence  \n",
       "0         NaN               NaN  \n",
       "1  supportive               NaN  \n",
       "2         NaN               NaN  \n",
       "3         NaN               1.0  \n",
       "4         NaN               NaN  "
      ]
     },
     "metadata": {},
     "output_type": "display_data"
    },
    {
     "data": {
      "text/plain": [
       "(1861, 14)"
      ]
     },
     "metadata": {},
     "output_type": "display_data"
    }
   ],
   "source": [
    "dataset_dir = f\"{project_path}/scicite\"\n",
    "train_df = pd.read_json(f\"{dataset_dir}/train.jsonl\", lines=True)\n",
    "test_df = pd.read_json(f\"{dataset_dir}/test.jsonl\", lines=True)\n",
    "\n",
    "display(\n",
    "    train_df.head(),\n",
    "    train_df.shape,\n",
    "    test_df.head(),\n",
    "    test_df.shape\n",
    ")"
   ]
  },
  {
   "cell_type": "markdown",
   "id": "345eb1f3",
   "metadata": {},
   "source": [
    "## 2. Data Cleaning\n",
    "\n",
    "##### Final Columns\n",
    "* source: text -> categorical\n",
    "* citeEnd: float\n",
    "* citeStart: float\n",
    "* sectionName: text -> categorical\n",
    "* string: text -> embedding (vectorized)\n",
    "* iskeyCitation: bool -> categorical\n",
    "* excerpt index: int\n",
    "* label: text -> categorical"
   ]
  },
  {
   "cell_type": "markdown",
   "id": "ac6d0a85-418b-4b18-9c83-ad9b0c677174",
   "metadata": {},
   "source": [
    "#### 2.1 Drop unwanted columns"
   ]
  },
  {
   "cell_type": "code",
   "execution_count": 7,
   "id": "9698efd8-6e65-432c-9cc5-0bf26e5c0df6",
   "metadata": {},
   "outputs": [
    {
     "data": {
      "text/plain": [
       "Index(['source', 'citeEnd', 'sectionName', 'citeStart', 'label',\n",
       "       'isKeyCitation', 'excerpt_index'],\n",
       "      dtype='object')"
      ]
     },
     "metadata": {},
     "output_type": "display_data"
    },
    {
     "data": {
      "text/plain": [
       "(8243, 7)"
      ]
     },
     "metadata": {},
     "output_type": "display_data"
    },
    {
     "data": {
      "text/plain": [
       "Index(['source', 'citeEnd', 'sectionName', 'citeStart', 'label',\n",
       "       'isKeyCitation', 'excerpt_index'],\n",
       "      dtype='object')"
      ]
     },
     "metadata": {},
     "output_type": "display_data"
    },
    {
     "data": {
      "text/plain": [
       "(1861, 7)"
      ]
     },
     "metadata": {},
     "output_type": "display_data"
    }
   ],
   "source": [
    "train_df = train_df.drop(columns=['label_confidence','citingPaperId','citedPaperId','id','unique_id','label2','label2_confidence','string'])\n",
    "test_df = test_df.drop(columns=['label_confidence','citingPaperId','citedPaperId','id','unique_id','label2','string'])\n",
    "\n",
    "display(\n",
    "    train_df.columns,\n",
    "    train_df.shape,\n",
    "    test_df.columns,\n",
    "    test_df.shape\n",
    ")"
   ]
  },
  {
   "cell_type": "markdown",
   "id": "096c27da-c794-4ddf-ab0f-fbfdba0f33cc",
   "metadata": {},
   "source": [
    "#### 2.2 Drop selected null rows"
   ]
  },
  {
   "cell_type": "code",
   "execution_count": 8,
   "id": "ad0f1447-7099-4d6b-8048-89a048b96401",
   "metadata": {},
   "outputs": [
    {
     "name": "stdout",
     "output_type": "stream",
     "text": [
      "\n",
      "Train dataset:\n",
      "source null value: 2\n",
      "citeEnd null value: 2\n",
      "sectionName null value: 19\n",
      "citeStart null value: 2\n",
      "label null value: 0\n",
      "isKeyCitation null value: 0\n",
      "excerpt_index null value: 0\n",
      "\n",
      "Test dataset:\n",
      "source null value: 3\n",
      "citeEnd null value: 3\n",
      "sectionName null value: 10\n",
      "citeStart null value: 3\n",
      "label null value: 0\n",
      "isKeyCitation null value: 0\n",
      "excerpt_index null value: 0\n"
     ]
    }
   ],
   "source": [
    "# Define a function to check null values\n",
    "def check_nulls(df, name):\n",
    "    print(f\"\\n{name} dataset:\")\n",
    "    for column in df.columns:\n",
    "        print(f\"{column} null value:\", df[column].isnull().sum())\n",
    "\n",
    "# Check null values for both train and test datasets\n",
    "check_nulls(train_df, \"Train\")\n",
    "check_nulls(test_df, \"Test\")"
   ]
  },
  {
   "cell_type": "code",
   "execution_count": 9,
   "id": "1f61a5d7-ab85-4bb9-afbc-d901452b8b64",
   "metadata": {},
   "outputs": [
    {
     "name": "stdout",
     "output_type": "stream",
     "text": [
      "\n",
      "Train dataset:\n",
      "Number of null values in 'source': 0\n",
      "Number of null values in 'citeEnd': 0\n",
      "Number of null values in 'citeStart': 0\n",
      "\n",
      "Test dataset:\n",
      "Number of null values in 'source': 0\n",
      "Number of null values in 'citeEnd': 0\n",
      "Number of null values in 'citeStart': 0\n"
     ]
    }
   ],
   "source": [
    "def drop_and_display_nulls(df, name):\n",
    "    df = df.dropna(subset=['source', 'citeEnd', 'citeStart'])\n",
    "    print(f\"\\n{name} dataset:\")\n",
    "    for column in ['source', 'citeEnd', 'citeStart']:\n",
    "        print(f\"Number of null values in '{column}': {df[column].isnull().sum()}\")\n",
    "    return df\n",
    "\n",
    "# Apply function to both train and test datasets\n",
    "train_df = drop_and_display_nulls(train_df, \"Train\")\n",
    "test_df = drop_and_display_nulls(test_df, \"Test\")"
   ]
  },
  {
   "cell_type": "markdown",
   "id": "209290b9-30a5-4e7d-99cb-e4f31a6e995e",
   "metadata": {},
   "source": [
    "#### 2.3 One-hot encoding for 'source' and 'isKeyCitation' columns"
   ]
  },
  {
   "cell_type": "code",
   "execution_count": 10,
   "id": "61304139-6026-410c-86c2-8dd10e328442",
   "metadata": {},
   "outputs": [
    {
     "name": "stdout",
     "output_type": "stream",
     "text": [
      "Train Source Mapping: ['source_acronym' 'source_acronymParen' 'source_andPhrase'\n",
      " 'source_etAlPhrase' 'source_explicit' 'source_properNoun']\n",
      "Train Key Citation Mapping: ['isKeyCitation_False' 'isKeyCitation_True']\n",
      "Train DataFrame Shape: (8241, 13)\n",
      "\n",
      "Test Source Mapping: ['source_acronym' 'source_acronymParen' 'source_andPhrase'\n",
      " 'source_etAlPhrase' 'source_explicit' 'source_properNoun']\n",
      "Test Key Citation Mapping: ['isKeyCitation_False' 'isKeyCitation_True']\n",
      "Test DataFrame Shape: (1858, 13)\n"
     ]
    }
   ],
   "source": [
    "def one_hot_encode_and_concat(df, column_name):\n",
    "    one_hot_encoder = OneHotEncoder(sparse_output=False, handle_unknown='ignore')\n",
    "    \n",
    "    # Fit and transform the specified column\n",
    "    one_hot_encoded = one_hot_encoder.fit_transform(df[[column_name]])\n",
    "    one_hot_columns = one_hot_encoder.get_feature_names_out([column_name])\n",
    "    \n",
    "    # Create DataFrame for one-hot encoded values\n",
    "    df_one_hot = pd.DataFrame(one_hot_encoded, columns=one_hot_columns, index=df.index)\n",
    "    \n",
    "    # Concatenate the one-hot encoded DataFrame with the original DataFrame\n",
    "    df = pd.concat([df, df_one_hot], axis=1)\n",
    "    \n",
    "    # Drop the original categorical column\n",
    "    df.drop(columns=[column_name], inplace=True)\n",
    "    \n",
    "    return df, one_hot_columns\n",
    "\n",
    "# Apply the function to both train and test datasets\n",
    "train_df, source_columns_train = one_hot_encode_and_concat(train_df, 'source')\n",
    "train_df, key_citation_columns_train = one_hot_encode_and_concat(train_df, 'isKeyCitation')\n",
    "\n",
    "test_df, source_columns_test = one_hot_encode_and_concat(test_df, 'source')\n",
    "test_df, key_citation_columns_test = one_hot_encode_and_concat(test_df, 'isKeyCitation')\n",
    "\n",
    "# Show the mappings for both datasets\n",
    "print(\"Train Source Mapping:\", source_columns_train)\n",
    "print(\"Train Key Citation Mapping:\", key_citation_columns_train)\n",
    "print(\"Train DataFrame Shape:\", train_df.shape)\n",
    "\n",
    "print(\"\\nTest Source Mapping:\", source_columns_test)\n",
    "print(\"Test Key Citation Mapping:\", key_citation_columns_test)\n",
    "print(\"Test DataFrame Shape:\", test_df.shape)"
   ]
  },
  {
   "cell_type": "markdown",
   "id": "9e4b79a7-f71f-4f8b-a04f-f58c83488d4d",
   "metadata": {},
   "source": [
    "#### 2.4 Clean 'sectionName' column"
   ]
  },
  {
   "cell_type": "markdown",
   "id": "8b1af0a2-0169-4393-a34e-ce232ed1b051",
   "metadata": {},
   "source": [
    "- replace NaN and empty strings with \"Unknown\""
   ]
  },
  {
   "cell_type": "code",
   "execution_count": 11,
   "id": "8decef10-4a2f-4b58-8b70-abc4a44b5cd9",
   "metadata": {},
   "outputs": [
    {
     "name": "stdout",
     "output_type": "stream",
     "text": [
      "Train dataset:\n",
      "Before replacement in 'sectionName':\n",
      "NaN values: 19\n",
      "Empty strings: 587\n",
      "\n",
      "After replacement in 'sectionName':\n",
      "NaN values: 0\n",
      "Empty strings: 0\n",
      "\n",
      "Test dataset:\n",
      "Before replacement in 'sectionName':\n",
      "NaN values: 10\n",
      "Empty strings: 66\n",
      "\n",
      "After replacement in 'sectionName':\n",
      "NaN values: 0\n",
      "Empty strings: 0\n"
     ]
    }
   ],
   "source": [
    "def replace_empty_and_nan(df, column_name):\n",
    "    # Before replacement\n",
    "    num_nan = df[column_name].isna().sum()\n",
    "    num_empty = (df[column_name] == '').sum()\n",
    "    print(f\"Before replacement in '{column_name}':\")\n",
    "    print(f\"NaN values: {num_nan}\")\n",
    "    print(f\"Empty strings: {num_empty}\")\n",
    "\n",
    "    # Replacement\n",
    "    df[column_name] = df[column_name].replace('', np.nan).fillna(\"Unknown\")\n",
    "\n",
    "    # After replacement\n",
    "    num_nan = df[column_name].isna().sum()\n",
    "    num_empty = (df[column_name] == '').sum()\n",
    "    print(f\"\\nAfter replacement in '{column_name}':\")\n",
    "    print(f\"NaN values: {num_nan}\")\n",
    "    print(f\"Empty strings: {num_empty}\")\n",
    "\n",
    "# Apply to both train_df and test_df\n",
    "print(\"Train dataset:\")\n",
    "replace_empty_and_nan(train_df, 'sectionName')\n",
    "\n",
    "print(\"\\nTest dataset:\")\n",
    "replace_empty_and_nan(test_df, 'sectionName')"
   ]
  },
  {
   "cell_type": "markdown",
   "id": "daf3c3e9-a3e2-4f88-9f0f-bd20d4f388d5",
   "metadata": {},
   "source": [
    "- convert string to lowercase"
   ]
  },
  {
   "cell_type": "code",
   "execution_count": 12,
   "id": "f4b70528-1346-4640-b9f0-d458d41df3aa",
   "metadata": {},
   "outputs": [
    {
     "name": "stdout",
     "output_type": "stream",
     "text": [
      "Train dataset:\n",
      "Num unique strings before lowercase in 'sectionName': 1147\n",
      "Num unique strings after lowercase in 'sectionName': 1074\n",
      "\n",
      "Test dataset:\n",
      "Num unique strings before lowercase in 'sectionName': 301\n",
      "Num unique strings after lowercase in 'sectionName': 271\n"
     ]
    }
   ],
   "source": [
    "def convert_to_lowercase(df, column_name):\n",
    "    # Before conversion\n",
    "    num_unique_before = len(df[column_name].unique())\n",
    "    print(f\"Num unique strings before lowercase in '{column_name}': {num_unique_before}\")\n",
    "\n",
    "    # Conversion to lowercase\n",
    "    df[column_name] = df[column_name].apply(str.lower)\n",
    "\n",
    "    # After conversion\n",
    "    num_unique_after = len(df[column_name].unique())\n",
    "    print(f\"Num unique strings after lowercase in '{column_name}': {num_unique_after}\")\n",
    "\n",
    "# Apply to both train_df and test_df\n",
    "print(\"Train dataset:\")\n",
    "convert_to_lowercase(train_df, 'sectionName')\n",
    "\n",
    "print(\"\\nTest dataset:\")\n",
    "convert_to_lowercase(test_df, 'sectionName')\n"
   ]
  },
  {
   "cell_type": "markdown",
   "id": "b7fbb8d3-edb2-4847-b4cc-6f2f7c8fc394",
   "metadata": {},
   "source": [
    "- remove numbers and punctuation"
   ]
  },
  {
   "cell_type": "code",
   "execution_count": 13,
   "id": "5ef9fc2a-a658-48a6-aaeb-e9a909cd58fe",
   "metadata": {},
   "outputs": [
    {
     "name": "stdout",
     "output_type": "stream",
     "text": [
      "Train dataset:\n",
      "Num unique strings before removing in 'sectionName': 1074\n",
      "Num unique strings after removing in 'sectionName': 807\n",
      "\n",
      "Test dataset:\n",
      "Num unique strings before removing in 'sectionName': 271\n",
      "Num unique strings after removing in 'sectionName': 162\n"
     ]
    }
   ],
   "source": [
    "def remove_punctuation_and_numbers(df, column_name):\n",
    "    # Before removal\n",
    "    num_unique_before = len(df[column_name].unique())\n",
    "    print(f\"Num unique strings before removing in '{column_name}': {num_unique_before}\")\n",
    "\n",
    "    # Remove numbers and punctuation\n",
    "    df[column_name] = df[column_name].str.replace(r'[\\d{}]+'.format(string.punctuation), '', regex=True).str.strip()\n",
    "\n",
    "    # After removal\n",
    "    num_unique_after = len(df[column_name].unique())\n",
    "    print(f\"Num unique strings after removing in '{column_name}': {num_unique_after}\")\n",
    "\n",
    "# Apply to both train_df and test_df\n",
    "print(\"Train dataset:\")\n",
    "remove_punctuation_and_numbers(train_df, 'sectionName')\n",
    "\n",
    "print(\"\\nTest dataset:\")\n",
    "remove_punctuation_and_numbers(test_df, 'sectionName')"
   ]
  },
  {
   "cell_type": "markdown",
   "id": "18b56e63-de1a-45e6-b70c-e16938448a65",
   "metadata": {},
   "source": [
    "- lemmatization"
   ]
  },
  {
   "cell_type": "code",
   "execution_count": 14,
   "id": "a0c9e038-dccf-469b-b477-c6fa8d847bbc",
   "metadata": {},
   "outputs": [
    {
     "name": "stdout",
     "output_type": "stream",
     "text": [
      "Train dataset:\n",
      "Num unique strings before lemmatization in 'sectionName': 807\n"
     ]
    },
    {
     "name": "stdout",
     "output_type": "stream",
     "text": [
      "Num unique strings after lemmatization in 'sectionName': 794\n",
      "\n",
      "Test dataset:\n",
      "Num unique strings before lemmatization in 'sectionName': 162\n",
      "Num unique strings after lemmatization in 'sectionName': 158\n"
     ]
    }
   ],
   "source": [
    "# Initialize the lemmatizer\n",
    "lemmatizer = WordNetLemmatizer()\n",
    "\n",
    "def lemmatize_text(text):\n",
    "    words = nltk.word_tokenize(text)  # Tokenize the text into words\n",
    "    lemmatized_words = [lemmatizer.lemmatize(word) for word in words]  # Lemmatize each word\n",
    "    return \" \".join(lemmatized_words)\n",
    "\n",
    "def lemmatize_column(df, column_name):\n",
    "    # Before lemmatization\n",
    "    num_unique_before = len(df[column_name].unique())\n",
    "    print(f\"Num unique strings before lemmatization in '{column_name}': {num_unique_before}\")\n",
    "\n",
    "    # Lemmatize the text in the column\n",
    "    df[column_name] = df[column_name].apply(lemmatize_text)\n",
    "\n",
    "    # After lemmatization\n",
    "    num_unique_after = len(df[column_name].unique())\n",
    "    print(f\"Num unique strings after lemmatization in '{column_name}': {num_unique_after}\")\n",
    "\n",
    "# Apply to both train_df and test_df\n",
    "print(\"Train dataset:\")\n",
    "lemmatize_column(train_df, 'sectionName')\n",
    "\n",
    "print(\"\\nTest dataset:\")\n",
    "lemmatize_column(test_df, 'sectionName')"
   ]
  },
  {
   "cell_type": "markdown",
   "id": "050e8342-48b7-411c-b8b5-1e8d6441d649",
   "metadata": {},
   "source": [
    "- mapping to pre-defined categories"
   ]
  },
  {
   "cell_type": "code",
   "execution_count": 15,
   "id": "ff39ffd1-a09d-4f3e-a2a4-248d84a5a06c",
   "metadata": {},
   "outputs": [
    {
     "name": "stdout",
     "output_type": "stream",
     "text": [
      "Train dataset:\n",
      "Num unique strings before mapping in 'sectionName': 794\n",
      "Num unique strings after mapping in 'sectionName': 765\n",
      "\n",
      "Test dataset:\n",
      "Num unique strings before mapping in 'sectionName': 158\n",
      "Num unique strings after mapping in 'sectionName': 153\n"
     ]
    }
   ],
   "source": [
    "# Keywords to be mapped to 'background'\n",
    "background_keywords = ['background', 'introduction', 'related work', 'relatedwork', 'overview', \n",
    "            'literature review', 'summary', 'state of the art', 'prior work']\n",
    "\n",
    "pattern = re.compile('|'.join(background_keywords), re.IGNORECASE)\n",
    "\n",
    "def map_background(df, column_name):\n",
    "    # Before mapping\n",
    "    num_unique_before = len(df[column_name].unique())\n",
    "    print(f\"Num unique strings before mapping in '{column_name}': {num_unique_before}\")\n",
    "\n",
    "    # Apply the mapping\n",
    "    df[column_name] = df[column_name].apply(lambda text: 'background' if pattern.search(text) else text)\n",
    "\n",
    "    # After mapping\n",
    "    num_unique_after = len(df[column_name].unique())\n",
    "    print(f\"Num unique strings after mapping in '{column_name}': {num_unique_after}\")\n",
    "\n",
    "# Apply to both train_df and test_df\n",
    "print(\"Train dataset:\")\n",
    "map_background(train_df, 'sectionName')\n",
    "\n",
    "print(\"\\nTest dataset:\")\n",
    "map_background(test_df, 'sectionName')\n"
   ]
  },
  {
   "cell_type": "code",
   "execution_count": 16,
   "id": "1bc756fd-22da-4a3f-b082-ec41a475963d",
   "metadata": {},
   "outputs": [
    {
     "name": "stdout",
     "output_type": "stream",
     "text": [
      "Train dataset:\n",
      "Num unique strings before mapping in 'sectionName': 765\n",
      "Num unique strings after mapping in 'sectionName': 625\n",
      "\n",
      "Test dataset:\n",
      "Num unique strings before mapping in 'sectionName': 153\n",
      "Num unique strings after mapping in 'sectionName': 125\n"
     ]
    }
   ],
   "source": [
    "# Keywords to be mapped to 'method'\n",
    "method_keywords = ['methodology', 'method', 'approach', 'design', \n",
    "                   'proposed', 'experiment', 'implementation', 'procedure', \n",
    "                   'description', 'technique', 'technical', 'formulation', \n",
    "                   'solution', 'collection', 'describ', 'measure', 'model', \n",
    "                   'empirical', 'study', 'setup', 'setting', 'system', 'detail']\n",
    "\n",
    "pattern = re.compile('|'.join(method_keywords), re.IGNORECASE)\n",
    "\n",
    "def map_method(df, column_name):\n",
    "    # Before mapping\n",
    "    num_unique_before = len(df[column_name].unique())\n",
    "    print(f\"Num unique strings before mapping in '{column_name}': {num_unique_before}\")\n",
    "\n",
    "    # Apply the mapping\n",
    "    df[column_name] = df[column_name].apply(lambda text: 'method' if pattern.search(text) else text)\n",
    "\n",
    "    # After mapping\n",
    "    num_unique_after = len(df[column_name].unique())\n",
    "    print(f\"Num unique strings after mapping in '{column_name}': {num_unique_after}\")\n",
    "\n",
    "# Apply to both train_df and test_df\n",
    "print(\"Train dataset:\")\n",
    "map_method(train_df, 'sectionName')\n",
    "\n",
    "print(\"\\nTest dataset:\")\n",
    "map_method(test_df, 'sectionName')\n"
   ]
  },
  {
   "cell_type": "code",
   "execution_count": 17,
   "id": "a6b182f1-885f-43c8-b278-85e981eff0d7",
   "metadata": {},
   "outputs": [
    {
     "name": "stdout",
     "output_type": "stream",
     "text": [
      "Train dataset:\n",
      "Num unique strings before mapping in 'sectionName': 625\n",
      "Num unique strings after mapping in 'sectionName': 557\n",
      "\n",
      "Test dataset:\n",
      "Num unique strings before mapping in 'sectionName': 125\n",
      "Num unique strings after mapping in 'sectionName': 106\n"
     ]
    }
   ],
   "source": [
    "# Keywords to be mapped to 'result'\n",
    "result_keywords = ['result', 'discussion', 'evaluation', 'limitation', 'implication', 'comparison', \n",
    "                   'contribution', 'analysis', 'test', 'compare']\n",
    "\n",
    "pattern = re.compile('|'.join(result_keywords), re.IGNORECASE)\n",
    "\n",
    "def map_result(df, column_name):\n",
    "    # Before mapping\n",
    "    num_unique_before = len(df[column_name].unique())\n",
    "    print(f\"Num unique strings before mapping in '{column_name}': {num_unique_before}\")\n",
    "\n",
    "    # Apply the mapping\n",
    "    df[column_name] = df[column_name].apply(lambda text: 'result' if pattern.search(text) else text)\n",
    "\n",
    "    # After mapping\n",
    "    num_unique_after = len(df[column_name].unique())\n",
    "    print(f\"Num unique strings after mapping in '{column_name}': {num_unique_after}\")\n",
    "\n",
    "# Apply to both train_df and test_df\n",
    "print(\"Train dataset:\")\n",
    "map_result(train_df, 'sectionName')\n",
    "\n",
    "print(\"\\nTest dataset:\")\n",
    "map_result(test_df, 'sectionName')\n"
   ]
  },
  {
   "cell_type": "code",
   "execution_count": 18,
   "id": "16ed027c-0fe0-4e22-bcfe-472eade1d34f",
   "metadata": {},
   "outputs": [
    {
     "name": "stdout",
     "output_type": "stream",
     "text": [
      "Train dataset:\n",
      "Num unique strings before mapping in 'sectionName': 557\n",
      "Num unique strings after mapping in 'sectionName': 551\n",
      "\n",
      "Test dataset:\n",
      "Num unique strings before mapping in 'sectionName': 106\n",
      "Num unique strings after mapping in 'sectionName': 106\n"
     ]
    }
   ],
   "source": [
    "# Keywords to be mapped to 'conclusion'\n",
    "conclusion_keywords = ['conclusion', 'concluding', 'future']\n",
    "\n",
    "pattern = re.compile('|'.join(conclusion_keywords), re.IGNORECASE)\n",
    "\n",
    "def map_conclusion(df, column_name):\n",
    "    # Before mapping\n",
    "    num_unique_before = len(df[column_name].unique())\n",
    "    print(f\"Num unique strings before mapping in '{column_name}': {num_unique_before}\")\n",
    "\n",
    "    # Apply the mapping\n",
    "    df[column_name] = df[column_name].apply(lambda text: 'conclusion' if pattern.search(text) else text)\n",
    "\n",
    "    # After mapping\n",
    "    num_unique_after = len(df[column_name].unique())\n",
    "    print(f\"Num unique strings after mapping in '{column_name}': {num_unique_after}\")\n",
    "\n",
    "# Apply to both train_df and test_df\n",
    "print(\"Train dataset:\")\n",
    "map_conclusion(train_df, 'sectionName')\n",
    "\n",
    "print(\"\\nTest dataset:\")\n",
    "map_conclusion(test_df, 'sectionName')\n"
   ]
  },
  {
   "cell_type": "code",
   "execution_count": 19,
   "id": "bb90ed53-bba8-467d-8fc5-7704f206f03c",
   "metadata": {},
   "outputs": [
    {
     "name": "stdout",
     "output_type": "stream",
     "text": [
      "Train dataset:\n",
      "Num unique strings before mapping in 'sectionName': 551\n",
      "Num unique strings after mapping in 'sectionName': 5\n",
      "\n",
      "Test dataset:\n",
      "Num unique strings before mapping in 'sectionName': 106\n",
      "Num unique strings after mapping in 'sectionName': 4\n"
     ]
    }
   ],
   "source": [
    "# List of valid section names\n",
    "valid_sections = {'background', 'result', 'conclusion', 'method', 'unknown'}\n",
    "\n",
    "def map_to_valid_sections(df, column_name, valid_sections):\n",
    "    # Before mapping\n",
    "    num_unique_before = len(df[column_name].unique())\n",
    "    print(f\"Num unique strings before mapping in '{column_name}': {num_unique_before}\")\n",
    "\n",
    "    # Apply the mapping\n",
    "    df[column_name] = df[column_name].apply(lambda text: text if text in valid_sections else 'unknown')\n",
    "\n",
    "    # After mapping\n",
    "    num_unique_after = len(df[column_name].unique())\n",
    "    print(f\"Num unique strings after mapping in '{column_name}': {num_unique_after}\")\n",
    "\n",
    "# Apply to both train_df and test_df\n",
    "print(\"Train dataset:\")\n",
    "map_to_valid_sections(train_df, 'sectionName', valid_sections)\n",
    "\n",
    "print(\"\\nTest dataset:\")\n",
    "map_to_valid_sections(test_df, 'sectionName', valid_sections)\n"
   ]
  },
  {
   "cell_type": "code",
   "execution_count": 20,
   "id": "2d153c57-5644-4593-883a-410eb95a7a85",
   "metadata": {},
   "outputs": [
    {
     "name": "stdout",
     "output_type": "stream",
     "text": [
      "Train dataset:\n",
      "\n",
      "Test dataset:\n"
     ]
    },
    {
     "data": {
      "application/vnd.microsoft.datawrangler.viewer.v0+json": {
       "columns": [
        {
         "name": "index",
         "rawType": "int64",
         "type": "integer"
        },
        {
         "name": "citeEnd",
         "rawType": "float64",
         "type": "float"
        },
        {
         "name": "citeStart",
         "rawType": "float64",
         "type": "float"
        },
        {
         "name": "label",
         "rawType": "object",
         "type": "string"
        },
        {
         "name": "excerpt_index",
         "rawType": "int64",
         "type": "integer"
        },
        {
         "name": "source_acronym",
         "rawType": "float64",
         "type": "float"
        },
        {
         "name": "source_acronymParen",
         "rawType": "float64",
         "type": "float"
        },
        {
         "name": "source_andPhrase",
         "rawType": "float64",
         "type": "float"
        },
        {
         "name": "source_etAlPhrase",
         "rawType": "float64",
         "type": "float"
        },
        {
         "name": "source_explicit",
         "rawType": "float64",
         "type": "float"
        },
        {
         "name": "source_properNoun",
         "rawType": "float64",
         "type": "float"
        },
        {
         "name": "isKeyCitation_False",
         "rawType": "float64",
         "type": "float"
        },
        {
         "name": "isKeyCitation_True",
         "rawType": "float64",
         "type": "float"
        },
        {
         "name": "sectionName_background",
         "rawType": "float64",
         "type": "float"
        },
        {
         "name": "sectionName_conclusion",
         "rawType": "float64",
         "type": "float"
        },
        {
         "name": "sectionName_method",
         "rawType": "float64",
         "type": "float"
        },
        {
         "name": "sectionName_result",
         "rawType": "float64",
         "type": "float"
        },
        {
         "name": "sectionName_unknown",
         "rawType": "float64",
         "type": "float"
        }
       ],
       "conversionMethod": "pd.DataFrame",
       "ref": "d7b345a8-11a2-43d6-a78b-26a38ffa898d",
       "rows": [
        [
         "0",
         "175.0",
         "168.0",
         "background",
         "11",
         "0.0",
         "0.0",
         "0.0",
         "0.0",
         "1.0",
         "0.0",
         "0.0",
         "1.0",
         "1.0",
         "0.0",
         "0.0",
         "0.0",
         "0.0"
        ],
        [
         "1",
         "36.0",
         "16.0",
         "background",
         "2",
         "0.0",
         "0.0",
         "0.0",
         "0.0",
         "1.0",
         "0.0",
         "0.0",
         "1.0",
         "0.0",
         "0.0",
         "0.0",
         "0.0",
         "1.0"
        ],
        [
         "2",
         "228.0",
         "225.0",
         "background",
         "0",
         "0.0",
         "0.0",
         "0.0",
         "0.0",
         "1.0",
         "0.0",
         "1.0",
         "0.0",
         "1.0",
         "0.0",
         "0.0",
         "0.0",
         "0.0"
        ],
        [
         "3",
         "110.0",
         "46.0",
         "background",
         "3",
         "0.0",
         "0.0",
         "0.0",
         "0.0",
         "1.0",
         "0.0",
         "1.0",
         "0.0",
         "0.0",
         "0.0",
         "0.0",
         "1.0",
         "0.0"
        ],
        [
         "4",
         "239.0",
         "234.0",
         "background",
         "2",
         "0.0",
         "0.0",
         "0.0",
         "0.0",
         "1.0",
         "0.0",
         "1.0",
         "0.0",
         "0.0",
         "0.0",
         "0.0",
         "1.0",
         "0.0"
        ]
       ],
       "shape": {
        "columns": 17,
        "rows": 5
       }
      },
      "text/html": [
       "<div>\n",
       "<style scoped>\n",
       "    .dataframe tbody tr th:only-of-type {\n",
       "        vertical-align: middle;\n",
       "    }\n",
       "\n",
       "    .dataframe tbody tr th {\n",
       "        vertical-align: top;\n",
       "    }\n",
       "\n",
       "    .dataframe thead th {\n",
       "        text-align: right;\n",
       "    }\n",
       "</style>\n",
       "<table border=\"1\" class=\"dataframe\">\n",
       "  <thead>\n",
       "    <tr style=\"text-align: right;\">\n",
       "      <th></th>\n",
       "      <th>citeEnd</th>\n",
       "      <th>citeStart</th>\n",
       "      <th>label</th>\n",
       "      <th>excerpt_index</th>\n",
       "      <th>source_acronym</th>\n",
       "      <th>source_acronymParen</th>\n",
       "      <th>source_andPhrase</th>\n",
       "      <th>source_etAlPhrase</th>\n",
       "      <th>source_explicit</th>\n",
       "      <th>source_properNoun</th>\n",
       "      <th>isKeyCitation_False</th>\n",
       "      <th>isKeyCitation_True</th>\n",
       "      <th>sectionName_background</th>\n",
       "      <th>sectionName_conclusion</th>\n",
       "      <th>sectionName_method</th>\n",
       "      <th>sectionName_result</th>\n",
       "      <th>sectionName_unknown</th>\n",
       "    </tr>\n",
       "  </thead>\n",
       "  <tbody>\n",
       "    <tr>\n",
       "      <th>0</th>\n",
       "      <td>175.0</td>\n",
       "      <td>168.0</td>\n",
       "      <td>background</td>\n",
       "      <td>11</td>\n",
       "      <td>0.0</td>\n",
       "      <td>0.0</td>\n",
       "      <td>0.0</td>\n",
       "      <td>0.0</td>\n",
       "      <td>1.0</td>\n",
       "      <td>0.0</td>\n",
       "      <td>0.0</td>\n",
       "      <td>1.0</td>\n",
       "      <td>1.0</td>\n",
       "      <td>0.0</td>\n",
       "      <td>0.0</td>\n",
       "      <td>0.0</td>\n",
       "      <td>0.0</td>\n",
       "    </tr>\n",
       "    <tr>\n",
       "      <th>1</th>\n",
       "      <td>36.0</td>\n",
       "      <td>16.0</td>\n",
       "      <td>background</td>\n",
       "      <td>2</td>\n",
       "      <td>0.0</td>\n",
       "      <td>0.0</td>\n",
       "      <td>0.0</td>\n",
       "      <td>0.0</td>\n",
       "      <td>1.0</td>\n",
       "      <td>0.0</td>\n",
       "      <td>0.0</td>\n",
       "      <td>1.0</td>\n",
       "      <td>0.0</td>\n",
       "      <td>0.0</td>\n",
       "      <td>0.0</td>\n",
       "      <td>0.0</td>\n",
       "      <td>1.0</td>\n",
       "    </tr>\n",
       "    <tr>\n",
       "      <th>2</th>\n",
       "      <td>228.0</td>\n",
       "      <td>225.0</td>\n",
       "      <td>background</td>\n",
       "      <td>0</td>\n",
       "      <td>0.0</td>\n",
       "      <td>0.0</td>\n",
       "      <td>0.0</td>\n",
       "      <td>0.0</td>\n",
       "      <td>1.0</td>\n",
       "      <td>0.0</td>\n",
       "      <td>1.0</td>\n",
       "      <td>0.0</td>\n",
       "      <td>1.0</td>\n",
       "      <td>0.0</td>\n",
       "      <td>0.0</td>\n",
       "      <td>0.0</td>\n",
       "      <td>0.0</td>\n",
       "    </tr>\n",
       "    <tr>\n",
       "      <th>3</th>\n",
       "      <td>110.0</td>\n",
       "      <td>46.0</td>\n",
       "      <td>background</td>\n",
       "      <td>3</td>\n",
       "      <td>0.0</td>\n",
       "      <td>0.0</td>\n",
       "      <td>0.0</td>\n",
       "      <td>0.0</td>\n",
       "      <td>1.0</td>\n",
       "      <td>0.0</td>\n",
       "      <td>1.0</td>\n",
       "      <td>0.0</td>\n",
       "      <td>0.0</td>\n",
       "      <td>0.0</td>\n",
       "      <td>0.0</td>\n",
       "      <td>1.0</td>\n",
       "      <td>0.0</td>\n",
       "    </tr>\n",
       "    <tr>\n",
       "      <th>4</th>\n",
       "      <td>239.0</td>\n",
       "      <td>234.0</td>\n",
       "      <td>background</td>\n",
       "      <td>2</td>\n",
       "      <td>0.0</td>\n",
       "      <td>0.0</td>\n",
       "      <td>0.0</td>\n",
       "      <td>0.0</td>\n",
       "      <td>1.0</td>\n",
       "      <td>0.0</td>\n",
       "      <td>1.0</td>\n",
       "      <td>0.0</td>\n",
       "      <td>0.0</td>\n",
       "      <td>0.0</td>\n",
       "      <td>0.0</td>\n",
       "      <td>1.0</td>\n",
       "      <td>0.0</td>\n",
       "    </tr>\n",
       "  </tbody>\n",
       "</table>\n",
       "</div>"
      ],
      "text/plain": [
       "   citeEnd  citeStart       label  excerpt_index  source_acronym  \\\n",
       "0    175.0      168.0  background             11             0.0   \n",
       "1     36.0       16.0  background              2             0.0   \n",
       "2    228.0      225.0  background              0             0.0   \n",
       "3    110.0       46.0  background              3             0.0   \n",
       "4    239.0      234.0  background              2             0.0   \n",
       "\n",
       "   source_acronymParen  source_andPhrase  source_etAlPhrase  source_explicit  \\\n",
       "0                  0.0               0.0                0.0              1.0   \n",
       "1                  0.0               0.0                0.0              1.0   \n",
       "2                  0.0               0.0                0.0              1.0   \n",
       "3                  0.0               0.0                0.0              1.0   \n",
       "4                  0.0               0.0                0.0              1.0   \n",
       "\n",
       "   source_properNoun  isKeyCitation_False  isKeyCitation_True  \\\n",
       "0                0.0                  0.0                 1.0   \n",
       "1                0.0                  0.0                 1.0   \n",
       "2                0.0                  1.0                 0.0   \n",
       "3                0.0                  1.0                 0.0   \n",
       "4                0.0                  1.0                 0.0   \n",
       "\n",
       "   sectionName_background  sectionName_conclusion  sectionName_method  \\\n",
       "0                     1.0                     0.0                 0.0   \n",
       "1                     0.0                     0.0                 0.0   \n",
       "2                     1.0                     0.0                 0.0   \n",
       "3                     0.0                     0.0                 0.0   \n",
       "4                     0.0                     0.0                 0.0   \n",
       "\n",
       "   sectionName_result  sectionName_unknown  \n",
       "0                 0.0                  0.0  \n",
       "1                 0.0                  1.0  \n",
       "2                 0.0                  0.0  \n",
       "3                 1.0                  0.0  \n",
       "4                 1.0                  0.0  "
      ]
     },
     "metadata": {},
     "output_type": "display_data"
    },
    {
     "data": {
      "application/vnd.microsoft.datawrangler.viewer.v0+json": {
       "columns": [
        {
         "name": "index",
         "rawType": "int64",
         "type": "integer"
        },
        {
         "name": "citeEnd",
         "rawType": "float64",
         "type": "float"
        },
        {
         "name": "citeStart",
         "rawType": "float64",
         "type": "float"
        },
        {
         "name": "label",
         "rawType": "object",
         "type": "string"
        },
        {
         "name": "excerpt_index",
         "rawType": "int64",
         "type": "integer"
        },
        {
         "name": "source_acronym",
         "rawType": "float64",
         "type": "float"
        },
        {
         "name": "source_acronymParen",
         "rawType": "float64",
         "type": "float"
        },
        {
         "name": "source_andPhrase",
         "rawType": "float64",
         "type": "float"
        },
        {
         "name": "source_etAlPhrase",
         "rawType": "float64",
         "type": "float"
        },
        {
         "name": "source_explicit",
         "rawType": "float64",
         "type": "float"
        },
        {
         "name": "source_properNoun",
         "rawType": "float64",
         "type": "float"
        },
        {
         "name": "isKeyCitation_False",
         "rawType": "float64",
         "type": "float"
        },
        {
         "name": "isKeyCitation_True",
         "rawType": "float64",
         "type": "float"
        },
        {
         "name": "sectionName_background",
         "rawType": "float64",
         "type": "float"
        },
        {
         "name": "sectionName_conclusion",
         "rawType": "float64",
         "type": "float"
        },
        {
         "name": "sectionName_method",
         "rawType": "float64",
         "type": "float"
        },
        {
         "name": "sectionName_result",
         "rawType": "float64",
         "type": "float"
        },
        {
         "name": "sectionName_unknown",
         "rawType": "float64",
         "type": "float"
        }
       ],
       "conversionMethod": "pd.DataFrame",
       "ref": "50654dd7-3dd8-4dfa-b81d-c30c3e78305e",
       "rows": [
        [
         "0",
         "31.0",
         "28.0",
         "background",
         "6",
         "1.0",
         "0.0",
         "0.0",
         "0.0",
         "0.0",
         "0.0",
         "0.0",
         "1.0",
         "0.0",
         "0.0",
         "0.0",
         "0.0",
         "1.0"
        ],
        [
         "1",
         "166.0",
         "156.0",
         "result",
         "0",
         "0.0",
         "0.0",
         "0.0",
         "0.0",
         "1.0",
         "0.0",
         "1.0",
         "0.0",
         "0.0",
         "0.0",
         "0.0",
         "1.0",
         "0.0"
        ],
        [
         "2",
         "145.0",
         "137.0",
         "background",
         "1",
         "0.0",
         "0.0",
         "0.0",
         "0.0",
         "1.0",
         "0.0",
         "0.0",
         "1.0",
         "0.0",
         "0.0",
         "0.0",
         "1.0",
         "0.0"
        ],
        [
         "3",
         "158.0",
         "137.0",
         "method",
         "1",
         "0.0",
         "0.0",
         "0.0",
         "0.0",
         "1.0",
         "0.0",
         "1.0",
         "0.0",
         "0.0",
         "0.0",
         "1.0",
         "0.0",
         "0.0"
        ],
        [
         "4",
         "186.0",
         "178.0",
         "background",
         "6",
         "0.0",
         "0.0",
         "0.0",
         "0.0",
         "1.0",
         "0.0",
         "1.0",
         "0.0",
         "0.0",
         "0.0",
         "0.0",
         "1.0",
         "0.0"
        ]
       ],
       "shape": {
        "columns": 17,
        "rows": 5
       }
      },
      "text/html": [
       "<div>\n",
       "<style scoped>\n",
       "    .dataframe tbody tr th:only-of-type {\n",
       "        vertical-align: middle;\n",
       "    }\n",
       "\n",
       "    .dataframe tbody tr th {\n",
       "        vertical-align: top;\n",
       "    }\n",
       "\n",
       "    .dataframe thead th {\n",
       "        text-align: right;\n",
       "    }\n",
       "</style>\n",
       "<table border=\"1\" class=\"dataframe\">\n",
       "  <thead>\n",
       "    <tr style=\"text-align: right;\">\n",
       "      <th></th>\n",
       "      <th>citeEnd</th>\n",
       "      <th>citeStart</th>\n",
       "      <th>label</th>\n",
       "      <th>excerpt_index</th>\n",
       "      <th>source_acronym</th>\n",
       "      <th>source_acronymParen</th>\n",
       "      <th>source_andPhrase</th>\n",
       "      <th>source_etAlPhrase</th>\n",
       "      <th>source_explicit</th>\n",
       "      <th>source_properNoun</th>\n",
       "      <th>isKeyCitation_False</th>\n",
       "      <th>isKeyCitation_True</th>\n",
       "      <th>sectionName_background</th>\n",
       "      <th>sectionName_conclusion</th>\n",
       "      <th>sectionName_method</th>\n",
       "      <th>sectionName_result</th>\n",
       "      <th>sectionName_unknown</th>\n",
       "    </tr>\n",
       "  </thead>\n",
       "  <tbody>\n",
       "    <tr>\n",
       "      <th>0</th>\n",
       "      <td>31.0</td>\n",
       "      <td>28.0</td>\n",
       "      <td>background</td>\n",
       "      <td>6</td>\n",
       "      <td>1.0</td>\n",
       "      <td>0.0</td>\n",
       "      <td>0.0</td>\n",
       "      <td>0.0</td>\n",
       "      <td>0.0</td>\n",
       "      <td>0.0</td>\n",
       "      <td>0.0</td>\n",
       "      <td>1.0</td>\n",
       "      <td>0.0</td>\n",
       "      <td>0.0</td>\n",
       "      <td>0.0</td>\n",
       "      <td>0.0</td>\n",
       "      <td>1.0</td>\n",
       "    </tr>\n",
       "    <tr>\n",
       "      <th>1</th>\n",
       "      <td>166.0</td>\n",
       "      <td>156.0</td>\n",
       "      <td>result</td>\n",
       "      <td>0</td>\n",
       "      <td>0.0</td>\n",
       "      <td>0.0</td>\n",
       "      <td>0.0</td>\n",
       "      <td>0.0</td>\n",
       "      <td>1.0</td>\n",
       "      <td>0.0</td>\n",
       "      <td>1.0</td>\n",
       "      <td>0.0</td>\n",
       "      <td>0.0</td>\n",
       "      <td>0.0</td>\n",
       "      <td>0.0</td>\n",
       "      <td>1.0</td>\n",
       "      <td>0.0</td>\n",
       "    </tr>\n",
       "    <tr>\n",
       "      <th>2</th>\n",
       "      <td>145.0</td>\n",
       "      <td>137.0</td>\n",
       "      <td>background</td>\n",
       "      <td>1</td>\n",
       "      <td>0.0</td>\n",
       "      <td>0.0</td>\n",
       "      <td>0.0</td>\n",
       "      <td>0.0</td>\n",
       "      <td>1.0</td>\n",
       "      <td>0.0</td>\n",
       "      <td>0.0</td>\n",
       "      <td>1.0</td>\n",
       "      <td>0.0</td>\n",
       "      <td>0.0</td>\n",
       "      <td>0.0</td>\n",
       "      <td>1.0</td>\n",
       "      <td>0.0</td>\n",
       "    </tr>\n",
       "    <tr>\n",
       "      <th>3</th>\n",
       "      <td>158.0</td>\n",
       "      <td>137.0</td>\n",
       "      <td>method</td>\n",
       "      <td>1</td>\n",
       "      <td>0.0</td>\n",
       "      <td>0.0</td>\n",
       "      <td>0.0</td>\n",
       "      <td>0.0</td>\n",
       "      <td>1.0</td>\n",
       "      <td>0.0</td>\n",
       "      <td>1.0</td>\n",
       "      <td>0.0</td>\n",
       "      <td>0.0</td>\n",
       "      <td>0.0</td>\n",
       "      <td>1.0</td>\n",
       "      <td>0.0</td>\n",
       "      <td>0.0</td>\n",
       "    </tr>\n",
       "    <tr>\n",
       "      <th>4</th>\n",
       "      <td>186.0</td>\n",
       "      <td>178.0</td>\n",
       "      <td>background</td>\n",
       "      <td>6</td>\n",
       "      <td>0.0</td>\n",
       "      <td>0.0</td>\n",
       "      <td>0.0</td>\n",
       "      <td>0.0</td>\n",
       "      <td>1.0</td>\n",
       "      <td>0.0</td>\n",
       "      <td>1.0</td>\n",
       "      <td>0.0</td>\n",
       "      <td>0.0</td>\n",
       "      <td>0.0</td>\n",
       "      <td>0.0</td>\n",
       "      <td>1.0</td>\n",
       "      <td>0.0</td>\n",
       "    </tr>\n",
       "  </tbody>\n",
       "</table>\n",
       "</div>"
      ],
      "text/plain": [
       "   citeEnd  citeStart       label  excerpt_index  source_acronym  \\\n",
       "0     31.0       28.0  background              6             1.0   \n",
       "1    166.0      156.0      result              0             0.0   \n",
       "2    145.0      137.0  background              1             0.0   \n",
       "3    158.0      137.0      method              1             0.0   \n",
       "4    186.0      178.0  background              6             0.0   \n",
       "\n",
       "   source_acronymParen  source_andPhrase  source_etAlPhrase  source_explicit  \\\n",
       "0                  0.0               0.0                0.0              0.0   \n",
       "1                  0.0               0.0                0.0              1.0   \n",
       "2                  0.0               0.0                0.0              1.0   \n",
       "3                  0.0               0.0                0.0              1.0   \n",
       "4                  0.0               0.0                0.0              1.0   \n",
       "\n",
       "   source_properNoun  isKeyCitation_False  isKeyCitation_True  \\\n",
       "0                0.0                  0.0                 1.0   \n",
       "1                0.0                  1.0                 0.0   \n",
       "2                0.0                  0.0                 1.0   \n",
       "3                0.0                  1.0                 0.0   \n",
       "4                0.0                  1.0                 0.0   \n",
       "\n",
       "   sectionName_background  sectionName_conclusion  sectionName_method  \\\n",
       "0                     0.0                     0.0                 0.0   \n",
       "1                     0.0                     0.0                 0.0   \n",
       "2                     0.0                     0.0                 0.0   \n",
       "3                     0.0                     0.0                 1.0   \n",
       "4                     0.0                     0.0                 0.0   \n",
       "\n",
       "   sectionName_result  sectionName_unknown  \n",
       "0                 0.0                  1.0  \n",
       "1                 1.0                  0.0  \n",
       "2                 1.0                  0.0  \n",
       "3                 0.0                  0.0  \n",
       "4                 1.0                  0.0  "
      ]
     },
     "metadata": {},
     "output_type": "display_data"
    }
   ],
   "source": [
    "def apply_one_hot_encoding(df, column_name, one_hot_encoder=None):\n",
    "    if one_hot_encoder is None:\n",
    "        # Initialize OneHotEncoder\n",
    "        one_hot_encoder = OneHotEncoder(sparse_output=False, handle_unknown='ignore')\n",
    "        # Fit the encoder on the training dataset\n",
    "        one_hot_encoder = one_hot_encoder.fit(df[[column_name]])\n",
    "    # Transform both train_df and test_df using the fitted encoder\n",
    "    encoded = one_hot_encoder.transform(df[[column_name]])\n",
    "    \n",
    "    # Get one-hot encoded column names\n",
    "    one_hot_columns = one_hot_encoder.get_feature_names_out([column_name])\n",
    "    \n",
    "    # Convert the result to a DataFrame\n",
    "    one_hot_df = pd.DataFrame(encoded, columns=one_hot_columns, index=df.index)\n",
    "    \n",
    "    # Concatenate the original DataFrame with the one-hot encoded columns\n",
    "    df = pd.concat([df, one_hot_df], axis=1)\n",
    "    \n",
    "    # Drop the original column\n",
    "    df.drop(columns=[column_name], inplace=True)\n",
    "    \n",
    "    return df, one_hot_encoder\n",
    "\n",
    "# Apply to train_df and test_df\n",
    "print(\"Train dataset:\")\n",
    "train_df, one_hot_encoder = apply_one_hot_encoding(train_df, 'sectionName', one_hot_encoder=None)\n",
    "\n",
    "print(\"\\nTest dataset:\")\n",
    "test_df, _ = apply_one_hot_encoding(test_df, 'sectionName', one_hot_encoder)\n",
    "\n",
    "# Display the results\n",
    "display(\n",
    "    train_df.head(),\n",
    "    test_df.head()\n",
    ")"
   ]
  },
  {
   "cell_type": "markdown",
   "id": "bf59234a-f656-48f0-ab53-45a954782540",
   "metadata": {},
   "source": [
    "#### 2.5 Clean 'string' column\n",
    "- Remove citations (e.g., [12,22]).\n",
    "- Convert text to lowercase.\n",
    "- Remove punctuation.\n",
    "- Remove numbers.\n",
    "- Remove stopwords.\n",
    "- Lemmatize words using NLTK.\n",
    "- Replace multiple spaces with a single space."
   ]
  },
  {
   "cell_type": "markdown",
   "id": "ed12da1b-3d39-41a8-a71d-514130593647",
   "metadata": {},
   "source": [
    "#### 2.6 Label encoding for 'label' column"
   ]
  },
  {
   "cell_type": "code",
   "execution_count": 21,
   "id": "a092ab09-f7fe-4b3e-b692-e5b737a3e87e",
   "metadata": {},
   "outputs": [
    {
     "name": "stdout",
     "output_type": "stream",
     "text": [
      "Labels: {'background': np.int64(0), 'method': np.int64(1), 'result': np.int64(2)}\n"
     ]
    }
   ],
   "source": [
    "# Initialize Label Encoder\n",
    "label_encoder = LabelEncoder()\n",
    "\n",
    "# Encode labels directly in the 'label' column\n",
    "train_df[\"label\"] = label_encoder.fit_transform(train_df[\"label\"])\n",
    "test_df[\"label\"] = label_encoder.fit_transform(test_df[\"label\"])\n",
    "joblib.dump(label_encoder, f\"{save_path}/label_encoder.pkl\")\n",
    "\n",
    "# Show label mappings\n",
    "label_mapping = dict(zip(label_encoder.classes_, label_encoder.transform(label_encoder.classes_)))\n",
    "print(\"Labels:\", label_mapping)"
   ]
  },
  {
   "cell_type": "markdown",
   "id": "423e985f-b240-4684-bfa6-4e66520d6cb6",
   "metadata": {},
   "source": [
    "## Save processed dataset"
   ]
  },
  {
   "cell_type": "code",
   "execution_count": 22,
   "id": "6d651083-fd58-4fcc-bace-ba5367cf3e98",
   "metadata": {},
   "outputs": [],
   "source": [
    "train_df.to_csv(f\"{save_path}/train-selected-features-nostring.csv\", index=False)\n",
    "test_df.to_csv(f\"{save_path}/test-selected-features-nostring.csv\", index=False)"
   ]
  },
  {
   "cell_type": "markdown",
   "id": "d4082175",
   "metadata": {},
   "source": [
    "# TODO: ML pipeline"
   ]
  },
  {
   "cell_type": "markdown",
   "id": "e778135b",
   "metadata": {},
   "source": [
    "- [x] Clean data\n",
    "- [ ] Upsampling\n",
    "- [x] Word vectorization\n",
    "- [ ] Word embedding\n",
    "- [ ] PCA \n",
    "- [ ] top-k features selection\n",
    "- [ ] Training the classfication model"
   ]
  }
 ],
 "metadata": {
  "kernelspec": {
   "display_name": "nlp_proj",
   "language": "python",
   "name": "python3"
  },
  "language_info": {
   "codemirror_mode": {
    "name": "ipython",
    "version": 3
   },
   "file_extension": ".py",
   "mimetype": "text/x-python",
   "name": "python",
   "nbconvert_exporter": "python",
   "pygments_lexer": "ipython3",
   "version": "3.11.0"
  }
 },
 "nbformat": 4,
 "nbformat_minor": 5
}
