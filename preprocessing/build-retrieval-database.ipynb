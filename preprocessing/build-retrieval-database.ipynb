{
 "cells": [
  {
   "cell_type": "markdown",
   "id": "382b5854-eaa4-413f-ac97-ac99f546368c",
   "metadata": {},
   "source": [
    "# Build retrieval database"
   ]
  },
  {
   "cell_type": "code",
   "execution_count": 9,
   "id": "6499b96d-406f-4bae-9d0b-3d0a8f5d53aa",
   "metadata": {},
   "outputs": [],
   "source": [
    "import os\n",
    "import pandas as pd"
   ]
  },
  {
   "cell_type": "markdown",
   "id": "092f5861-9d94-4923-b491-b9fdb247e89f",
   "metadata": {},
   "source": [
    "## Parameters"
   ]
  },
  {
   "cell_type": "code",
   "execution_count": 10,
   "id": "ece8ce98-b645-478d-8883-92a6292aff7e",
   "metadata": {},
   "outputs": [],
   "source": [
    "# change this accordingly\n",
    "project_path = os.path.abspath(os.path.join(os.getcwd(), os.pardir))\n",
    "\n",
    "save_path = f\"{project_path}/scicite_preprocessed\""
   ]
  },
  {
   "cell_type": "markdown",
   "id": "f25c85d2-7b63-4e69-9901-5a3a940adaaa",
   "metadata": {},
   "source": [
    "## 1. Load dataset"
   ]
  },
  {
   "cell_type": "code",
   "execution_count": 13,
   "id": "042cd051-9fd9-44ce-a1ae-676f99cbe6a4",
   "metadata": {},
   "outputs": [
    {
     "name": "stdout",
     "output_type": "stream",
     "text": [
      "label\n",
      "background    4840\n",
      "method        2294\n",
      "result        1109\n",
      "Name: count, dtype: int64\n"
     ]
    }
   ],
   "source": [
    "dataset_dir = f\"{project_path}/scicite\"\n",
    "train_df = pd.read_json(f\"{dataset_dir}/train.jsonl\", lines=True)\n",
    "\n",
    "print(train_df[\"label\"].value_counts())"
   ]
  },
  {
   "cell_type": "markdown",
   "id": "9a53fa10-2ccf-4a25-af12-1f595d19fb6b",
   "metadata": {},
   "source": [
    "## 2. Split dataset by labels "
   ]
  },
  {
   "cell_type": "code",
   "execution_count": 17,
   "id": "348628b5-4a56-4555-92d2-a64e2910cffd",
   "metadata": {},
   "outputs": [
    {
     "name": "stdout",
     "output_type": "stream",
     "text": [
      "Background: 4840, Method: 2294, Result: 1109\n"
     ]
    }
   ],
   "source": [
    "# Create separate DataFrames for each label\n",
    "background_df = train_df[train_df[\"label\"] == \"background\"]\n",
    "method_df = train_df[train_df[\"label\"] == \"method\"]\n",
    "result_df = train_df[train_df[\"label\"] == \"result\"]\n",
    "\n",
    "# Print dataset sizes\n",
    "print(f\"Background: {len(background_df)}, Method: {len(method_df)}, Result: {len(result_df)}\")"
   ]
  },
  {
   "cell_type": "markdown",
   "id": "56224afe-7129-4ba5-a965-17c7ebbf76f4",
   "metadata": {},
   "source": [
    "## 3. Save database"
   ]
  },
  {
   "cell_type": "code",
   "execution_count": 20,
   "id": "fd52b103-4cab-4f31-81f1-e892e26a301f",
   "metadata": {},
   "outputs": [
    {
     "name": "stdout",
     "output_type": "stream",
     "text": [
      "Database saved!\n"
     ]
    }
   ],
   "source": [
    "background_df.to_json(f\"{save_path}/train_background.jsonl\", orient=\"records\", lines=True)\n",
    "method_df.to_json(f\"{save_path}/train_method.jsonl\", orient=\"records\", lines=True)\n",
    "result_df.to_json(f\"{save_path}/train_result.jsonl\", orient=\"records\", lines=True)\n",
    "\n",
    "print(\"Database saved!\")"
   ]
  }
 ],
 "metadata": {
  "kernelspec": {
   "display_name": "Python 3 (ipykernel)",
   "language": "python",
   "name": "python3"
  },
  "language_info": {
   "codemirror_mode": {
    "name": "ipython",
    "version": 3
   },
   "file_extension": ".py",
   "mimetype": "text/x-python",
   "name": "python",
   "nbconvert_exporter": "python",
   "pygments_lexer": "ipython3",
   "version": "3.11.5"
  }
 },
 "nbformat": 4,
 "nbformat_minor": 5
}
