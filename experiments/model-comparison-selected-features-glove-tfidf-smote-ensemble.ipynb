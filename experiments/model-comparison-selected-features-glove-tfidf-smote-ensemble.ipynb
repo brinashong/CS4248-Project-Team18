{
 "cells": [
  {
   "cell_type": "markdown",
   "id": "e3dc9ae6-cce7-4b87-a88d-62213d5a7b3f",
   "metadata": {},
   "source": [
    "# Model Training"
   ]
  },
  {
   "cell_type": "code",
   "execution_count": null,
   "id": "153a9fa8-50e8-445c-b738-7517bbb610ed",
   "metadata": {},
   "outputs": [
    {
     "name": "stdout",
     "output_type": "stream",
     "text": [
      "The autoreload extension is already loaded. To reload it, use:\n",
      "  %reload_ext autoreload\n"
     ]
    }
   ],
   "source": [
    "%load_ext autoreload\n",
    "%autoreload 2\n",
    "\n",
    "import common\n",
    "import pandas as pd\n",
    "import scipy.sparse\n",
    "import joblib\n",
    "from sklearn.model_selection import train_test_split\n",
    "from sklearn.linear_model import LogisticRegression\n",
    "from sklearn.ensemble import RandomForestClassifier,StackingClassifier,GradientBoostingClassifier\n",
    "from sklearn.svm import SVC\n",
    "from sklearn.tree import plot_tree\n",
    "import matplotlib.pyplot as plt\n",
    "from imblearn.over_sampling import SMOTE\n",
    "import wandb\n",
    "import os"
   ]
  },
  {
   "cell_type": "code",
   "execution_count": 13,
   "id": "02c6dc5a-8178-4986-a420-16d82d805327",
   "metadata": {},
   "outputs": [
    {
     "data": {
      "text/plain": [
       "True"
      ]
     },
     "execution_count": 13,
     "metadata": {},
     "output_type": "execute_result"
    }
   ],
   "source": [
    "wandb.login()"
   ]
  },
  {
   "cell_type": "markdown",
   "id": "708f37ae-f8aa-4ce9-895b-c9cdf702ea76",
   "metadata": {},
   "source": [
    "## Parameters"
   ]
  },
  {
   "cell_type": "code",
   "execution_count": null,
   "id": "f5fbfa52-2416-41ef-974b-206ce49b68d1",
   "metadata": {},
   "outputs": [],
   "source": [
    "# change this accordingly\n",
    "project_path = os.path.abspath(os.path.join(os.getcwd(), os.pardir))\n",
    "\n",
    "save_path = f\"{project_path}/scicite_preprocessed\"\n",
    "dataset = \"selected-features-glove-tfidf\"\n",
    "project_name = \"model-comparison-glove-tfidf-smote-ensemble(log,svm,rf)_log_passthrough\""
   ]
  },
  {
   "cell_type": "markdown",
   "id": "90cf845b-8b16-4dd1-9d9b-92d2df67f029",
   "metadata": {},
   "source": [
    "## 1. Load dataset"
   ]
  },
  {
   "cell_type": "code",
   "execution_count": 15,
   "id": "91c52bf4-58ca-49c5-94fe-ef3d8326ab5f",
   "metadata": {},
   "outputs": [],
   "source": [
    "train_df = pd.read_csv(f\"{save_path}/train-{dataset}.csv\")\n",
    "test_df = pd.read_csv(f\"{save_path}/test-{dataset}.csv\")\n",
    "label_encoder = joblib.load(f\"{save_path}/label_encoder.pkl\")\n",
    "\n",
    "X_train = train_df.drop(columns=['label'])\n",
    "y_train = train_df[\"label\"]\n",
    "X_test = test_df.drop(columns=['label'])\n",
    "y_test = test_df[\"label\"]\n",
    "\n",
    "smote = SMOTE(sampling_strategy='all', random_state=42)\n",
    "X_train, y_train = smote.fit_resample(X_train, y_train)"
   ]
  },
  {
   "cell_type": "markdown",
   "id": "0a0a990e-57e3-438b-a944-bd8cef1ec57f",
   "metadata": {},
   "source": [
    "## 2. Train-validation split"
   ]
  },
  {
   "cell_type": "code",
   "execution_count": 16,
   "id": "cc60398b-1b1c-4b73-8ed1-78705743a1e9",
   "metadata": {},
   "outputs": [],
   "source": [
    "# Split into 80% train and 20% validation sets\n",
    "# X_train, X_val, y_train, y_val = train_test_split(X, y, test_size=0.2, random_state=42, stratify=y)"
   ]
  },
  {
   "cell_type": "markdown",
   "id": "0def2dfe-57fe-4aec-98de-22e4e8f2b3d9",
   "metadata": {},
   "source": [
    "## 3. Train Logistic Regression "
   ]
  },
  {
   "cell_type": "code",
   "execution_count": 17,
   "id": "fd4b1a9b-d846-410e-840a-ced10ee3817b",
   "metadata": {},
   "outputs": [],
   "source": [
    "# Initialize and train model\n",
    "model = LogisticRegression(max_iter=100000)\n",
    "# model.fit(X_train, y_train)\n",
    "\n",
    "# # Make predictions\n",
    "# y_pred = model.predict(X_test)\n",
    "\n",
    "# wandb.init(entity='cs4248-nlp-project',project=f\"{project_name}-{dataset}\", name=\"logistic-regression\")\n",
    "# common.evaluate(y_test, y_pred, label_encoder, \"Logistic Regression\")\n",
    "# wandb.finish()"
   ]
  },
  {
   "cell_type": "markdown",
   "id": "7382a7e8-f576-4aed-998b-22ae79e459f6",
   "metadata": {},
   "source": [
    "## 4. Train Random Forest Classifier"
   ]
  },
  {
   "cell_type": "code",
   "execution_count": 18,
   "id": "43babbf8-e900-4ce6-bbc4-fd0b06d94920",
   "metadata": {},
   "outputs": [],
   "source": [
    "rf_model = RandomForestClassifier(n_estimators=100, random_state=42)\n",
    "# rf_model.fit(X_train, y_train)\n",
    "# y_pred_rf = rf_model.predict(X_test)\n",
    "\n",
    "# wandb.init(entity='cs4248-nlp-project',project=f\"{project_name}-{dataset}\", name=\"random-forest-classifier\")\n",
    "# common.evaluate(y_test, y_pred_rf, label_encoder, \"Random Forest Classifier\")\n",
    "# wandb.finish()"
   ]
  },
  {
   "cell_type": "code",
   "execution_count": 19,
   "id": "ed3fefa8-872f-4b4a-b023-4e346268af0f",
   "metadata": {},
   "outputs": [],
   "source": [
    "# tree_index = 0\n",
    "# plt.figure(figsize=(20, 10))  # Adjust figure size for readability\n",
    "# class_names = [str(cls) for cls in rf_model.classes_]\n",
    "# class_names = class_names[0:5]\n",
    "# plot_tree(rf_model.estimators_[tree_index], feature_names=X_train.columns, class_names=class_names, filled=True, max_depth=3)\n",
    "# plt.show()"
   ]
  },
  {
   "cell_type": "markdown",
   "id": "f2733d46-2097-409f-8c95-09d959754caf",
   "metadata": {},
   "source": [
    "## 5. Train Support Vector Machine (SVM)"
   ]
  },
  {
   "cell_type": "code",
   "execution_count": null,
   "id": "b9e29b27-3afc-4a19-8e07-3f65d93019f4",
   "metadata": {},
   "outputs": [],
   "source": [
    "svm_model = SVC(kernel='linear')\n",
    "# svm_model.fit(X_train, y_train)\n",
    "# y_pred_svm = svm_model.predict(X_test)\n",
    "\n",
    "# wandb.init(entity='cs4248-nlp-project',project=f\"{project_name}-{dataset}\", name=\"support-vector-machine\")\n",
    "# common.evaluate(y_test, y_pred_svm, label_encoder, \"Support Vector Machine (SVM)\")\n",
    "# wandb.finish()"
   ]
  },
  {
   "cell_type": "markdown",
   "id": "fe521c52",
   "metadata": {},
   "source": [
    "# 6. Essemble Classifier"
   ]
  },
  {
   "cell_type": "code",
   "execution_count": 21,
   "id": "2d713075",
   "metadata": {},
   "outputs": [],
   "source": [
    "estimators=[ \n",
    "        ('logistic', model),\n",
    "        ('random_forest', rf_model)\n",
    "        ]"
   ]
  },
  {
   "cell_type": "code",
   "execution_count": 22,
   "id": "8a69821b",
   "metadata": {},
   "outputs": [
    {
     "data": {
      "text/html": [
       "creating run (0.0s)"
      ],
      "text/plain": [
       "<IPython.core.display.HTML object>"
      ]
     },
     "metadata": {},
     "output_type": "display_data"
    },
    {
     "data": {
      "text/html": [
       "Tracking run with wandb version 0.19.9"
      ],
      "text/plain": [
       "<IPython.core.display.HTML object>"
      ]
     },
     "metadata": {},
     "output_type": "display_data"
    },
    {
     "data": {
      "text/html": [
       "Run data is saved locally in <code>e:\\cs4248_proj\\CS4248-NLP-Project\\experiments\\wandb\\run-20250409_105626-16drfkwz</code>"
      ],
      "text/plain": [
       "<IPython.core.display.HTML object>"
      ]
     },
     "metadata": {},
     "output_type": "display_data"
    },
    {
     "data": {
      "text/html": [
       "Syncing run <strong><a href='https://wandb.ai/cs4248-nlp-project/model-comparison-glove-unigram-smote-ensemble%28log%2Csvm%2Crf%29_log_passthrough-selected-features-glove-unigram/runs/16drfkwz' target=\"_blank\">Trained-glove-unigram-ensemble(log,rf)_log_passthrough</a></strong> to <a href='https://wandb.ai/cs4248-nlp-project/model-comparison-glove-unigram-smote-ensemble%28log%2Csvm%2Crf%29_log_passthrough-selected-features-glove-unigram' target=\"_blank\">Weights & Biases</a> (<a href='https://wandb.me/developer-guide' target=\"_blank\">docs</a>)<br>"
      ],
      "text/plain": [
       "<IPython.core.display.HTML object>"
      ]
     },
     "metadata": {},
     "output_type": "display_data"
    },
    {
     "data": {
      "text/html": [
       " View project at <a href='https://wandb.ai/cs4248-nlp-project/model-comparison-glove-unigram-smote-ensemble%28log%2Csvm%2Crf%29_log_passthrough-selected-features-glove-unigram' target=\"_blank\">https://wandb.ai/cs4248-nlp-project/model-comparison-glove-unigram-smote-ensemble%28log%2Csvm%2Crf%29_log_passthrough-selected-features-glove-unigram</a>"
      ],
      "text/plain": [
       "<IPython.core.display.HTML object>"
      ]
     },
     "metadata": {},
     "output_type": "display_data"
    },
    {
     "data": {
      "text/html": [
       " View run at <a href='https://wandb.ai/cs4248-nlp-project/model-comparison-glove-unigram-smote-ensemble%28log%2Csvm%2Crf%29_log_passthrough-selected-features-glove-unigram/runs/16drfkwz' target=\"_blank\">https://wandb.ai/cs4248-nlp-project/model-comparison-glove-unigram-smote-ensemble%28log%2Csvm%2Crf%29_log_passthrough-selected-features-glove-unigram/runs/16drfkwz</a>"
      ],
      "text/plain": [
       "<IPython.core.display.HTML object>"
      ]
     },
     "metadata": {},
     "output_type": "display_data"
    },
    {
     "name": "stdout",
     "output_type": "stream",
     "text": [
      "Trained-glove-unigram-ensemble(log,rf)_log_passthrough\n",
      "-----Evaluation-----\n",
      "Accuracy: 0.8036\n",
      "Macro F1-score: 0.7736\n",
      "Micro F1-score: 0.8036\n"
     ]
    },
    {
     "data": {
      "image/png": "[encoded data removed]",
      "text/plain": [
       "<Figure size 600x500 with 2 Axes>"
      ]
     },
     "metadata": {},
     "output_type": "display_data"
    },
    {
     "name": "stderr",
     "output_type": "stream",
     "text": [
      "\u001b[34m\u001b[1mwandb\u001b[0m: \u001b[32m\u001b[41mERROR\u001b[0m The nbformat package was not found. It is required to save notebook history.\n"
     ]
    },
    {
     "data": {
      "text/html": [],
      "text/plain": [
       "<IPython.core.display.HTML object>"
      ]
     },
     "metadata": {},
     "output_type": "display_data"
    },
    {
     "data": {
      "text/html": [
       "<br>    <style><br>        .wandb-row {<br>            display: flex;<br>            flex-direction: row;<br>            flex-wrap: wrap;<br>            justify-content: flex-start;<br>            width: 100%;<br>        }<br>        .wandb-col {<br>            display: flex;<br>            flex-direction: column;<br>            flex-basis: 100%;<br>            flex: 1;<br>            padding: 10px;<br>        }<br>    </style><br><div class=\"wandb-row\"><div class=\"wandb-col\"><h3>Run history:</h3><br/><table class=\"wandb\"><tr><td>Accuracy Score</td><td>▁</td></tr><tr><td>Macro F1-score</td><td>▁</td></tr><tr><td>Micro F1-score</td><td>▁</td></tr></table><br/></div><div class=\"wandb-col\"><h3>Run summary:</h3><br/><table class=\"wandb\"><tr><td>Accuracy Score</td><td>0.80355</td></tr><tr><td>Macro F1-score</td><td>0.77364</td></tr><tr><td>Micro F1-score</td><td>0.80355</td></tr></table><br/></div></div>"
      ],
      "text/plain": [
       "<IPython.core.display.HTML object>"
      ]
     },
     "metadata": {},
     "output_type": "display_data"
    },
    {
     "data": {
      "text/html": [
       " View run <strong style=\"color:#cdcd00\">Trained-glove-unigram-ensemble(log,rf)_log_passthrough</strong> at: <a href='https://wandb.ai/cs4248-nlp-project/model-comparison-glove-unigram-smote-ensemble%28log%2Csvm%2Crf%29_log_passthrough-selected-features-glove-unigram/runs/16drfkwz' target=\"_blank\">https://wandb.ai/cs4248-nlp-project/model-comparison-glove-unigram-smote-ensemble%28log%2Csvm%2Crf%29_log_passthrough-selected-features-glove-unigram/runs/16drfkwz</a><br> View project at: <a href='https://wandb.ai/cs4248-nlp-project/model-comparison-glove-unigram-smote-ensemble%28log%2Csvm%2Crf%29_log_passthrough-selected-features-glove-unigram' target=\"_blank\">https://wandb.ai/cs4248-nlp-project/model-comparison-glove-unigram-smote-ensemble%28log%2Csvm%2Crf%29_log_passthrough-selected-features-glove-unigram</a><br>Synced 5 W&B file(s), 1 media file(s), 2 artifact file(s) and 0 other file(s)"
      ],
      "text/plain": [
       "<IPython.core.display.HTML object>"
      ]
     },
     "metadata": {},
     "output_type": "display_data"
    },
    {
     "data": {
      "text/html": [
       "Find logs at: <code>.\\wandb\\run-20250409_105626-16drfkwz\\logs</code>"
      ],
      "text/plain": [
       "<IPython.core.display.HTML object>"
      ]
     },
     "metadata": {},
     "output_type": "display_data"
    }
   ],
   "source": [
    "# Define stacking classifier with pre-trained models\n",
    "stacking_clf = StackingClassifier(\n",
    "    estimators= estimators,\n",
    "    final_estimator=LogisticRegression(max_iter=100000),\n",
    "    passthrough=True,  # Set to True if you want raw features included\n",
    "    cv=5,  # Cross-validation for meta-classifier training\n",
    "    stack_method=\"auto\",  # Uses \"predict_proba\" or \"decision_function\" if available\\\n",
    "    verbose=1\n",
    ")\n",
    "\n",
    "# Train the stacking classifier\n",
    "stacking_clf.fit(X_train, y_train)\n",
    "\n",
    "# Make predictions\n",
    "y_pred = stacking_clf.predict(X_test)\n",
    "\n",
    "# Evaluate the model\n",
    "wandb.init(entity='cs4248-nlp-project',project=f\"{project_name}-{dataset}\", name=\"Trained-glove-unigram-ensemble(log,rf)_log_passthrough\")\n",
    "common.evaluate(y_test, y_pred, label_encoder, \"Trained-glove-unigram-ensemble(log,rf)_log_passthrough\")\n",
    "wandb.finish()"
   ]
  }
 ],
 "metadata": {
  "kernelspec": {
   "display_name": "nlp_proj",
   "language": "python",
   "name": "python3"
  },
  "language_info": {
   "codemirror_mode": {
    "name": "ipython",
    "version": 3
   },
   "file_extension": ".py",
   "mimetype": "text/x-python",
   "name": "python",
   "nbconvert_exporter": "python",
   "pygments_lexer": "ipython3",
   "version": "3.11.0"
  }
 },
 "nbformat": 4,
 "nbformat_minor": 5
}
