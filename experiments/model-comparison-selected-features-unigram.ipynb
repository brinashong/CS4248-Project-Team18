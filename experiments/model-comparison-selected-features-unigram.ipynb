{
 "cells": [
  {
   "cell_type": "markdown",
   "id": "e3dc9ae6-cce7-4b87-a88d-62213d5a7b3f",
   "metadata": {},
   "source": [
    "# Model Training"
   ]
  },
  {
   "cell_type": "code",
   "execution_count": 9,
   "id": "153a9fa8-50e8-445c-b738-7517bbb610ed",
   "metadata": {},
   "outputs": [
    {
     "name": "stdout",
     "output_type": "stream",
     "text": [
      "The autoreload extension is already loaded. To reload it, use:\n",
      "  %reload_ext autoreload\n"
     ]
    }
   ],
   "source": [
    "%load_ext autoreload\n",
    "%autoreload 2\n",
    "\n",
    "import common\n",
    "import pandas as pd\n",
    "import scipy.sparse\n",
    "import joblib\n",
    "from sklearn.model_selection import train_test_split\n",
    "from sklearn.linear_model import LogisticRegression\n",
    "from sklearn.ensemble import RandomForestClassifier\n",
    "from sklearn.svm import SVC\n",
    "import wandb"
   ]
  },
  {
   "cell_type": "code",
   "execution_count": 10,
   "id": "02c6dc5a-8178-4986-a420-16d82d805327",
   "metadata": {},
   "outputs": [
    {
     "data": {
      "text/plain": [
       "True"
      ]
     },
     "execution_count": 10,
     "metadata": {},
     "output_type": "execute_result"
    }
   ],
   "source": [
    "wandb.login()"
   ]
  },
  {
   "cell_type": "markdown",
   "id": "708f37ae-f8aa-4ce9-895b-c9cdf702ea76",
   "metadata": {},
   "source": [
    "## Parameters"
   ]
  },
  {
   "cell_type": "code",
   "execution_count": 3,
   "id": "f5fbfa52-2416-41ef-974b-206ce49b68d1",
   "metadata": {},
   "outputs": [],
   "source": [
    "# change this accordingly\n",
    "project_path = \"/home/brina/nus-mcomp/sem3/cs4248-natural-language-processing/Project/CS4248-NLP-Project\"\n",
    "\n",
    "save_path = f\"{project_path}/scicite_preprocessed\"\n",
    "dataset = \"selected-features-unigram\"\n",
    "project_name = \"model-comparison\""
   ]
  },
  {
   "cell_type": "markdown",
   "id": "90cf845b-8b16-4dd1-9d9b-92d2df67f029",
   "metadata": {},
   "source": [
    "## 1. Load dataset"
   ]
  },
  {
   "cell_type": "code",
   "execution_count": 4,
   "id": "91c52bf4-58ca-49c5-94fe-ef3d8326ab5f",
   "metadata": {},
   "outputs": [],
   "source": [
    "train_df = pd.read_csv(f\"{save_path}/train-{dataset}.csv\")\n",
    "test_df = pd.read_csv(f\"{save_path}/test-{dataset}.csv\")\n",
    "label_encoder = joblib.load(f\"{save_path}/label_encoder.pkl\")\n",
    "\n",
    "X_train = train_df.drop(columns=['label'])\n",
    "y_train = train_df[\"label\"]\n",
    "X_test = test_df.drop(columns=['label'])\n",
    "y_test = test_df[\"label\"]"
   ]
  },
  {
   "cell_type": "markdown",
   "id": "0a0a990e-57e3-438b-a944-bd8cef1ec57f",
   "metadata": {},
   "source": [
    "## 2. Train-validation split"
   ]
  },
  {
   "cell_type": "code",
   "execution_count": 5,
   "id": "cc60398b-1b1c-4b73-8ed1-78705743a1e9",
   "metadata": {},
   "outputs": [],
   "source": [
    "# Split into 80% train and 20% validation sets\n",
    "# X_train, X_val, y_train, y_val = train_test_split(X, y, test_size=0.2, random_state=42, stratify=y)"
   ]
  },
  {
   "cell_type": "markdown",
   "id": "0def2dfe-57fe-4aec-98de-22e4e8f2b3d9",
   "metadata": {},
   "source": [
    "## 3. Train Logistic Regression "
   ]
  },
  {
   "cell_type": "code",
   "execution_count": 6,
   "id": "fd4b1a9b-d846-410e-840a-ced10ee3817b",
   "metadata": {},
   "outputs": [
    {
     "name": "stderr",
     "output_type": "stream",
     "text": [
      "/home/brina/miniconda3/envs/nlp/lib/python3.11/site-packages/sklearn/linear_model/_logistic.py:465: ConvergenceWarning: lbfgs failed to converge (status=1):\n",
      "STOP: TOTAL NO. of ITERATIONS REACHED LIMIT.\n",
      "\n",
      "Increase the number of iterations (max_iter) or scale the data as shown in:\n",
      "    https://scikit-learn.org/stable/modules/preprocessing.html\n",
      "Please also refer to the documentation for alternative solver options:\n",
      "    https://scikit-learn.org/stable/modules/linear_model.html#logistic-regression\n",
      "  n_iter_i = _check_optimize_result(\n"
     ]
    },
    {
     "data": {
      "text/html": [
       "creating run (0.0s)"
      ],
      "text/plain": [
       "<IPython.core.display.HTML object>"
      ]
     },
     "metadata": {},
     "output_type": "display_data"
    },
    {
     "data": {
      "text/html": [
       "Tracking run with wandb version 0.19.8"
      ],
      "text/plain": [
       "<IPython.core.display.HTML object>"
      ]
     },
     "metadata": {},
     "output_type": "display_data"
    },
    {
     "data": {
      "text/html": [
       "Run data is saved locally in <code>/home/brina/nus-mcomp/sem3/cs4248-natural-language-processing/Project/CS4248-NLP-Project/experiments/wandb/run-20250326_160257-j6uerzhn</code>"
      ],
      "text/plain": [
       "<IPython.core.display.HTML object>"
      ]
     },
     "metadata": {},
     "output_type": "display_data"
    },
    {
     "data": {
      "text/html": [
       "Syncing run <strong><a href='https://wandb.ai/brinashong/model-comparison-selected-features-unigram/runs/j6uerzhn' target=\"_blank\">logistic-regression</a></strong> to <a href='https://wandb.ai/brinashong/model-comparison-selected-features-unigram' target=\"_blank\">Weights & Biases</a> (<a href='https://wandb.me/developer-guide' target=\"_blank\">docs</a>)<br>"
      ],
      "text/plain": [
       "<IPython.core.display.HTML object>"
      ]
     },
     "metadata": {},
     "output_type": "display_data"
    },
    {
     "data": {
      "text/html": [
       " View project at <a href='https://wandb.ai/brinashong/model-comparison-selected-features-unigram' target=\"_blank\">https://wandb.ai/brinashong/model-comparison-selected-features-unigram</a>"
      ],
      "text/plain": [
       "<IPython.core.display.HTML object>"
      ]
     },
     "metadata": {},
     "output_type": "display_data"
    },
    {
     "data": {
      "text/html": [
       " View run at <a href='https://wandb.ai/brinashong/model-comparison-selected-features-unigram/runs/j6uerzhn' target=\"_blank\">https://wandb.ai/brinashong/model-comparison-selected-features-unigram/runs/j6uerzhn</a>"
      ],
      "text/plain": [
       "<IPython.core.display.HTML object>"
      ]
     },
     "metadata": {},
     "output_type": "display_data"
    },
    {
     "name": "stdout",
     "output_type": "stream",
     "text": [
      "Logistic Regression\n",
      "-----Evaluation-----\n",
      "Accuracy: 0.8105\n",
      "Macro F1-score: 0.7748\n",
      "Micro F1-score: 0.8105\n"
     ]
    },
    {
     "data": {
      "image/png": "[encoded data removed]",
      "text/plain": [
       "<Figure size 600x500 with 2 Axes>"
      ]
     },
     "metadata": {},
     "output_type": "display_data"
    },
    {
     "data": {
      "text/html": [],
      "text/plain": [
       "<IPython.core.display.HTML object>"
      ]
     },
     "metadata": {},
     "output_type": "display_data"
    },
    {
     "data": {
      "text/html": [
       "<br>    <style><br>        .wandb-row {<br>            display: flex;<br>            flex-direction: row;<br>            flex-wrap: wrap;<br>            justify-content: flex-start;<br>            width: 100%;<br>        }<br>        .wandb-col {<br>            display: flex;<br>            flex-direction: column;<br>            flex-basis: 100%;<br>            flex: 1;<br>            padding: 10px;<br>        }<br>    </style><br><div class=\"wandb-row\"><div class=\"wandb-col\"><h3>Run history:</h3><br/><table class=\"wandb\"><tr><td>Accuracy Score</td><td>▁</td></tr><tr><td>Macro F1-score</td><td>▁</td></tr><tr><td>Micro F1-score</td><td>▁</td></tr></table><br/></div><div class=\"wandb-col\"><h3>Run summary:</h3><br/><table class=\"wandb\"><tr><td>Accuracy Score</td><td>0.81055</td></tr><tr><td>Macro F1-score</td><td>0.77482</td></tr><tr><td>Micro F1-score</td><td>0.81055</td></tr></table><br/></div></div>"
      ],
      "text/plain": [
       "<IPython.core.display.HTML object>"
      ]
     },
     "metadata": {},
     "output_type": "display_data"
    },
    {
     "data": {
      "text/html": [
       " View run <strong style=\"color:#cdcd00\">logistic-regression</strong> at: <a href='https://wandb.ai/brinashong/model-comparison-selected-features-unigram/runs/j6uerzhn' target=\"_blank\">https://wandb.ai/brinashong/model-comparison-selected-features-unigram/runs/j6uerzhn</a><br> View project at: <a href='https://wandb.ai/brinashong/model-comparison-selected-features-unigram' target=\"_blank\">https://wandb.ai/brinashong/model-comparison-selected-features-unigram</a><br>Synced 5 W&B file(s), 1 media file(s), 2 artifact file(s) and 0 other file(s)"
      ],
      "text/plain": [
       "<IPython.core.display.HTML object>"
      ]
     },
     "metadata": {},
     "output_type": "display_data"
    },
    {
     "data": {
      "text/html": [
       "Find logs at: <code>./wandb/run-20250326_160257-j6uerzhn/logs</code>"
      ],
      "text/plain": [
       "<IPython.core.display.HTML object>"
      ]
     },
     "metadata": {},
     "output_type": "display_data"
    }
   ],
   "source": [
    "# Initialize and train model\n",
    "model = LogisticRegression(max_iter=1000)\n",
    "model.fit(X_train, y_train)\n",
    "\n",
    "# Make predictions\n",
    "y_pred = model.predict(X_test)\n",
    "\n",
    "wandb.init(project=f\"{project_name}-{dataset}\", name=\"logistic-regression\")\n",
    "common.evaluate(y_test, y_pred, label_encoder, \"Logistic Regression\")\n",
    "wandb.finish()"
   ]
  },
  {
   "cell_type": "markdown",
   "id": "7382a7e8-f576-4aed-998b-22ae79e459f6",
   "metadata": {},
   "source": [
    "## 4. Train Random Forest Classifier"
   ]
  },
  {
   "cell_type": "code",
   "execution_count": 7,
   "id": "43babbf8-e900-4ce6-bbc4-fd0b06d94920",
   "metadata": {},
   "outputs": [
    {
     "data": {
      "text/html": [
       "Tracking run with wandb version 0.19.8"
      ],
      "text/plain": [
       "<IPython.core.display.HTML object>"
      ]
     },
     "metadata": {},
     "output_type": "display_data"
    },
    {
     "data": {
      "text/html": [
       "Run data is saved locally in <code>/home/brina/nus-mcomp/sem3/cs4248-natural-language-processing/Project/CS4248-NLP-Project/experiments/wandb/run-20250326_160311-34j75vdx</code>"
      ],
      "text/plain": [
       "<IPython.core.display.HTML object>"
      ]
     },
     "metadata": {},
     "output_type": "display_data"
    },
    {
     "data": {
      "text/html": [
       "Syncing run <strong><a href='https://wandb.ai/brinashong/model-comparison-selected-features-unigram/runs/34j75vdx' target=\"_blank\">random-forest-classifier</a></strong> to <a href='https://wandb.ai/brinashong/model-comparison-selected-features-unigram' target=\"_blank\">Weights & Biases</a> (<a href='https://wandb.me/developer-guide' target=\"_blank\">docs</a>)<br>"
      ],
      "text/plain": [
       "<IPython.core.display.HTML object>"
      ]
     },
     "metadata": {},
     "output_type": "display_data"
    },
    {
     "data": {
      "text/html": [
       " View project at <a href='https://wandb.ai/brinashong/model-comparison-selected-features-unigram' target=\"_blank\">https://wandb.ai/brinashong/model-comparison-selected-features-unigram</a>"
      ],
      "text/plain": [
       "<IPython.core.display.HTML object>"
      ]
     },
     "metadata": {},
     "output_type": "display_data"
    },
    {
     "data": {
      "text/html": [
       " View run at <a href='https://wandb.ai/brinashong/model-comparison-selected-features-unigram/runs/34j75vdx' target=\"_blank\">https://wandb.ai/brinashong/model-comparison-selected-features-unigram/runs/34j75vdx</a>"
      ],
      "text/plain": [
       "<IPython.core.display.HTML object>"
      ]
     },
     "metadata": {},
     "output_type": "display_data"
    },
    {
     "name": "stdout",
     "output_type": "stream",
     "text": [
      "Random Forest Classifier\n",
      "-----Evaluation-----\n",
      "Accuracy: 0.8175\n",
      "Macro F1-score: 0.7921\n",
      "Micro F1-score: 0.8175\n"
     ]
    },
    {
     "data": {
      "image/png": "[encoded data removed]",
      "text/plain": [
       "<Figure size 600x500 with 2 Axes>"
      ]
     },
     "metadata": {},
     "output_type": "display_data"
    },
    {
     "data": {
      "text/html": [],
      "text/plain": [
       "<IPython.core.display.HTML object>"
      ]
     },
     "metadata": {},
     "output_type": "display_data"
    },
    {
     "data": {
      "text/html": [
       "<br>    <style><br>        .wandb-row {<br>            display: flex;<br>            flex-direction: row;<br>            flex-wrap: wrap;<br>            justify-content: flex-start;<br>            width: 100%;<br>        }<br>        .wandb-col {<br>            display: flex;<br>            flex-direction: column;<br>            flex-basis: 100%;<br>            flex: 1;<br>            padding: 10px;<br>        }<br>    </style><br><div class=\"wandb-row\"><div class=\"wandb-col\"><h3>Run history:</h3><br/><table class=\"wandb\"><tr><td>Accuracy Score</td><td>▁</td></tr><tr><td>Macro F1-score</td><td>▁</td></tr><tr><td>Micro F1-score</td><td>▁</td></tr></table><br/></div><div class=\"wandb-col\"><h3>Run summary:</h3><br/><table class=\"wandb\"><tr><td>Accuracy Score</td><td>0.81755</td></tr><tr><td>Macro F1-score</td><td>0.7921</td></tr><tr><td>Micro F1-score</td><td>0.81755</td></tr></table><br/></div></div>"
      ],
      "text/plain": [
       "<IPython.core.display.HTML object>"
      ]
     },
     "metadata": {},
     "output_type": "display_data"
    },
    {
     "data": {
      "text/html": [
       " View run <strong style=\"color:#cdcd00\">random-forest-classifier</strong> at: <a href='https://wandb.ai/brinashong/model-comparison-selected-features-unigram/runs/34j75vdx' target=\"_blank\">https://wandb.ai/brinashong/model-comparison-selected-features-unigram/runs/34j75vdx</a><br> View project at: <a href='https://wandb.ai/brinashong/model-comparison-selected-features-unigram' target=\"_blank\">https://wandb.ai/brinashong/model-comparison-selected-features-unigram</a><br>Synced 5 W&B file(s), 1 media file(s), 2 artifact file(s) and 0 other file(s)"
      ],
      "text/plain": [
       "<IPython.core.display.HTML object>"
      ]
     },
     "metadata": {},
     "output_type": "display_data"
    },
    {
     "data": {
      "text/html": [
       "Find logs at: <code>./wandb/run-20250326_160311-34j75vdx/logs</code>"
      ],
      "text/plain": [
       "<IPython.core.display.HTML object>"
      ]
     },
     "metadata": {},
     "output_type": "display_data"
    }
   ],
   "source": [
    "rf_model = RandomForestClassifier(n_estimators=100, random_state=42)\n",
    "rf_model.fit(X_train, y_train)\n",
    "y_pred_rf = rf_model.predict(X_test)\n",
    "\n",
    "wandb.init(project=f\"{project_name}-{dataset}\", name=\"random-forest-classifier\")\n",
    "common.evaluate(y_test, y_pred_rf, label_encoder, \"Random Forest Classifier\")\n",
    "wandb.finish()"
   ]
  },
  {
   "cell_type": "markdown",
   "id": "f2733d46-2097-409f-8c95-09d959754caf",
   "metadata": {},
   "source": [
    "## 5. Train Support Vector Machine (SVM)"
   ]
  },
  {
   "cell_type": "code",
   "execution_count": 8,
   "id": "b9e29b27-3afc-4a19-8e07-3f65d93019f4",
   "metadata": {},
   "outputs": [
    {
     "data": {
      "text/html": [
       "creating run (0.5s)"
      ],
      "text/plain": [
       "<IPython.core.display.HTML object>"
      ]
     },
     "metadata": {},
     "output_type": "display_data"
    },
    {
     "data": {
      "text/html": [
       "Tracking run with wandb version 0.19.8"
      ],
      "text/plain": [
       "<IPython.core.display.HTML object>"
      ]
     },
     "metadata": {},
     "output_type": "display_data"
    },
    {
     "data": {
      "text/html": [
       "Run data is saved locally in <code>/home/brina/nus-mcomp/sem3/cs4248-natural-language-processing/Project/CS4248-NLP-Project/experiments/wandb/run-20250326_162739-28h3kmje</code>"
      ],
      "text/plain": [
       "<IPython.core.display.HTML object>"
      ]
     },
     "metadata": {},
     "output_type": "display_data"
    },
    {
     "data": {
      "text/html": [
       "Syncing run <strong><a href='https://wandb.ai/brinashong/model-comparison-selected-features-unigram/runs/28h3kmje' target=\"_blank\">support-vector-machine</a></strong> to <a href='https://wandb.ai/brinashong/model-comparison-selected-features-unigram' target=\"_blank\">Weights & Biases</a> (<a href='https://wandb.me/developer-guide' target=\"_blank\">docs</a>)<br>"
      ],
      "text/plain": [
       "<IPython.core.display.HTML object>"
      ]
     },
     "metadata": {},
     "output_type": "display_data"
    },
    {
     "data": {
      "text/html": [
       " View project at <a href='https://wandb.ai/brinashong/model-comparison-selected-features-unigram' target=\"_blank\">https://wandb.ai/brinashong/model-comparison-selected-features-unigram</a>"
      ],
      "text/plain": [
       "<IPython.core.display.HTML object>"
      ]
     },
     "metadata": {},
     "output_type": "display_data"
    },
    {
     "data": {
      "text/html": [
       " View run at <a href='https://wandb.ai/brinashong/model-comparison-selected-features-unigram/runs/28h3kmje' target=\"_blank\">https://wandb.ai/brinashong/model-comparison-selected-features-unigram/runs/28h3kmje</a>"
      ],
      "text/plain": [
       "<IPython.core.display.HTML object>"
      ]
     },
     "metadata": {},
     "output_type": "display_data"
    },
    {
     "name": "stdout",
     "output_type": "stream",
     "text": [
      "Support Vector Machine (SVM)\n",
      "-----Evaluation-----\n",
      "Accuracy: 0.8046\n",
      "Macro F1-score: 0.7783\n",
      "Micro F1-score: 0.8046\n"
     ]
    },
    {
     "data": {
      "image/png": "[encoded data removed]",
      "text/plain": [
       "<Figure size 600x500 with 2 Axes>"
      ]
     },
     "metadata": {},
     "output_type": "display_data"
    },
    {
     "data": {
      "text/html": [],
      "text/plain": [
       "<IPython.core.display.HTML object>"
      ]
     },
     "metadata": {},
     "output_type": "display_data"
    },
    {
     "data": {
      "text/html": [
       "<br>    <style><br>        .wandb-row {<br>            display: flex;<br>            flex-direction: row;<br>            flex-wrap: wrap;<br>            justify-content: flex-start;<br>            width: 100%;<br>        }<br>        .wandb-col {<br>            display: flex;<br>            flex-direction: column;<br>            flex-basis: 100%;<br>            flex: 1;<br>            padding: 10px;<br>        }<br>    </style><br><div class=\"wandb-row\"><div class=\"wandb-col\"><h3>Run history:</h3><br/><table class=\"wandb\"><tr><td>Accuracy Score</td><td>▁</td></tr><tr><td>Macro F1-score</td><td>▁</td></tr><tr><td>Micro F1-score</td><td>▁</td></tr></table><br/></div><div class=\"wandb-col\"><h3>Run summary:</h3><br/><table class=\"wandb\"><tr><td>Accuracy Score</td><td>0.80463</td></tr><tr><td>Macro F1-score</td><td>0.77833</td></tr><tr><td>Micro F1-score</td><td>0.80463</td></tr></table><br/></div></div>"
      ],
      "text/plain": [
       "<IPython.core.display.HTML object>"
      ]
     },
     "metadata": {},
     "output_type": "display_data"
    },
    {
     "data": {
      "text/html": [
       " View run <strong style=\"color:#cdcd00\">support-vector-machine</strong> at: <a href='https://wandb.ai/brinashong/model-comparison-selected-features-unigram/runs/28h3kmje' target=\"_blank\">https://wandb.ai/brinashong/model-comparison-selected-features-unigram/runs/28h3kmje</a><br> View project at: <a href='https://wandb.ai/brinashong/model-comparison-selected-features-unigram' target=\"_blank\">https://wandb.ai/brinashong/model-comparison-selected-features-unigram</a><br>Synced 5 W&B file(s), 1 media file(s), 2 artifact file(s) and 0 other file(s)"
      ],
      "text/plain": [
       "<IPython.core.display.HTML object>"
      ]
     },
     "metadata": {},
     "output_type": "display_data"
    },
    {
     "data": {
      "text/html": [
       "Find logs at: <code>./wandb/run-20250326_162739-28h3kmje/logs</code>"
      ],
      "text/plain": [
       "<IPython.core.display.HTML object>"
      ]
     },
     "metadata": {},
     "output_type": "display_data"
    }
   ],
   "source": [
    "svm_model = SVC(kernel='linear')\n",
    "svm_model.fit(X_train, y_train)\n",
    "y_pred_svm = svm_model.predict(X_test)\n",
    "\n",
    "wandb.init(project=f\"{project_name}-{dataset}\", name=\"support-vector-machine\")\n",
    "common.evaluate(y_test, y_pred_svm, label_encoder, \"Support Vector Machine (SVM)\")\n",
    "wandb.finish()"
   ]
  },
  {
   "cell_type": "code",
   "execution_count": null,
   "id": "743af86c-aa7c-43ae-8f9e-1ef217cf917b",
   "metadata": {},
   "outputs": [],
   "source": []
  }
 ],
 "metadata": {
  "kernelspec": {
   "display_name": "Python 3 (ipykernel)",
   "language": "python",
   "name": "python3"
  },
  "language_info": {
   "codemirror_mode": {
    "name": "ipython",
    "version": 3
   },
   "file_extension": ".py",
   "mimetype": "text/x-python",
   "name": "python",
   "nbconvert_exporter": "python",
   "pygments_lexer": "ipython3",
   "version": "3.11.5"
  }
 },
 "nbformat": 4,
 "nbformat_minor": 5
}
