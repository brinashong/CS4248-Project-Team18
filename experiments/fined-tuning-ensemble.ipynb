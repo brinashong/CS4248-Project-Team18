{
 "cells": [
  {
   "cell_type": "markdown",
   "id": "e3dc9ae6-cce7-4b87-a88d-62213d5a7b3f",
   "metadata": {},
   "source": [
    "# Model Training"
   ]
  },
  {
   "cell_type": "code",
   "execution_count": 1,
   "id": "153a9fa8-50e8-445c-b738-7517bbb610ed",
   "metadata": {},
   "outputs": [],
   "source": [
    "%load_ext autoreload\n",
    "%autoreload 2\n",
    "\n",
    "import common\n",
    "import pandas as pd\n",
    "import scipy.sparse\n",
    "import joblib\n",
    "from sklearn.metrics import classification_report,confusion_matrix,ConfusionMatrixDisplay\n",
    "from sklearn.model_selection import train_test_split,GridSearchCV\n",
    "from sklearn.linear_model import LogisticRegression\n",
    "from sklearn.ensemble import RandomForestClassifier,StackingClassifier\n",
    "from sklearn.svm import SVC\n",
    "from sklearn.tree import plot_tree\n",
    "import matplotlib.pyplot as plt\n",
    "from imblearn.over_sampling import SMOTE\n",
    "import wandb\n",
    "import pickle\n",
    "import os"
   ]
  },
  {
   "cell_type": "code",
   "execution_count": 4,
   "id": "02c6dc5a-8178-4986-a420-16d82d805327",
   "metadata": {},
   "outputs": [
    {
     "name": "stderr",
     "output_type": "stream",
     "text": [
      "\u001b[34m\u001b[1mwandb\u001b[0m: Using wandb-core as the SDK backend.  Please refer to https://wandb.me/wandb-core for more information.\n",
      "\u001b[34m\u001b[1mwandb\u001b[0m: Currently logged in as: \u001b[33mnontaphat-c\u001b[0m (\u001b[33mnontaphat-c-nus\u001b[0m) to \u001b[32mhttps://api.wandb.ai\u001b[0m. Use \u001b[1m`wandb login --relogin`\u001b[0m to force relogin\n"
     ]
    },
    {
     "data": {
      "text/plain": [
       "True"
      ]
     },
     "execution_count": 4,
     "metadata": {},
     "output_type": "execute_result"
    }
   ],
   "source": [
    "wandb.login()"
   ]
  },
  {
   "cell_type": "code",
   "execution_count": 5,
   "id": "59b71fee",
   "metadata": {},
   "outputs": [],
   "source": [
    "def evaluate(y_true,y_pred,digits=5):\n",
    "    print(classification_report(y_true,y_pred,digits=digits))\n",
    "    confusion_mtx = confusion_matrix(y_true,y_pred)\n",
    "    disp = ConfusionMatrixDisplay(confusion_mtx)\n",
    "    disp.plot()\n",
    "    plt.show()"
   ]
  },
  {
   "cell_type": "markdown",
   "id": "708f37ae-f8aa-4ce9-895b-c9cdf702ea76",
   "metadata": {},
   "source": [
    "## Parameters"
   ]
  },
  {
   "cell_type": "code",
   "execution_count": 6,
   "id": "f5fbfa52-2416-41ef-974b-206ce49b68d1",
   "metadata": {},
   "outputs": [],
   "source": [
    "# change this accordingly\n",
    "project_path = os.path.abspath(os.path.join(os.getcwd(), os.pardir))\n",
    "\n",
    "save_path = f\"{project_path}/scicite_preprocessed\"\n",
    "dataset = \"selected-features\"\n",
    "project_name = \"model-comparison-smote-svc-fine-tuned\""
   ]
  },
  {
   "cell_type": "markdown",
   "id": "90cf845b-8b16-4dd1-9d9b-92d2df67f029",
   "metadata": {},
   "source": [
    "## 1. Load dataset"
   ]
  },
  {
   "cell_type": "code",
   "execution_count": 7,
   "id": "91c52bf4-58ca-49c5-94fe-ef3d8326ab5f",
   "metadata": {},
   "outputs": [],
   "source": [
    "train_df = pd.read_csv(f\"{save_path}/train-{dataset}.csv\")\n",
    "test_df = pd.read_csv(f\"{save_path}/test-{dataset}.csv\")\n",
    "label_encoder = joblib.load(f\"{save_path}/label_encoder.pkl\")\n",
    "\n",
    "X_train = train_df.drop(columns=['label'])\n",
    "y_train = train_df[\"label\"]\n",
    "X_test = test_df.drop(columns=['label'])\n",
    "y_test = test_df[\"label\"]\n",
    "\n",
    "smote = SMOTE(sampling_strategy='all', random_state=42)\n",
    "X_train, y_train = smote.fit_resample(X_train, y_train)"
   ]
  },
  {
   "cell_type": "markdown",
   "id": "7382a7e8-f576-4aed-998b-22ae79e459f6",
   "metadata": {},
   "source": [
    "## Load fine-tuned model"
   ]
  },
  {
   "cell_type": "code",
   "execution_count": null,
   "id": "43babbf8-e900-4ce6-bbc4-fd0b06d94920",
   "metadata": {},
   "outputs": [],
   "source": [
    "# load all the fined-tuned-model for ensemble\n",
    "# load fine-tuned log regression\n",
    "\n",
    "with open(r\"E:\\cs4248_proj\\CS4248-NLP-Project\\model\\fine-tuend-log-reg.pkl\",\"rb\") as f:\n",
    "    log_model = pickle.load(f)\n",
    "# load random forest model\n",
    "with open(r\"E:\\cs4248_proj\\CS4248-NLP-Project\\model\\fine-tuned-rf.pkl\",\"rb\") as f:\n",
    "    rf_model = pickle.load(f)"
   ]
  },
  {
   "cell_type": "markdown",
   "id": "ba73fc8e",
   "metadata": {},
   "source": [
    "# Essemble Classifier"
   ]
  },
  {
   "cell_type": "code",
   "execution_count": null,
   "id": "5051e081",
   "metadata": {},
   "outputs": [],
   "source": [
    "\n",
    "estimators=[ \n",
    "        ('logistic', log_model),\n",
    "        ('random_forest', rf_model)\n",
    "        ]\n",
    "# Define stacking classifier with pre-trained models\n",
    "stacking_clf = StackingClassifier(\n",
    "    estimators= estimators,\n",
    "    final_estimator=LogisticRegression(max_iter=1000000),\n",
    "    passthrough=False, \n",
    "    cv='prefit',  # Cross-validation for meta-classifier training\n",
    "    stack_method=\"auto\",  # Uses \"predict_proba\" or \"decision_function\" if available\n",
    "    \n",
    "    verbose=1\n",
    ")\n",
    "\n",
    "# Train the stacking classifier\n",
    "stacking_clf.fit(X_train, y_train)\n",
    "\n",
    "# Make predictions\n",
    "y_pred = stacking_clf.predict(X_test)\n",
    "\n",
    "# Evaluate the model\n",
    "wandb.init(entity='cs4248-nlp-project',project=f\"{project_name}-{dataset}\", name=\"Trained-ensemble(log,rf)_log_prefit\")\n",
    "common.evaluate(y_test, y_pred, label_encoder, \"Trained-ensemble(log,rf)_log_prefit\")\n",
    "wandb.finish()\n"
   ]
  },
  {
   "cell_type": "markdown",
   "id": "29201185",
   "metadata": {},
   "source": [
    "# fine tuned ensemble"
   ]
  },
  {
   "cell_type": "code",
   "execution_count": null,
   "id": "55f08192",
   "metadata": {},
   "outputs": [],
   "source": [
    "params = {\"final_estimator\":[LogisticRegression(max_iter=1000000)],'passthrough':[True,False]}"
   ]
  },
  {
   "cell_type": "code",
   "execution_count": null,
   "id": "ac398e1f",
   "metadata": {},
   "outputs": [],
   "source": [
    "model = StackingClassifier(\n",
    "    estimators= estimators,\n",
    "    cv='prefit',  # Cross-validation for meta-classifier training\n",
    "    stack_method=\"auto\",  # Uses \"predict_proba\" or \"decision_function\" if available\n",
    "    \n",
    "    verbose=1\n",
    ")\n",
    "model = GridSearchCV(model,params)\n",
    "model.fit(X_train, y_train)\n",
    "y_pred = model.predict(X_test)\n",
    "evaluate(y_test,y_pred)\n",
    "wandb.init(entity='cs4248-nlp-project',project=f\"{project_name}-{dataset}\", name=\"log-reg-fine-tuned\")\n",
    "common.evaluate(y_test, y_pred, label_encoder, \"Logistic Regrssion Classifier fine tuned\")\n",
    "wandb.finish()\n",
    "with open(r\"E:\\cs4248_proj\\CS4248-NLP-Project\\model\\fine-tuned-ensemble.pkl\", \"wb\") as f:\n",
    "    pickle.dump(model)"
   ]
  }
 ],
 "metadata": {
  "kernelspec": {
   "display_name": "nlp_proj",
   "language": "python",
   "name": "python3"
  },
  "language_info": {
   "codemirror_mode": {
    "name": "ipython",
    "version": 3
   },
   "file_extension": ".py",
   "mimetype": "text/x-python",
   "name": "python",
   "nbconvert_exporter": "python",
   "pygments_lexer": "ipython3",
   "version": "3.11.0"
  }
 },
 "nbformat": 4,
 "nbformat_minor": 5
}
