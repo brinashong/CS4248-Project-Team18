{
 "cells": [
  {
   "cell_type": "markdown",
   "id": "d7aeaff6-74ad-4c7e-99dc-ef65c3146bbf",
   "metadata": {},
   "source": [
    "# Semantic Retriever"
   ]
  },
  {
   "cell_type": "code",
   "execution_count": 20,
   "id": "19b6433f-cff7-4776-91d2-ffc21cee43ab",
   "metadata": {},
   "outputs": [],
   "source": [
    "import os\n",
    "import pandas as pd\n",
    "from transformers import AutoTokenizer, AutoModel\n",
    "import torch\n",
    "import torch.nn.functional as F\n",
    "from sklearn.metrics.pairwise import cosine_similarity\n",
    "import numpy as np\n",
    "import joblib"
   ]
  },
  {
   "cell_type": "markdown",
   "id": "cffcff27-c306-4bec-8c97-7dbe6dbd4961",
   "metadata": {},
   "source": [
    "## Parameters"
   ]
  },
  {
   "cell_type": "code",
   "execution_count": 14,
   "id": "1b0a838e-7311-4f81-9cc2-7b9e8ef1b78e",
   "metadata": {},
   "outputs": [],
   "source": [
    "# change this accordingly\n",
    "project_path = os.path.abspath(os.path.join(os.getcwd(), os.pardir))\n",
    "\n",
    "dataset_dir = f\"{project_path}/scicite_preprocessed\"\n",
    "dataset = \"selected-features\""
   ]
  },
  {
   "cell_type": "markdown",
   "id": "bb00321b-7a8c-4234-9db9-c7e649dd9355",
   "metadata": {},
   "source": [
    "## 1. Load database"
   ]
  },
  {
   "cell_type": "code",
   "execution_count": 5,
   "id": "435fdbbf-06b9-4eb6-be18-5f8980a4ae4f",
   "metadata": {},
   "outputs": [],
   "source": [
    "background_df = pd.read_json(f\"{dataset_dir}/train_background.jsonl\", lines=True)\n",
    "method_df = pd.read_json(f\"{dataset_dir}/train_method.jsonl\", lines=True)\n",
    "result_df = pd.read_json(f\"{dataset_dir}/train_result.jsonl\", lines=True)"
   ]
  },
  {
   "cell_type": "markdown",
   "id": "ac257502-7fe9-4bea-93c6-a9ff0a10db1a",
   "metadata": {},
   "source": [
    "## 2. Create Semantic Retrievers"
   ]
  },
  {
   "cell_type": "code",
   "execution_count": 55,
   "id": "40ec8782-4669-4de6-bdc2-3887b160b3c0",
   "metadata": {},
   "outputs": [],
   "source": [
    "class SemanticRetriever:\n",
    "    def __init__(self, documents, paper_ids, model_name=\"allenai/scibert_scivocab_uncased\", device=\"cuda\" if torch.cuda.is_available() else \"cpu\"):\n",
    "        \"\"\"\n",
    "        A Semantic Retriever using SciBERT embeddings for short documents (citations).\n",
    "        Stores document-paper_id pairs for retrieval.\n",
    "        \"\"\"\n",
    "        self.device = device\n",
    "\n",
    "        # Load SciBERT tokenizer & model\n",
    "        self.tokenizer = AutoTokenizer.from_pretrained(model_name)\n",
    "        self.model = AutoModel.from_pretrained(model_name).to(device).eval()\n",
    "\n",
    "        # Store (document, paper_id) pairs\n",
    "        self.documents = documents\n",
    "        self.paper_ids = paper_ids\n",
    "        self.embeddings = self.embed_documents(documents)\n",
    "\n",
    "    def embed_text(self, text, max_length=512):\n",
    "        \"\"\" Converts text into SciBERT embeddings. \"\"\"\n",
    "        tokens = self.tokenizer(text, padding=True, truncation=True, max_length=max_length, return_tensors=\"pt\").to(self.device)\n",
    "        with torch.no_grad():\n",
    "            outputs = self.model(**tokens)\n",
    "        return outputs.last_hidden_state[:, 0, :].squeeze(0).cpu().numpy()  # [CLS] token\n",
    "\n",
    "    def embed_documents(self, documents):\n",
    "        \"\"\" Embeds all short documents using SciBERT. \"\"\"\n",
    "        return np.array([self.embed_text(doc) for doc in documents])\n",
    "\n",
    "    def retrieve(self, query, top_k=3):\n",
    "        \"\"\" Retrieves the most relevant documents along with their paper IDs. \"\"\"\n",
    "        query_embedding = self.embed_text(query).reshape(1, -1)\n",
    "        similarities = cosine_similarity(query_embedding, self.embeddings).flatten()\n",
    "        top_indices = similarities.argsort()[-top_k:][::-1]  # Get top-k sorted indices\n",
    "        return [(self.documents[i], self.paper_ids[i]) for i in top_indices]"
   ]
  },
  {
   "cell_type": "code",
   "execution_count": 56,
   "id": "790ba1b1-086b-4d37-b496-e21057d6671d",
   "metadata": {},
   "outputs": [],
   "source": [
    "# Extract citations & paper IDs for each label\n",
    "method_docs, method_ids = method_df[\"string\"].tolist(), method_df[\"id\"].tolist()\n",
    "background_docs, background_ids = background_df[\"string\"].tolist(), background_df[\"id\"].tolist()\n",
    "result_docs, result_ids = result_df[\"string\"].tolist(), result_df[\"id\"].tolist()\n",
    "\n",
    "# Initialize retrievers for each category\n",
    "method_retriever = SemanticRetriever(method_docs, method_ids)\n",
    "background_retriever = SemanticRetriever(background_docs, background_ids)\n",
    "result_retriever = SemanticRetriever(result_docs, result_ids)"
   ]
  },
  {
   "cell_type": "markdown",
   "id": "ef74a726-8550-48ab-9192-7631e51d718a",
   "metadata": {},
   "source": [
    "## 4. Classify input query"
   ]
  },
  {
   "cell_type": "code",
   "execution_count": 77,
   "id": "1f7c7693-4384-45c3-9ba9-d44f446869cd",
   "metadata": {},
   "outputs": [
    {
     "data": {
      "text/html": [
       "<div>\n",
       "<style scoped>\n",
       "    .dataframe tbody tr th:only-of-type {\n",
       "        vertical-align: middle;\n",
       "    }\n",
       "\n",
       "    .dataframe tbody tr th {\n",
       "        vertical-align: top;\n",
       "    }\n",
       "\n",
       "    .dataframe thead th {\n",
       "        text-align: right;\n",
       "    }\n",
       "</style>\n",
       "<table border=\"1\" class=\"dataframe\">\n",
       "  <thead>\n",
       "    <tr style=\"text-align: right;\">\n",
       "      <th></th>\n",
       "      <th>citeEnd</th>\n",
       "      <th>citeStart</th>\n",
       "      <th>excerpt_index</th>\n",
       "      <th>source_acronym</th>\n",
       "      <th>source_acronymParen</th>\n",
       "      <th>source_andPhrase</th>\n",
       "      <th>source_etAlPhrase</th>\n",
       "      <th>source_explicit</th>\n",
       "      <th>source_properNoun</th>\n",
       "      <th>isKeyCitation_False</th>\n",
       "      <th>...</th>\n",
       "      <th>zhu et al_tfidf</th>\n",
       "      <th>zimbabwe_tfidf</th>\n",
       "      <th>zinc_tfidf</th>\n",
       "      <th>zinc finger_tfidf</th>\n",
       "      <th>zn_tfidf</th>\n",
       "      <th>zone_tfidf</th>\n",
       "      <th>äì_tfidf</th>\n",
       "      <th>ðþ_tfidf</th>\n",
       "      <th>βarr_tfidf</th>\n",
       "      <th>μm_tfidf</th>\n",
       "    </tr>\n",
       "  </thead>\n",
       "  <tbody>\n",
       "    <tr>\n",
       "      <th>233</th>\n",
       "      <td>120.0</td>\n",
       "      <td>112.0</td>\n",
       "      <td>1</td>\n",
       "      <td>0.0</td>\n",
       "      <td>0.0</td>\n",
       "      <td>0.0</td>\n",
       "      <td>0.0</td>\n",
       "      <td>1.0</td>\n",
       "      <td>0.0</td>\n",
       "      <td>1.0</td>\n",
       "      <td>...</td>\n",
       "      <td>0.0</td>\n",
       "      <td>0.0</td>\n",
       "      <td>0.0</td>\n",
       "      <td>0.0</td>\n",
       "      <td>0.0</td>\n",
       "      <td>0.0</td>\n",
       "      <td>0.0</td>\n",
       "      <td>0.0</td>\n",
       "      <td>0.0</td>\n",
       "      <td>0.0</td>\n",
       "    </tr>\n",
       "  </tbody>\n",
       "</table>\n",
       "<p>1 rows × 10016 columns</p>\n",
       "</div>"
      ],
      "text/plain": [
       "     citeEnd  citeStart  excerpt_index  source_acronym  source_acronymParen  \\\n",
       "233    120.0      112.0              1             0.0                  0.0   \n",
       "\n",
       "     source_andPhrase  source_etAlPhrase  source_explicit  source_properNoun  \\\n",
       "233               0.0                0.0              1.0                0.0   \n",
       "\n",
       "     isKeyCitation_False  ...  zhu et al_tfidf  zimbabwe_tfidf  zinc_tfidf  \\\n",
       "233                  1.0  ...              0.0             0.0         0.0   \n",
       "\n",
       "     zinc finger_tfidf  zn_tfidf  zone_tfidf  äì_tfidf  ðþ_tfidf  βarr_tfidf  \\\n",
       "233                0.0       0.0         0.0       0.0       0.0         0.0   \n",
       "\n",
       "     μm_tfidf  \n",
       "233       0.0  \n",
       "\n",
       "[1 rows x 10016 columns]"
      ]
     },
     "metadata": {},
     "output_type": "display_data"
    },
    {
     "data": {
      "text/html": [
       "<div>\n",
       "<style scoped>\n",
       "    .dataframe tbody tr th:only-of-type {\n",
       "        vertical-align: middle;\n",
       "    }\n",
       "\n",
       "    .dataframe tbody tr th {\n",
       "        vertical-align: top;\n",
       "    }\n",
       "\n",
       "    .dataframe thead th {\n",
       "        text-align: right;\n",
       "    }\n",
       "</style>\n",
       "<table border=\"1\" class=\"dataframe\">\n",
       "  <thead>\n",
       "    <tr style=\"text-align: right;\">\n",
       "      <th></th>\n",
       "      <th>source</th>\n",
       "      <th>citeEnd</th>\n",
       "      <th>sectionName</th>\n",
       "      <th>citeStart</th>\n",
       "      <th>string</th>\n",
       "      <th>label</th>\n",
       "      <th>citingPaperId</th>\n",
       "      <th>citedPaperId</th>\n",
       "      <th>isKeyCitation</th>\n",
       "      <th>id</th>\n",
       "      <th>unique_id</th>\n",
       "      <th>excerpt_index</th>\n",
       "      <th>label2</th>\n",
       "      <th>label_confidence</th>\n",
       "    </tr>\n",
       "  </thead>\n",
       "  <tbody>\n",
       "    <tr>\n",
       "      <th>233</th>\n",
       "      <td>explicit</td>\n",
       "      <td>120.0</td>\n",
       "      <td>Plasma cell biology</td>\n",
       "      <td>112.0</td>\n",
       "      <td>When lymph node follicular B-cells encounter a...</td>\n",
       "      <td>background</td>\n",
       "      <td>3b6fce00a747ffaa22a67b334f733c9f40bff561</td>\n",
       "      <td>846066f8b6cefd92169d860e14bf60d9167d072a</td>\n",
       "      <td>False</td>\n",
       "      <td>3b6fce00a747ffaa22a67b334f733c9f40bff561&gt;84606...</td>\n",
       "      <td>3b6fce00a747ffaa22a67b334f733c9f40bff561&gt;84606...</td>\n",
       "      <td>1</td>\n",
       "      <td>NaN</td>\n",
       "      <td>NaN</td>\n",
       "    </tr>\n",
       "  </tbody>\n",
       "</table>\n",
       "</div>"
      ],
      "text/plain": [
       "       source  citeEnd          sectionName  citeStart  \\\n",
       "233  explicit    120.0  Plasma cell biology      112.0   \n",
       "\n",
       "                                                string       label  \\\n",
       "233  When lymph node follicular B-cells encounter a...  background   \n",
       "\n",
       "                                citingPaperId  \\\n",
       "233  3b6fce00a747ffaa22a67b334f733c9f40bff561   \n",
       "\n",
       "                                 citedPaperId  isKeyCitation  \\\n",
       "233  846066f8b6cefd92169d860e14bf60d9167d072a          False   \n",
       "\n",
       "                                                    id  \\\n",
       "233  3b6fce00a747ffaa22a67b334f733c9f40bff561>84606...   \n",
       "\n",
       "                                             unique_id  excerpt_index label2  \\\n",
       "233  3b6fce00a747ffaa22a67b334f733c9f40bff561>84606...              1    NaN   \n",
       "\n",
       "     label_confidence  \n",
       "233               NaN  "
      ]
     },
     "metadata": {},
     "output_type": "display_data"
    }
   ],
   "source": [
    "ori_test_df = pd.read_json(f\"{project_path}/scicite/test.jsonl\", lines=True)\n",
    "test_df = pd.read_csv(f\"{dataset_dir}/test-{dataset}.csv\")\n",
    "\n",
    "sample_test_df = test_df.sample(n=1, random_state=42)  # Random 3 rows\n",
    "X_test = sample_test_df.drop(columns=['label'])\n",
    "y_test = sample_test_df[\"label\"]\n",
    "\n",
    "# Select the same indices from the original test dataset\n",
    "ori_sample_test_df = ori_test_df.loc[sample_test_df.index]\n",
    "\n",
    "# Display the selected rows\n",
    "display(X_test)\n",
    "display(ori_sample_test_df)"
   ]
  },
  {
   "cell_type": "code",
   "execution_count": 78,
   "id": "d42954b3-80dd-4ab8-9f90-53a8da5960ea",
   "metadata": {},
   "outputs": [
    {
     "name": "stdout",
     "output_type": "stream",
     "text": [
      "Predictions vs True Labels:\n",
      "   Predicted  True\n",
      "0          0     0\n"
     ]
    }
   ],
   "source": [
    "# Load the classifier \n",
    "classifier = joblib.load(f\"{dataset_dir}/selected_classifier.pkl\")\n",
    "\n",
    "pred = classifier.predict(X_test)\n",
    "\n",
    "# Print predictions and true labels\n",
    "print(\"Predictions vs True Labels:\")\n",
    "df_comparison = pd.DataFrame({\"Predicted\": pred, \"True\": y_test.values})\n",
    "print(df_comparison)"
   ]
  },
  {
   "cell_type": "code",
   "execution_count": 88,
   "id": "fe433d25-3332-4f36-b58d-a3297edd293e",
   "metadata": {},
   "outputs": [
    {
     "name": "stdout",
     "output_type": "stream",
     "text": [
      "Query: When lymph node follicular B-cells encounter antigen and T-cell help, this results in germinal center formation (62, 74).\n",
      "\n",
      "Predicted Label: background\n",
      "\n",
      "\n",
      "Document: When IL-17 is blocked during a high-dose challenge, neutrophil recruitment is hindered, and this may alter subsequent development of inflammation (55).\n",
      "Paper ID: 998b2e755456700a4fc07c6dd1f32d243899d09f>c5162ef5c68848eba50818b64f7a783f1cde4c73\n",
      "--------------------------------------------------\n",
      "Document: Untreated infection results in the progressive depletion of the helper T-cell population, and the resulting immunodeficiency leads to death by opportunistic infection (Thompson et al. (2012)).\n",
      "Paper ID: 957bf5cc5e797dd078bbea21cb6cb17d41026dcc>8b4b51fffb43ad57ac9aa8e5deeac45f6356e015\n",
      "--------------------------------------------------\n",
      "Document: Antigen receptor signaling during clonal expansion likely drives down Bcl-2 levels and hyper-induce Mcl-1 in responding CD8 T cells (Dunkle et al., 2011; Opferman et al., 2003).\n",
      "Paper ID: e3450e8ca6d743f04a1ad41297ab59eeb82299b4>b5fcda6fd9a47d7ef14b8e3e8c80c00fde1b990a\n",
      "--------------------------------------------------\n"
     ]
    },
    {
     "name": "stderr",
     "output_type": "stream",
     "text": [
      "Bad pipe message: %s [b'\\x95\\x8er\\x0eB\\xc2\\xdfE\\x982\\xed\\xf1\\xfd\\xd3\\x10_\\x90W\\x00\\x02\\xbc\\x00\\x00\\x00\\x01\\x00\\x02\\x00\\x03\\x00\\x04\\x00\\x05\\x00\\x06\\x00\\x07\\x00\\x08\\x00\\t\\x00\\n\\x00\\x0b\\x00\\x0c\\x00\\r\\x00\\x0e\\x00\\x0f\\x00\\x10\\x00\\x11\\x00\\x12\\x00\\x13\\x00\\x14\\x00\\x15\\x00\\x16\\x00\\x17\\x00\\x18\\x00\\x19\\x00\\x1a\\x00\\x1b\\x00\\x1e\\x00\\x1f\\x00 \\x00!\\x00\"\\x00#\\x00$\\x00%\\x00&\\x00\\'\\x00(\\x00)\\x00*\\x00+\\x00,\\x00-\\x00.\\x00/\\x000\\x001\\x002\\x003\\x004\\x005\\x006\\x007\\x008\\x009\\x00:\\x00;\\x00<\\x00=\\x00>\\x00?\\x00@\\x00A\\x00B\\x00C\\x00D\\x00E\\x00F\\x00g\\x00h\\x00i\\x00j\\x00k\\x00l\\x00m\\x00\\x84\\x00']\n",
      "Bad pipe message: %s [b'\\x86\\x00\\x87\\x00\\x88\\x00\\x89\\x00\\x8a\\x00\\x8b\\x00\\x8c\\x00\\x8d\\x00\\x8e\\x00\\x8f\\x00\\x90\\x00\\x91\\x00\\x92\\x00\\x93\\x00\\x94\\x00\\x95\\x00\\x96\\x00\\x97\\x00\\x98\\x00\\x99\\x00\\x9a\\x00\\x9b\\x00\\x9c\\x00\\x9d\\x00\\x9e\\x00\\x9f\\x00\\xa0\\x00\\xa1\\x00\\xa2\\x00\\xa3\\x00\\xa4\\x00\\xa5\\x00\\xa6\\x00\\xa7\\x00\\xa8\\x00\\xa9\\x00\\xaa\\x00\\xab\\x00\\xac\\x00\\xad\\x00\\xae\\x00\\xaf\\x00\\xb0\\x00\\xb1\\x00\\xb2\\x00\\xb3\\x00\\xb4\\x00\\xb5\\x00\\xb6\\x00\\xb7\\x00\\xb8\\x00\\xb9\\x00\\xba\\x00\\xbb\\x00\\xbc\\x00\\xbd\\x00\\xbe\\x00\\xbf\\x00\\xc0\\x00\\xc1\\x00\\xc2\\x00\\xc3\\x00\\xc4\\x00\\xc5\\x00\\xc6\\x00\\xc7\\x13']\n",
      "Bad pipe message: %s [b'', b'\\x03', b'\\x13\\x05\\x13\\x06\\x13\\x07\\xc0\\x01\\xc0\\x02\\xc0\\x03\\xc0\\x04\\xc0\\x05\\xc0\\x06']\n",
      "Bad pipe message: %s [b'\\xc0\\x08\\xc0\\t\\xc0\\n\\xc0\\x0b\\xc0\\x0c\\xc0\\r\\xc0\\x0e\\xc0\\x0f\\xc0\\x10\\xc0\\x11\\xc0\\x12\\xc0\\x13\\xc0\\x14\\xc0\\x15\\xc0\\x16\\xc0\\x17\\xc0\\x18\\xc0\\x19\\xc0\\x1a\\xc0\\x1b\\xc0\\x1c\\xc0\\x1d\\xc0\\x1e\\xc0\\x1f\\xc0 \\xc0!\\xc0\"\\xc0#\\xc0$\\xc0%\\xc0&\\xc0\\'\\xc0(\\xc0)\\xc0*\\xc0+\\xc0,\\xc0-\\xc0.\\xc0/\\xc00\\xc01\\xc02\\xc03\\xc04\\xc05\\xc06\\xc07\\xc08\\xc09\\xc0:\\xc0;\\xc0<\\xc0=\\xc0>\\xc0?\\xc0@\\xc0A\\xc0B\\xc0C\\xc0D\\xc0E\\xc0F\\xc0G\\xc0H\\xc0I\\xc0J\\xc0K\\xc0L\\xc0M\\xc0N\\xc0O\\xc0P\\xc0Q\\xc0R\\xc0S\\xc0T\\xc0U\\xc0V\\xc0W\\xc0X\\xc0Y\\xc0Z\\xc0[\\xc0\\\\\\xc0]\\xc0^\\xc0_\\xc0`\\xc0a\\xc0b\\xc0c\\xc0d\\xc0e\\xc0f\\xc0', b'h\\xc0i\\xc0j\\xc0k\\xc0l\\xc0m\\xc0n\\xc0o\\xc0p\\xc0q\\xc0r\\xc0s\\xc0t\\xc0u\\xc0v\\xc0w\\xc0x\\xc0y\\xc0z\\xc0{\\xc0|\\xc0}\\xc0~\\xc0\\x7f\\xc0\\x80\\xc0\\x81\\xc0\\x82\\xc0\\x83\\xc0\\x84\\xc0\\x85\\xc0\\x86\\xc0\\x87\\xc0\\x88\\xc0\\x89\\xc0\\x8a\\xc0\\x8b\\xc0\\x8c\\xc0\\x8d\\xc0\\x8e\\xc0\\x8f\\xc0\\x90\\xc0\\x91\\xc0\\x92\\xc0\\x93\\xc0\\x94\\xc0\\x95\\xc0\\x96\\xc0\\x97\\xc0\\x98\\xc0\\x99\\xc0\\x9a\\xc0']\n",
      "Bad pipe message: %s [b'\\x9c\\xc0\\x9d\\xc0\\x9e\\xc0\\x9f\\xc0\\xa0\\xc0\\xa1\\xc0\\xa2\\xc0\\xa3\\xc0\\xa4\\xc0\\xa5\\xc0\\xa6\\xc0\\xa7\\xc0\\xa8\\xc0\\xa9\\xc0\\xaa\\xc0\\xab\\xc0\\xac\\xc0\\xad\\xc0\\xae\\xc0\\xaf\\xc0\\xb0\\xc0\\xb1\\xc0\\xb2\\xc0\\xb3\\xc0\\xb4\\xc0\\xb5\\xc1\\x00\\xc1\\x01\\xc1\\x02\\xc1\\x03\\xc1\\x04\\xc1\\x05\\xc1\\x06\\xcc\\xa8\\xcc\\xa9\\xcc\\xaa\\xcc\\xab\\xcc\\xac\\xcc\\xad\\xcc\\xae\\xd0\\x01\\xd0\\x02\\xd0\\x03\\xd0\\x05\\x02\\x00\\x01\\x00J\\x00\\n\\x00\\n\\x00\\x08\\x00\\x17\\x00\\x19\\x00\\x18\\x00\\x16\\x00\\x0b\\x00\\x04\\x03\\x00\\x01\\x02\\x00\\r\\x000\\x00.\\x04\\x03\\x05\\x03\\x06\\x03\\x08\\x07\\x08\\x08\\x08\\x1a\\x08\\x1b\\x08\\x1c\\x08\\t\\x08\\n\\x08\\x0b\\x08\\x04\\x08\\x05\\x08\\x06\\x04\\x01\\x05\\x01\\x06\\x01']\n",
      "Bad pipe message: %s [b'\\x03\\x01', b'\\x04\\x02']\n",
      "Bad pipe message: %s [b'\\x0f\\x9bd\\x02\\x84F\\x80U\\xc3\\xb24(\\x08\\x7fO\\xd1S\\xe5\\x00\\x02\\xbc\\x00\\x00\\x00\\x01\\x00\\x02\\x00\\x03\\x00\\x04\\x00\\x05\\x00\\x06\\x00\\x07\\x00\\x08\\x00\\t\\x00\\n\\x00\\x0b\\x00\\x0c\\x00\\r\\x00\\x0e\\x00\\x0f\\x00\\x10\\x00\\x11\\x00\\x12\\x00\\x13\\x00\\x14\\x00\\x15\\x00\\x16\\x00\\x17\\x00\\x18\\x00\\x19\\x00\\x1a\\x00']\n",
      "Bad pipe message: %s [b'\\x1e\\x00\\x1f\\x00 \\x00!\\x00\"\\x00#\\x00$\\x00%\\x00&\\x00\\'\\x00(\\x00)\\x00*\\x00']\n",
      "Bad pipe message: %s [b',\\x00-\\x00.\\x00/\\x000\\x001\\x002\\x003\\x004\\x005\\x006\\x007\\x008\\x009\\x00:\\x00;\\x00<\\x00=\\x00>\\x00?\\x00@\\x00']\n",
      "Bad pipe message: %s [b'B\\x00C\\x00D\\x00E\\x00F\\x00g\\x00h\\x00i\\x00j\\x00k\\x00l\\x00m\\x00\\x84\\x00\\x85\\x00\\x86\\x00\\x87\\x00\\x88\\x00\\x89\\x00\\x8a\\x00\\x8b\\x00\\x8c\\x00\\x8d\\x00\\x8e\\x00\\x8f\\x00\\x90\\x00\\x91\\x00\\x92\\x00\\x93\\x00\\x94\\x00\\x95\\x00\\x96\\x00\\x97\\x00']\n",
      "Bad pipe message: %s [b'\\x99\\x00\\x9a\\x00\\x9b\\x00\\x9c\\x00\\x9d\\x00\\x9e\\x00\\x9f\\x00\\xa0\\x00\\xa1\\x00\\xa2\\x00\\xa3\\x00\\xa4\\x00\\xa5\\x00\\xa6\\x00\\xa7\\x00\\xa8\\x00\\xa9\\x00\\xaa\\x00\\xab\\x00\\xac\\x00\\xad\\x00\\xae\\x00\\xaf\\x00\\xb0\\x00\\xb1\\x00\\xb2\\x00\\xb3\\x00\\xb4\\x00\\xb5\\x00\\xb6\\x00\\xb7\\x00\\xb8\\x00\\xb9\\x00\\xba\\x00\\xbb\\x00\\xbc\\x00\\xbd\\x00\\xbe\\x00\\xbf\\x00\\xc0\\x00\\xc1\\x00\\xc2\\x00\\xc3\\x00\\xc4\\x00\\xc5\\x00\\xc6\\x00\\xc7\\x13\\x01\\x13\\x02\\x13\\x03\\x13\\x04\\x13\\x05\\x13\\x06\\x13\\x07\\xc0\\x01\\xc0\\x02\\xc0\\x03\\xc0\\x04\\xc0\\x05\\xc0\\x06\\xc0\\x07\\xc0\\x08\\xc0\\t\\xc0\\n\\xc0\\x0b\\xc0\\x0c\\xc0\\r\\xc0\\x0e\\xc0\\x0f\\xc0\\x10\\xc0\\x11\\xc0\\x12\\xc0\\x13\\xc0\\x14\\xc0\\x15\\xc0\\x16']\n",
      "Bad pipe message: %s [b'\\xc0\\x18\\xc0\\x19\\xc0\\x1a\\xc0\\x1b\\xc0\\x1c\\xc0\\x1d\\xc0\\x1e\\xc0\\x1f\\xc0 \\xc0!\\xc0\"\\xc0#\\xc0$\\xc0%\\xc0&\\xc0\\'\\xc0(\\xc0)\\xc0*\\xc0+\\xc0,\\xc0-\\xc0.\\xc0/\\xc00\\xc01\\xc02\\xc03\\xc04\\xc05\\xc06\\xc07\\xc08\\xc09\\xc0:\\xc0;\\xc0<\\xc0=\\xc0>\\xc0?\\xc0@\\xc0A\\xc0B\\xc0C\\xc0D\\xc0E\\xc0F\\xc0G\\xc0H\\xc0I\\xc0J\\xc0K\\xc0L\\xc0M\\xc0N\\xc0O\\xc0P\\xc0Q\\xc0R\\xc0S\\xc0T\\xc0U\\xc0V\\xc0W\\xc0X\\xc0Y\\xc0Z\\xc0[\\xc0\\\\\\xc0]\\xc0^\\xc0_\\xc0`\\xc0a\\xc0b\\xc0c\\xc0d\\xc0e\\xc0f\\xc0g\\xc0h\\xc0i\\xc0j\\xc0k\\xc0l\\xc0m\\xc0n\\xc0o\\xc0p\\xc0q\\xc0r\\xc0s\\xc0t\\xc0u\\xc0v\\xc0', b'x\\xc0y\\xc0z\\xc0{\\xc0|\\xc0}\\xc0~\\xc0\\x7f\\xc0\\x80\\xc0\\x81\\xc0\\x82\\xc0\\x83\\xc0\\x84\\xc0\\x85\\xc0\\x86\\xc0\\x87\\xc0\\x88\\xc0\\x89\\xc0\\x8a\\xc0\\x8b\\xc0\\x8c\\xc0\\x8d\\xc0\\x8e\\xc0\\x8f\\xc0\\x90\\xc0\\x91\\xc0\\x92\\xc0\\x93\\xc0\\x94\\xc0\\x95\\xc0\\x96\\xc0\\x97\\xc0\\x98\\xc0\\x99\\xc0\\x9a\\xc0\\x9b\\xc0\\x9c\\xc0\\x9d\\xc0\\x9e\\xc0\\x9f\\xc0\\xa0\\xc0\\xa1\\xc0\\xa2\\xc0\\xa3\\xc0\\xa4\\xc0\\xa5\\xc0\\xa6\\xc0\\xa7\\xc0\\xa8\\xc0\\xa9\\xc0\\xaa\\xc0\\xab\\xc0\\xac\\xc0\\xad\\xc0\\xae\\xc0\\xaf\\xc0\\xb0\\xc0\\xb1\\xc0\\xb2\\xc0']\n"
     ]
    }
   ],
   "source": [
    "# Initialize retrievers for each label\n",
    "label_encoder = joblib.load(f\"{dataset_dir}/label_encoder.pkl\")\n",
    "label_strings = label_encoder.inverse_transform(pred)\n",
    "\n",
    "retrievers = {\n",
    "    \"background\": background_retriever,\n",
    "    \"method\": method_retriever,\n",
    "    \"result\": result_retriever\n",
    "}\n",
    "\n",
    "# Retrieve relevant documents based on predicted labels\n",
    "retrieved_docs = []\n",
    "\n",
    "for idx, label in enumerate(label_strings):\n",
    "    query = ori_sample_test_df.iloc[idx][\"string\"]\n",
    "    retriever = retrievers.get(label)  # Get corresponding retriever\n",
    "    print(f\"Query: {query}\\n\")\n",
    "    print(f\"Predicted Label: {label}\\n\\n\")\n",
    "\n",
    "    if retriever:\n",
    "        relevant_docs = retriever.retrieve(query, top_k=3)  # Get top 3 relevant docs\n",
    "        for doc, paper_id in relevant_docs:\n",
    "            # Print inside the loop\n",
    "            print(f\"Document: {doc}\")\n",
    "            print(f\"Paper ID: {paper_id}\")\n",
    "            print(\"-\" * 50)\n",
    "            retrieved_docs.append({\"Predicted Label\": label, \"Document\": doc, \"Paper ID\": paper_id})"
   ]
  },
  {
   "cell_type": "code",
   "execution_count": null,
   "id": "bf2b8689-7862-4dc0-a4ff-03cd00e48c69",
   "metadata": {},
   "outputs": [],
   "source": []
  }
 ],
 "metadata": {
  "kernelspec": {
   "display_name": "Python 3 (ipykernel)",
   "language": "python",
   "name": "python3"
  },
  "language_info": {
   "codemirror_mode": {
    "name": "ipython",
    "version": 3
   },
   "file_extension": ".py",
   "mimetype": "text/x-python",
   "name": "python",
   "nbconvert_exporter": "python",
   "pygments_lexer": "ipython3",
   "version": "3.11.5"
  }
 },
 "nbformat": 4,
 "nbformat_minor": 5
}
