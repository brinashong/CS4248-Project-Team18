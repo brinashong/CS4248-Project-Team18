{
 "cells": [
  {
   "cell_type": "markdown",
   "id": "e3dc9ae6-cce7-4b87-a88d-62213d5a7b3f",
   "metadata": {},
   "source": [
    "# Model Training"
   ]
  },
  {
   "cell_type": "code",
   "execution_count": 1,
   "id": "153a9fa8-50e8-445c-b738-7517bbb610ed",
   "metadata": {},
   "outputs": [],
   "source": [
    "%load_ext autoreload\n",
    "%autoreload 2\n",
    "\n",
    "import common\n",
    "import pandas as pd\n",
    "import scipy.sparse\n",
    "import joblib\n",
    "from sklearn.model_selection import train_test_split\n",
    "from sklearn.linear_model import LogisticRegression\n",
    "from sklearn.ensemble import RandomForestClassifier\n",
    "from sklearn.svm import SVC\n",
    "import wandb"
   ]
  },
  {
   "cell_type": "code",
   "execution_count": 2,
   "id": "02c6dc5a-8178-4986-a420-16d82d805327",
   "metadata": {},
   "outputs": [
    {
     "name": "stderr",
     "output_type": "stream",
     "text": [
      "\u001b[34m\u001b[1mwandb\u001b[0m: Using wandb-core as the SDK backend.  Please refer to https://wandb.me/wandb-core for more information.\n",
      "\u001b[34m\u001b[1mwandb\u001b[0m: Currently logged in as: \u001b[33mbrinashong\u001b[0m to \u001b[32mhttps://api.wandb.ai\u001b[0m. Use \u001b[1m`wandb login --relogin`\u001b[0m to force relogin\n"
     ]
    },
    {
     "data": {
      "text/plain": [
       "True"
      ]
     },
     "execution_count": 2,
     "metadata": {},
     "output_type": "execute_result"
    }
   ],
   "source": [
    "wandb.login()"
   ]
  },
  {
   "cell_type": "markdown",
   "id": "708f37ae-f8aa-4ce9-895b-c9cdf702ea76",
   "metadata": {},
   "source": [
    "## Parameters"
   ]
  },
  {
   "cell_type": "code",
   "execution_count": 3,
   "id": "f5fbfa52-2416-41ef-974b-206ce49b68d1",
   "metadata": {},
   "outputs": [],
   "source": [
    "# change this accordingly\n",
    "project_path = \"/home/brina/nus-mcomp/sem3/cs4248-natural-language-processing/Project/CS4248-NLP-Project\"\n",
    "\n",
    "save_path = f\"{project_path}/scicite_preprocessed\"\n",
    "dataset = \"selected-features\"\n",
    "project_name = \"model-comparison\""
   ]
  },
  {
   "cell_type": "markdown",
   "id": "90cf845b-8b16-4dd1-9d9b-92d2df67f029",
   "metadata": {},
   "source": [
    "## 1. Load dataset"
   ]
  },
  {
   "cell_type": "code",
   "execution_count": 4,
   "id": "91c52bf4-58ca-49c5-94fe-ef3d8326ab5f",
   "metadata": {},
   "outputs": [],
   "source": [
    "train_df = pd.read_csv(f\"{save_path}/train-{dataset}.csv\")\n",
    "test_df = pd.read_csv(f\"{save_path}/test-{dataset}.csv\")\n",
    "label_encoder = joblib.load(f\"{save_path}/label_encoder.pkl\")\n",
    "\n",
    "X_train = train_df.drop(columns=['label'])\n",
    "y_train = train_df[\"label\"]\n",
    "X_test = test_df.drop(columns=['label'])\n",
    "y_test = test_df[\"label\"]"
   ]
  },
  {
   "cell_type": "markdown",
   "id": "0a0a990e-57e3-438b-a944-bd8cef1ec57f",
   "metadata": {},
   "source": [
    "## 2. Train-validation split"
   ]
  },
  {
   "cell_type": "code",
   "execution_count": 5,
   "id": "cc60398b-1b1c-4b73-8ed1-78705743a1e9",
   "metadata": {},
   "outputs": [],
   "source": [
    "# Split into 80% train and 20% validation sets\n",
    "# X_train, X_val, y_train, y_val = train_test_split(X, y, test_size=0.2, random_state=42, stratify=y)"
   ]
  },
  {
   "cell_type": "markdown",
   "id": "0def2dfe-57fe-4aec-98de-22e4e8f2b3d9",
   "metadata": {},
   "source": [
    "## 3. Train Logistic Regression "
   ]
  },
  {
   "cell_type": "code",
   "execution_count": 7,
   "id": "fd4b1a9b-d846-410e-840a-ced10ee3817b",
   "metadata": {},
   "outputs": [
    {
     "name": "stderr",
     "output_type": "stream",
     "text": [
      "/home/brina/miniconda3/envs/nlp/lib/python3.11/site-packages/sklearn/linear_model/_logistic.py:465: ConvergenceWarning: lbfgs failed to converge (status=1):\n",
      "STOP: TOTAL NO. of ITERATIONS REACHED LIMIT.\n",
      "\n",
      "Increase the number of iterations (max_iter) or scale the data as shown in:\n",
      "    https://scikit-learn.org/stable/modules/preprocessing.html\n",
      "Please also refer to the documentation for alternative solver options:\n",
      "    https://scikit-learn.org/stable/modules/linear_model.html#logistic-regression\n",
      "  n_iter_i = _check_optimize_result(\n"
     ]
    },
    {
     "data": {
      "text/html": [
       "Tracking run with wandb version 0.19.8"
      ],
      "text/plain": [
       "<IPython.core.display.HTML object>"
      ]
     },
     "metadata": {},
     "output_type": "display_data"
    },
    {
     "data": {
      "text/html": [
       "Run data is saved locally in <code>/home/brina/nus-mcomp/sem3/cs4248-natural-language-processing/Project/CS4248-NLP-Project/experiments/wandb/run-20250326_141754-9o5y58q5</code>"
      ],
      "text/plain": [
       "<IPython.core.display.HTML object>"
      ]
     },
     "metadata": {},
     "output_type": "display_data"
    },
    {
     "data": {
      "text/html": [
       "Syncing run <strong><a href='https://wandb.ai/brinashong/model-comparison-selected-features/runs/9o5y58q5' target=\"_blank\">logistic-regression</a></strong> to <a href='https://wandb.ai/brinashong/model-comparison-selected-features' target=\"_blank\">Weights & Biases</a> (<a href='https://wandb.me/developer-guide' target=\"_blank\">docs</a>)<br>"
      ],
      "text/plain": [
       "<IPython.core.display.HTML object>"
      ]
     },
     "metadata": {},
     "output_type": "display_data"
    },
    {
     "data": {
      "text/html": [
       " View project at <a href='https://wandb.ai/brinashong/model-comparison-selected-features' target=\"_blank\">https://wandb.ai/brinashong/model-comparison-selected-features</a>"
      ],
      "text/plain": [
       "<IPython.core.display.HTML object>"
      ]
     },
     "metadata": {},
     "output_type": "display_data"
    },
    {
     "data": {
      "text/html": [
       " View run at <a href='https://wandb.ai/brinashong/model-comparison-selected-features/runs/9o5y58q5' target=\"_blank\">https://wandb.ai/brinashong/model-comparison-selected-features/runs/9o5y58q5</a>"
      ],
      "text/plain": [
       "<IPython.core.display.HTML object>"
      ]
     },
     "metadata": {},
     "output_type": "display_data"
    },
    {
     "name": "stdout",
     "output_type": "stream",
     "text": [
      "Logistic Regression\n",
      "-----Evaluation-----\n",
      "Accuracy: 0.8025\n",
      "Macro F1-score: 0.7700\n",
      "Micro F1-score: 0.8025\n"
     ]
    },
    {
     "data": {
      "image/png": "[encoded data removed]",
      "text/plain": [
       "<Figure size 600x500 with 2 Axes>"
      ]
     },
     "metadata": {},
     "output_type": "display_data"
    },
    {
     "data": {
      "text/html": [],
      "text/plain": [
       "<IPython.core.display.HTML object>"
      ]
     },
     "metadata": {},
     "output_type": "display_data"
    },
    {
     "data": {
      "text/html": [
       "<br>    <style><br>        .wandb-row {<br>            display: flex;<br>            flex-direction: row;<br>            flex-wrap: wrap;<br>            justify-content: flex-start;<br>            width: 100%;<br>        }<br>        .wandb-col {<br>            display: flex;<br>            flex-direction: column;<br>            flex-basis: 100%;<br>            flex: 1;<br>            padding: 10px;<br>        }<br>    </style><br><div class=\"wandb-row\"><div class=\"wandb-col\"><h3>Run history:</h3><br/><table class=\"wandb\"><tr><td>Accuracy Score</td><td>▁</td></tr><tr><td>Macro F1-score</td><td>▁</td></tr><tr><td>Micro F1-score</td><td>▁</td></tr></table><br/></div><div class=\"wandb-col\"><h3>Run summary:</h3><br/><table class=\"wandb\"><tr><td>Accuracy Score</td><td>0.80248</td></tr><tr><td>Macro F1-score</td><td>0.77004</td></tr><tr><td>Micro F1-score</td><td>0.80248</td></tr></table><br/></div></div>"
      ],
      "text/plain": [
       "<IPython.core.display.HTML object>"
      ]
     },
     "metadata": {},
     "output_type": "display_data"
    },
    {
     "data": {
      "text/html": [
       " View run <strong style=\"color:#cdcd00\">logistic-regression</strong> at: <a href='https://wandb.ai/brinashong/model-comparison-selected-features/runs/9o5y58q5' target=\"_blank\">https://wandb.ai/brinashong/model-comparison-selected-features/runs/9o5y58q5</a><br> View project at: <a href='https://wandb.ai/brinashong/model-comparison-selected-features' target=\"_blank\">https://wandb.ai/brinashong/model-comparison-selected-features</a><br>Synced 5 W&B file(s), 1 media file(s), 2 artifact file(s) and 0 other file(s)"
      ],
      "text/plain": [
       "<IPython.core.display.HTML object>"
      ]
     },
     "metadata": {},
     "output_type": "display_data"
    },
    {
     "data": {
      "text/html": [
       "Find logs at: <code>./wandb/run-20250326_141754-9o5y58q5/logs</code>"
      ],
      "text/plain": [
       "<IPython.core.display.HTML object>"
      ]
     },
     "metadata": {},
     "output_type": "display_data"
    }
   ],
   "source": [
    "# Initialize and train model\n",
    "model = LogisticRegression(max_iter=1000)\n",
    "model.fit(X_train, y_train)\n",
    "\n",
    "# Make predictions\n",
    "y_pred = model.predict(X_test)\n",
    "\n",
    "wandb.init(project=f\"{project_name}-{dataset}\", name=\"logistic-regression\")\n",
    "common.evaluate(y_test, y_pred, label_encoder, \"Logistic Regression\")\n",
    "wandb.finish()"
   ]
  },
  {
   "cell_type": "markdown",
   "id": "7382a7e8-f576-4aed-998b-22ae79e459f6",
   "metadata": {},
   "source": [
    "## 4. Train Random Forest Classifier"
   ]
  },
  {
   "cell_type": "code",
   "execution_count": 8,
   "id": "43babbf8-e900-4ce6-bbc4-fd0b06d94920",
   "metadata": {},
   "outputs": [
    {
     "data": {
      "text/html": [
       "creating run (9.9s)"
      ],
      "text/plain": [
       "<IPython.core.display.HTML object>"
      ]
     },
     "metadata": {},
     "output_type": "display_data"
    },
    {
     "data": {
      "text/html": [
       "Tracking run with wandb version 0.19.8"
      ],
      "text/plain": [
       "<IPython.core.display.HTML object>"
      ]
     },
     "metadata": {},
     "output_type": "display_data"
    },
    {
     "data": {
      "text/html": [
       "Run data is saved locally in <code>/home/brina/nus-mcomp/sem3/cs4248-natural-language-processing/Project/CS4248-NLP-Project/experiments/wandb/run-20250326_141916-ogn5twzy</code>"
      ],
      "text/plain": [
       "<IPython.core.display.HTML object>"
      ]
     },
     "metadata": {},
     "output_type": "display_data"
    },
    {
     "data": {
      "text/html": [
       "Syncing run <strong><a href='https://wandb.ai/brinashong/model-comparison-selected-features/runs/ogn5twzy' target=\"_blank\">random-forest-classifier</a></strong> to <a href='https://wandb.ai/brinashong/model-comparison-selected-features' target=\"_blank\">Weights & Biases</a> (<a href='https://wandb.me/developer-guide' target=\"_blank\">docs</a>)<br>"
      ],
      "text/plain": [
       "<IPython.core.display.HTML object>"
      ]
     },
     "metadata": {},
     "output_type": "display_data"
    },
    {
     "data": {
      "text/html": [
       " View project at <a href='https://wandb.ai/brinashong/model-comparison-selected-features' target=\"_blank\">https://wandb.ai/brinashong/model-comparison-selected-features</a>"
      ],
      "text/plain": [
       "<IPython.core.display.HTML object>"
      ]
     },
     "metadata": {},
     "output_type": "display_data"
    },
    {
     "data": {
      "text/html": [
       " View run at <a href='https://wandb.ai/brinashong/model-comparison-selected-features/runs/ogn5twzy' target=\"_blank\">https://wandb.ai/brinashong/model-comparison-selected-features/runs/ogn5twzy</a>"
      ],
      "text/plain": [
       "<IPython.core.display.HTML object>"
      ]
     },
     "metadata": {},
     "output_type": "display_data"
    },
    {
     "name": "stdout",
     "output_type": "stream",
     "text": [
      "Random Forest Classifier\n",
      "-----Evaluation-----\n",
      "Accuracy: 0.8224\n",
      "Macro F1-score: 0.7966\n",
      "Micro F1-score: 0.8224\n"
     ]
    },
    {
     "data": {
      "image/png": "[encoded data removed]",
      "text/plain": [
       "<Figure size 600x500 with 2 Axes>"
      ]
     },
     "metadata": {},
     "output_type": "display_data"
    },
    {
     "data": {
      "text/html": [],
      "text/plain": [
       "<IPython.core.display.HTML object>"
      ]
     },
     "metadata": {},
     "output_type": "display_data"
    },
    {
     "data": {
      "text/html": [
       "<br>    <style><br>        .wandb-row {<br>            display: flex;<br>            flex-direction: row;<br>            flex-wrap: wrap;<br>            justify-content: flex-start;<br>            width: 100%;<br>        }<br>        .wandb-col {<br>            display: flex;<br>            flex-direction: column;<br>            flex-basis: 100%;<br>            flex: 1;<br>            padding: 10px;<br>        }<br>    </style><br><div class=\"wandb-row\"><div class=\"wandb-col\"><h3>Run history:</h3><br/><table class=\"wandb\"><tr><td>Accuracy Score</td><td>▁</td></tr><tr><td>Macro F1-score</td><td>▁</td></tr><tr><td>Micro F1-score</td><td>▁</td></tr></table><br/></div><div class=\"wandb-col\"><h3>Run summary:</h3><br/><table class=\"wandb\"><tr><td>Accuracy Score</td><td>0.82239</td></tr><tr><td>Macro F1-score</td><td>0.7966</td></tr><tr><td>Micro F1-score</td><td>0.82239</td></tr></table><br/></div></div>"
      ],
      "text/plain": [
       "<IPython.core.display.HTML object>"
      ]
     },
     "metadata": {},
     "output_type": "display_data"
    },
    {
     "data": {
      "text/html": [
       " View run <strong style=\"color:#cdcd00\">random-forest-classifier</strong> at: <a href='https://wandb.ai/brinashong/model-comparison-selected-features/runs/ogn5twzy' target=\"_blank\">https://wandb.ai/brinashong/model-comparison-selected-features/runs/ogn5twzy</a><br> View project at: <a href='https://wandb.ai/brinashong/model-comparison-selected-features' target=\"_blank\">https://wandb.ai/brinashong/model-comparison-selected-features</a><br>Synced 5 W&B file(s), 1 media file(s), 2 artifact file(s) and 0 other file(s)"
      ],
      "text/plain": [
       "<IPython.core.display.HTML object>"
      ]
     },
     "metadata": {},
     "output_type": "display_data"
    },
    {
     "data": {
      "text/html": [
       "Find logs at: <code>./wandb/run-20250326_141916-ogn5twzy/logs</code>"
      ],
      "text/plain": [
       "<IPython.core.display.HTML object>"
      ]
     },
     "metadata": {},
     "output_type": "display_data"
    }
   ],
   "source": [
    "rf_model = RandomForestClassifier(n_estimators=100, random_state=42)\n",
    "rf_model.fit(X_train, y_train)\n",
    "y_pred_rf = rf_model.predict(X_test)\n",
    "\n",
    "wandb.init(project=f\"{project_name}-{dataset}\", name=\"random-forest-classifier\")\n",
    "common.evaluate(y_test, y_pred_rf, label_encoder, \"Random Forest Classifier\")\n",
    "wandb.finish()"
   ]
  },
  {
   "cell_type": "markdown",
   "id": "f2733d46-2097-409f-8c95-09d959754caf",
   "metadata": {},
   "source": [
    "## 5. Train Support Vector Machine (SVM)"
   ]
  },
  {
   "cell_type": "code",
   "execution_count": 6,
   "id": "b9e29b27-3afc-4a19-8e07-3f65d93019f4",
   "metadata": {},
   "outputs": [
    {
     "data": {
      "text/html": [
       "creating run (0.0s)"
      ],
      "text/plain": [
       "<IPython.core.display.HTML object>"
      ]
     },
     "metadata": {},
     "output_type": "display_data"
    },
    {
     "data": {
      "text/html": [
       "Tracking run with wandb version 0.19.8"
      ],
      "text/plain": [
       "<IPython.core.display.HTML object>"
      ]
     },
     "metadata": {},
     "output_type": "display_data"
    },
    {
     "data": {
      "text/html": [
       "Run data is saved locally in <code>/home/brina/nus-mcomp/sem3/cs4248-natural-language-processing/Project/CS4248-NLP-Project/experiments/wandb/run-20250326_162145-f20i9hff</code>"
      ],
      "text/plain": [
       "<IPython.core.display.HTML object>"
      ]
     },
     "metadata": {},
     "output_type": "display_data"
    },
    {
     "data": {
      "text/html": [
       "Syncing run <strong><a href='https://wandb.ai/brinashong/model-comparison-selected-features/runs/f20i9hff' target=\"_blank\">support-vector-machine</a></strong> to <a href='https://wandb.ai/brinashong/model-comparison-selected-features' target=\"_blank\">Weights & Biases</a> (<a href='https://wandb.me/developer-guide' target=\"_blank\">docs</a>)<br>"
      ],
      "text/plain": [
       "<IPython.core.display.HTML object>"
      ]
     },
     "metadata": {},
     "output_type": "display_data"
    },
    {
     "data": {
      "text/html": [
       " View project at <a href='https://wandb.ai/brinashong/model-comparison-selected-features' target=\"_blank\">https://wandb.ai/brinashong/model-comparison-selected-features</a>"
      ],
      "text/plain": [
       "<IPython.core.display.HTML object>"
      ]
     },
     "metadata": {},
     "output_type": "display_data"
    },
    {
     "data": {
      "text/html": [
       " View run at <a href='https://wandb.ai/brinashong/model-comparison-selected-features/runs/f20i9hff' target=\"_blank\">https://wandb.ai/brinashong/model-comparison-selected-features/runs/f20i9hff</a>"
      ],
      "text/plain": [
       "<IPython.core.display.HTML object>"
      ]
     },
     "metadata": {},
     "output_type": "display_data"
    },
    {
     "name": "stdout",
     "output_type": "stream",
     "text": [
      "Support Vector Machine (SVM)\n",
      "-----Evaluation-----\n",
      "Accuracy: 0.8095\n",
      "Macro F1-score: 0.7825\n",
      "Micro F1-score: 0.8095\n"
     ]
    },
    {
     "data": {
      "image/png": "[encoded data removed]",
      "text/plain": [
       "<Figure size 600x500 with 2 Axes>"
      ]
     },
     "metadata": {},
     "output_type": "display_data"
    },
    {
     "data": {
      "text/html": [],
      "text/plain": [
       "<IPython.core.display.HTML object>"
      ]
     },
     "metadata": {},
     "output_type": "display_data"
    },
    {
     "data": {
      "text/html": [
       "<br>    <style><br>        .wandb-row {<br>            display: flex;<br>            flex-direction: row;<br>            flex-wrap: wrap;<br>            justify-content: flex-start;<br>            width: 100%;<br>        }<br>        .wandb-col {<br>            display: flex;<br>            flex-direction: column;<br>            flex-basis: 100%;<br>            flex: 1;<br>            padding: 10px;<br>        }<br>    </style><br><div class=\"wandb-row\"><div class=\"wandb-col\"><h3>Run history:</h3><br/><table class=\"wandb\"><tr><td>Accuracy Score</td><td>▁</td></tr><tr><td>Macro F1-score</td><td>▁</td></tr><tr><td>Micro F1-score</td><td>▁</td></tr></table><br/></div><div class=\"wandb-col\"><h3>Run summary:</h3><br/><table class=\"wandb\"><tr><td>Accuracy Score</td><td>0.80947</td></tr><tr><td>Macro F1-score</td><td>0.78247</td></tr><tr><td>Micro F1-score</td><td>0.80947</td></tr></table><br/></div></div>"
      ],
      "text/plain": [
       "<IPython.core.display.HTML object>"
      ]
     },
     "metadata": {},
     "output_type": "display_data"
    },
    {
     "data": {
      "text/html": [
       " View run <strong style=\"color:#cdcd00\">support-vector-machine</strong> at: <a href='https://wandb.ai/brinashong/model-comparison-selected-features/runs/f20i9hff' target=\"_blank\">https://wandb.ai/brinashong/model-comparison-selected-features/runs/f20i9hff</a><br> View project at: <a href='https://wandb.ai/brinashong/model-comparison-selected-features' target=\"_blank\">https://wandb.ai/brinashong/model-comparison-selected-features</a><br>Synced 5 W&B file(s), 1 media file(s), 2 artifact file(s) and 0 other file(s)"
      ],
      "text/plain": [
       "<IPython.core.display.HTML object>"
      ]
     },
     "metadata": {},
     "output_type": "display_data"
    },
    {
     "data": {
      "text/html": [
       "Find logs at: <code>./wandb/run-20250326_162145-f20i9hff/logs</code>"
      ],
      "text/plain": [
       "<IPython.core.display.HTML object>"
      ]
     },
     "metadata": {},
     "output_type": "display_data"
    }
   ],
   "source": [
    "svm_model = SVC(kernel='linear')\n",
    "svm_model.fit(X_train, y_train)\n",
    "y_pred_svm = svm_model.predict(X_test)\n",
    "\n",
    "wandb.init(project=f\"{project_name}-{dataset}\", name=\"support-vector-machine\")\n",
    "common.evaluate(y_test, y_pred_svm, label_encoder, \"Support Vector Machine (SVM)\")\n",
    "wandb.finish()"
   ]
  },
  {
   "cell_type": "code",
   "execution_count": null,
   "id": "743af86c-aa7c-43ae-8f9e-1ef217cf917b",
   "metadata": {},
   "outputs": [],
   "source": []
  }
 ],
 "metadata": {
  "kernelspec": {
   "display_name": "Python 3 (ipykernel)",
   "language": "python",
   "name": "python3"
  },
  "language_info": {
   "codemirror_mode": {
    "name": "ipython",
    "version": 3
   },
   "file_extension": ".py",
   "mimetype": "text/x-python",
   "name": "python",
   "nbconvert_exporter": "python",
   "pygments_lexer": "ipython3",
   "version": "3.11.5"
  }
 },
 "nbformat": 4,
 "nbformat_minor": 5
}
