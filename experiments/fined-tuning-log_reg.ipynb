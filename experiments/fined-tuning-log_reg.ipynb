{
 "cells": [
  {
   "cell_type": "markdown",
   "id": "e3dc9ae6-cce7-4b87-a88d-62213d5a7b3f",
   "metadata": {},
   "source": [
    "# Model Training"
   ]
  },
  {
   "cell_type": "code",
   "execution_count": 17,
   "id": "153a9fa8-50e8-445c-b738-7517bbb610ed",
   "metadata": {},
   "outputs": [
    {
     "name": "stdout",
     "output_type": "stream",
     "text": [
      "The autoreload extension is already loaded. To reload it, use:\n",
      "  %reload_ext autoreload\n"
     ]
    }
   ],
   "source": [
    "%load_ext autoreload\n",
    "%autoreload 2\n",
    "\n",
    "import common\n",
    "import pandas as pd\n",
    "import scipy.sparse\n",
    "import joblib\n",
    "from sklearn.metrics import classification_report,confusion_matrix,ConfusionMatrixDisplay\n",
    "from sklearn.model_selection import train_test_split,GridSearchCV\n",
    "from sklearn.linear_model import LogisticRegression\n",
    "from sklearn.ensemble import RandomForestClassifier\n",
    "from sklearn.svm import SVC\n",
    "from sklearn.tree import plot_tree\n",
    "import matplotlib.pyplot as plt\n",
    "from imblearn.over_sampling import SMOTE\n",
    "import wandb\n",
    "import pickle\n",
    "import os"
   ]
  },
  {
   "cell_type": "code",
   "execution_count": 18,
   "id": "02c6dc5a-8178-4986-a420-16d82d805327",
   "metadata": {},
   "outputs": [
    {
     "data": {
      "text/plain": [
       "True"
      ]
     },
     "execution_count": 18,
     "metadata": {},
     "output_type": "execute_result"
    }
   ],
   "source": [
    "wandb.login()"
   ]
  },
  {
   "cell_type": "code",
   "execution_count": 19,
   "id": "59b71fee",
   "metadata": {},
   "outputs": [],
   "source": [
    "def evaluate(y_true,y_pred,digits=5):\n",
    "    print(classification_report(y_true,y_pred,digits=digits))\n",
    "    confusion_mtx = confusion_matrix(y_true,y_pred)\n",
    "    disp = ConfusionMatrixDisplay(confusion_mtx)\n",
    "    disp.plot()\n",
    "    plt.show()"
   ]
  },
  {
   "cell_type": "markdown",
   "id": "708f37ae-f8aa-4ce9-895b-c9cdf702ea76",
   "metadata": {},
   "source": [
    "## Parameters"
   ]
  },
  {
   "cell_type": "code",
   "execution_count": 20,
   "id": "f5fbfa52-2416-41ef-974b-206ce49b68d1",
   "metadata": {},
   "outputs": [],
   "source": [
    "# change this accordingly\n",
    "project_path = os.path.abspath(os.path.join(os.getcwd(), os.pardir))\n",
    "\n",
    "save_path = f\"{project_path}/scicite_preprocessed\"\n",
    "dataset = \"selected-features\"\n",
    "project_name = \"model-comparison-smote-log-reg-fine-tuned\""
   ]
  },
  {
   "cell_type": "markdown",
   "id": "90cf845b-8b16-4dd1-9d9b-92d2df67f029",
   "metadata": {},
   "source": [
    "## 1. Load dataset"
   ]
  },
  {
   "cell_type": "code",
   "execution_count": 21,
   "id": "91c52bf4-58ca-49c5-94fe-ef3d8326ab5f",
   "metadata": {},
   "outputs": [],
   "source": [
    "train_df = pd.read_csv(f\"{save_path}/train-{dataset}.csv\")\n",
    "test_df = pd.read_csv(f\"{save_path}/test-{dataset}.csv\")\n",
    "label_encoder = joblib.load(f\"{save_path}/label_encoder.pkl\")\n",
    "\n",
    "X_train = train_df.drop(columns=['label'])\n",
    "y_train = train_df[\"label\"]\n",
    "X_test = test_df.drop(columns=['label'])\n",
    "y_test = test_df[\"label\"]\n",
    "\n",
    "smote = SMOTE(sampling_strategy='all', random_state=42)\n",
    "X_train, y_train = smote.fit_resample(X_train, y_train)"
   ]
  },
  {
   "cell_type": "markdown",
   "id": "0a0a990e-57e3-438b-a944-bd8cef1ec57f",
   "metadata": {},
   "source": [
    "## 2. Train-validation split"
   ]
  },
  {
   "cell_type": "code",
   "execution_count": 22,
   "id": "cc60398b-1b1c-4b73-8ed1-78705743a1e9",
   "metadata": {},
   "outputs": [],
   "source": [
    "# Split into 80% train and 20% validation sets\n",
    "# X_train, X_val, y_train, y_val = train_test_split(X, y, test_size=0.2, random_state=42, stratify=y)"
   ]
  },
  {
   "cell_type": "markdown",
   "id": "7382a7e8-f576-4aed-998b-22ae79e459f6",
   "metadata": {},
   "source": [
    "## Train logistic regression classifier"
   ]
  },
  {
   "cell_type": "code",
   "execution_count": 23,
   "id": "43babbf8-e900-4ce6-bbc4-fd0b06d94920",
   "metadata": {},
   "outputs": [
    {
     "name": "stderr",
     "output_type": "stream",
     "text": [
      "e:\\cs4248_proj\\nlp_proj\\Lib\\site-packages\\sklearn\\linear_model\\_logistic.py:465: ConvergenceWarning: lbfgs failed to converge (status=1):\n",
      "STOP: TOTAL NO. OF ITERATIONS REACHED LIMIT.\n",
      "\n",
      "Increase the number of iterations (max_iter) or scale the data as shown in:\n",
      "    https://scikit-learn.org/stable/modules/preprocessing.html\n",
      "Please also refer to the documentation for alternative solver options:\n",
      "    https://scikit-learn.org/stable/modules/linear_model.html#logistic-regression\n",
      "  n_iter_i = _check_optimize_result(\n"
     ]
    },
    {
     "data": {
      "text/html": [
       "creating run (0.0s)"
      ],
      "text/plain": [
       "<IPython.core.display.HTML object>"
      ]
     },
     "metadata": {},
     "output_type": "display_data"
    },
    {
     "data": {
      "text/html": [
       "Tracking run with wandb version 0.19.9"
      ],
      "text/plain": [
       "<IPython.core.display.HTML object>"
      ]
     },
     "metadata": {},
     "output_type": "display_data"
    },
    {
     "data": {
      "text/html": [
       "Run data is saved locally in <code>e:\\cs4248_proj\\CS4248-NLP-Project\\experiments\\wandb\\run-20250416_141602-t9k1vaam</code>"
      ],
      "text/plain": [
       "<IPython.core.display.HTML object>"
      ]
     },
     "metadata": {},
     "output_type": "display_data"
    },
    {
     "data": {
      "text/html": [
       "Syncing run <strong><a href='https://wandb.ai/cs4248-nlp-project/model-comparison-smote-log-reg-fine-tuned-selected-features/runs/t9k1vaam' target=\"_blank\">log-reg-base-line</a></strong> to <a href='https://wandb.ai/cs4248-nlp-project/model-comparison-smote-log-reg-fine-tuned-selected-features' target=\"_blank\">Weights & Biases</a> (<a href='https://wandb.me/developer-guide' target=\"_blank\">docs</a>)<br>"
      ],
      "text/plain": [
       "<IPython.core.display.HTML object>"
      ]
     },
     "metadata": {},
     "output_type": "display_data"
    },
    {
     "data": {
      "text/html": [
       " View project at <a href='https://wandb.ai/cs4248-nlp-project/model-comparison-smote-log-reg-fine-tuned-selected-features' target=\"_blank\">https://wandb.ai/cs4248-nlp-project/model-comparison-smote-log-reg-fine-tuned-selected-features</a>"
      ],
      "text/plain": [
       "<IPython.core.display.HTML object>"
      ]
     },
     "metadata": {},
     "output_type": "display_data"
    },
    {
     "data": {
      "text/html": [
       " View run at <a href='https://wandb.ai/cs4248-nlp-project/model-comparison-smote-log-reg-fine-tuned-selected-features/runs/t9k1vaam' target=\"_blank\">https://wandb.ai/cs4248-nlp-project/model-comparison-smote-log-reg-fine-tuned-selected-features/runs/t9k1vaam</a>"
      ],
      "text/plain": [
       "<IPython.core.display.HTML object>"
      ]
     },
     "metadata": {},
     "output_type": "display_data"
    },
    {
     "name": "stdout",
     "output_type": "stream",
     "text": [
      "Logistic Regression Classifier based line\n",
      "-----Evaluation-----\n",
      "Accuracy: 0.7643\n",
      "Macro F1-score: 0.7398\n",
      "Micro F1-score: 0.7643\n"
     ]
    },
    {
     "data": {
      "image/png": "[encoded data removed]",
      "text/plain": [
       "<Figure size 600x500 with 2 Axes>"
      ]
     },
     "metadata": {},
     "output_type": "display_data"
    },
    {
     "name": "stderr",
     "output_type": "stream",
     "text": [
      "\u001b[34m\u001b[1mwandb\u001b[0m: \u001b[32m\u001b[41mERROR\u001b[0m The nbformat package was not found. It is required to save notebook history.\n"
     ]
    },
    {
     "data": {
      "text/html": [],
      "text/plain": [
       "<IPython.core.display.HTML object>"
      ]
     },
     "metadata": {},
     "output_type": "display_data"
    },
    {
     "data": {
      "text/html": [
       "<br>    <style><br>        .wandb-row {<br>            display: flex;<br>            flex-direction: row;<br>            flex-wrap: wrap;<br>            justify-content: flex-start;<br>            width: 100%;<br>        }<br>        .wandb-col {<br>            display: flex;<br>            flex-direction: column;<br>            flex-basis: 100%;<br>            flex: 1;<br>            padding: 10px;<br>        }<br>    </style><br><div class=\"wandb-row\"><div class=\"wandb-col\"><h3>Run history:</h3><br/><table class=\"wandb\"><tr><td>Accuracy Score</td><td>▁</td></tr><tr><td>Macro F1-score</td><td>▁</td></tr><tr><td>Micro F1-score</td><td>▁</td></tr></table><br/></div><div class=\"wandb-col\"><h3>Run summary:</h3><br/><table class=\"wandb\"><tr><td>Accuracy Score</td><td>0.76426</td></tr><tr><td>Macro F1-score</td><td>0.73985</td></tr><tr><td>Micro F1-score</td><td>0.76426</td></tr></table><br/></div></div>"
      ],
      "text/plain": [
       "<IPython.core.display.HTML object>"
      ]
     },
     "metadata": {},
     "output_type": "display_data"
    },
    {
     "data": {
      "text/html": [
       " View run <strong style=\"color:#cdcd00\">log-reg-base-line</strong> at: <a href='https://wandb.ai/cs4248-nlp-project/model-comparison-smote-log-reg-fine-tuned-selected-features/runs/t9k1vaam' target=\"_blank\">https://wandb.ai/cs4248-nlp-project/model-comparison-smote-log-reg-fine-tuned-selected-features/runs/t9k1vaam</a><br> View project at: <a href='https://wandb.ai/cs4248-nlp-project/model-comparison-smote-log-reg-fine-tuned-selected-features' target=\"_blank\">https://wandb.ai/cs4248-nlp-project/model-comparison-smote-log-reg-fine-tuned-selected-features</a><br>Synced 5 W&B file(s), 1 media file(s), 2 artifact file(s) and 0 other file(s)"
      ],
      "text/plain": [
       "<IPython.core.display.HTML object>"
      ]
     },
     "metadata": {},
     "output_type": "display_data"
    },
    {
     "data": {
      "text/html": [
       "Find logs at: <code>.\\wandb\\run-20250416_141602-t9k1vaam\\logs</code>"
      ],
      "text/plain": [
       "<IPython.core.display.HTML object>"
      ]
     },
     "metadata": {},
     "output_type": "display_data"
    }
   ],
   "source": [
    "model = LogisticRegression(max_iter=1000)\n",
    "model.fit(X_train, y_train)\n",
    "y_pred = model.predict(X_test)\n",
    "\n",
    "wandb.init(entity='cs4248-nlp-project',project=f\"{project_name}-{dataset}\", name=\"log-reg-base-line\")\n",
    "common.evaluate(y_test, y_pred, label_encoder, \"Logistic Regression Classifier based line\")\n",
    "wandb.finish()"
   ]
  },
  {
   "cell_type": "markdown",
   "id": "741095ef",
   "metadata": {},
   "source": [
    "## Fine tuned logistic regression Classifier"
   ]
  },
  {
   "cell_type": "code",
   "execution_count": 24,
   "id": "69ed6af3",
   "metadata": {},
   "outputs": [],
   "source": [
    "params = {\"C\":[0.01, 0.1, 1, 10, 100],\"max_iter\":[10000000],'class_weight':['balanced',None]}"
   ]
  },
  {
   "cell_type": "code",
   "execution_count": null,
   "id": "3b20573f",
   "metadata": {},
   "outputs": [],
   "source": [
    "model = LogisticRegression()\n",
    "model = GridSearchCV(model,params)\n",
    "model.fit(X_train, y_train)\n",
    "y_pred = model.predict(X_test)\n",
    "evaluate(y_test,y_pred)\n",
    "wandb.init(entity='cs4248-nlp-project',project=f\"{project_name}-{dataset}\", name=\"log-reg-fine-tuned\")\n",
    "common.evaluate(y_test, y_pred, label_encoder, \"Logistic Regrssion Classifier fine tuned\")\n",
    "wandb.finish()\n",
    "with open(r\"E:\\cs4248_proj\\CS4248-NLP-Project\\model\\fine-tuned-log-reg.pkl\", \"wb\") as f:\n",
    "    pickle.dump(model)\n"
   ]
  },
  {
   "cell_type": "code",
   "execution_count": null,
   "id": "24bb2287",
   "metadata": {},
   "outputs": [
    {
     "data": {
      "text/plain": [
       "{'class_weight': 'balanced',\n",
       " 'criterion': 'gini',\n",
       " 'n_estimators': 1000,\n",
       " 'n_jobs': -1}"
      ]
     },
     "execution_count": 20,
     "metadata": {},
     "output_type": "execute_result"
    }
   ],
   "source": [
    "model.best_params_"
   ]
  },
  {
   "cell_type": "code",
   "execution_count": null,
   "id": "63aa088d",
   "metadata": {},
   "outputs": [
    {
     "data": {
      "text/plain": [
       "{'mean_fit_time': array([ 3.74838028, 37.11943932, 45.55374932,  3.1403358 , 10.80148039,\n",
       "        31.45782409]),\n",
       " 'std_fit_time': array([ 0.35533615, 31.45119191, 43.03028302,  0.09663012,  0.53205689,\n",
       "        22.26314881]),\n",
       " 'mean_score_time': array([0.27358451, 1.09865165, 0.98737245, 0.29785457, 0.49144115,\n",
       "        1.10685277]),\n",
       " 'std_score_time': array([0.02941891, 0.58692793, 0.32158568, 0.08811357, 0.06089442,\n",
       "        0.5647314 ]),\n",
       " 'param_class_weight': masked_array(data=['balanced', 'balanced', 'balanced', 'balanced',\n",
       "                    'balanced', 'balanced'],\n",
       "              mask=[False, False, False, False, False, False],\n",
       "        fill_value=np.str_('?'),\n",
       "             dtype=object),\n",
       " 'param_criterion': masked_array(data=['gini', 'gini', 'gini', 'entropy', 'entropy',\n",
       "                    'entropy'],\n",
       "              mask=[False, False, False, False, False, False],\n",
       "        fill_value=np.str_('?'),\n",
       "             dtype=object),\n",
       " 'param_n_estimators': masked_array(data=[100, 500, 1000, 100, 500, 1000],\n",
       "              mask=[False, False, False, False, False, False],\n",
       "        fill_value=999999),\n",
       " 'param_n_jobs': masked_array(data=[-1, -1, -1, -1, -1, -1],\n",
       "              mask=[False, False, False, False, False, False],\n",
       "        fill_value=999999),\n",
       " 'params': [{'class_weight': 'balanced',\n",
       "   'criterion': 'gini',\n",
       "   'n_estimators': 100,\n",
       "   'n_jobs': -1},\n",
       "  {'class_weight': 'balanced',\n",
       "   'criterion': 'gini',\n",
       "   'n_estimators': 500,\n",
       "   'n_jobs': -1},\n",
       "  {'class_weight': 'balanced',\n",
       "   'criterion': 'gini',\n",
       "   'n_estimators': 1000,\n",
       "   'n_jobs': -1},\n",
       "  {'class_weight': 'balanced',\n",
       "   'criterion': 'entropy',\n",
       "   'n_estimators': 100,\n",
       "   'n_jobs': -1},\n",
       "  {'class_weight': 'balanced',\n",
       "   'criterion': 'entropy',\n",
       "   'n_estimators': 500,\n",
       "   'n_jobs': -1},\n",
       "  {'class_weight': 'balanced',\n",
       "   'criterion': 'entropy',\n",
       "   'n_estimators': 1000,\n",
       "   'n_jobs': -1}],\n",
       " 'split0_test_score': array([0.83161157, 0.83230028, 0.83402204, 0.8219697 , 0.82403581,\n",
       "        0.82679063]),\n",
       " 'split1_test_score': array([0.88601928, 0.8887741 , 0.89118457, 0.88567493, 0.8887741 ,\n",
       "        0.88774105]),\n",
       " 'split2_test_score': array([0.9338843 , 0.93629477, 0.93698347, 0.93836088, 0.93801653,\n",
       "        0.93801653]),\n",
       " 'split3_test_score': array([0.95798898, 0.95798898, 0.95626722, 0.96108815, 0.9600551 ,\n",
       "        0.95902204]),\n",
       " 'split4_test_score': array([0.96487603, 0.96177686, 0.96315427, 0.9672865 , 0.96315427,\n",
       "        0.96315427]),\n",
       " 'mean_test_score': array([0.91487603, 0.915427  , 0.91632231, 0.91487603, 0.91480716,\n",
       "        0.9149449 ]),\n",
       " 'std_test_score': array([0.04997144, 0.04902188, 0.04820986, 0.05462279, 0.05261302,\n",
       "        0.05159547]),\n",
       " 'rank_test_score': array([5, 2, 1, 4, 6, 3], dtype=int32)}"
      ]
     },
     "execution_count": 21,
     "metadata": {},
     "output_type": "execute_result"
    }
   ],
   "source": [
    "model.cv_results_"
   ]
  },
  {
   "cell_type": "code",
   "execution_count": null,
   "id": "afbd2e5a",
   "metadata": {},
   "outputs": [],
   "source": []
  }
 ],
 "metadata": {
  "kernelspec": {
   "display_name": "nlp_proj",
   "language": "python",
   "name": "python3"
  },
  "language_info": {
   "codemirror_mode": {
    "name": "ipython",
    "version": 3
   },
   "file_extension": ".py",
   "mimetype": "text/x-python",
   "name": "python",
   "nbconvert_exporter": "python",
   "pygments_lexer": "ipython3",
   "version": "3.11.0"
  }
 },
 "nbformat": 4,
 "nbformat_minor": 5
}
