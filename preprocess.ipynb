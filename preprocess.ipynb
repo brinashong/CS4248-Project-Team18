{
 "cells": [
  {
   "cell_type": "markdown",
   "id": "7b495769-0bf0-49bf-af8f-a626ced60b13",
   "metadata": {},
   "source": [
    "# Data Preprocessing"
   ]
  },
  {
   "cell_type": "code",
   "execution_count": 1,
   "id": "6b0cb200-b341-4caa-92e5-5ffaf10d85ef",
   "metadata": {},
   "outputs": [
    {
     "name": "stderr",
     "output_type": "stream",
     "text": [
      "[nltk_data] Downloading package punkt to /home/brina/nltk_data...\n",
      "[nltk_data]   Package punkt is already up-to-date!\n",
      "[nltk_data] Downloading package stopwords to /home/brina/nltk_data...\n",
      "[nltk_data]   Package stopwords is already up-to-date!\n",
      "[nltk_data] Downloading package wordnet to /home/brina/nltk_data...\n",
      "[nltk_data]   Package wordnet is already up-to-date!\n"
     ]
    },
    {
     "data": {
      "text/plain": [
       "True"
      ]
     },
     "execution_count": 1,
     "metadata": {},
     "output_type": "execute_result"
    }
   ],
   "source": [
    "import pandas as pd\n",
    "import re\n",
    "import nltk\n",
    "from nltk.corpus import stopwords\n",
    "from nltk.tokenize import word_tokenize\n",
    "from nltk.stem import WordNetLemmatizer\n",
    "from sklearn.feature_extraction.text import TfidfVectorizer\n",
    "from sklearn.preprocessing import LabelEncoder, OneHotEncoder\n",
    "import numpy as np\n",
    "import matplotlib.pyplot as plt\n",
    "from wordcloud import WordCloud\n",
    "import scipy.sparse\n",
    "import joblib\n",
    "from collections import Counter\n",
    "import re\n",
    "import string\n",
    "\n",
    "nltk.download('punkt')\n",
    "nltk.download('stopwords')\n",
    "nltk.download('wordnet')"
   ]
  },
  {
   "cell_type": "markdown",
   "id": "a2eecf96-60fb-4ddc-895e-e452abdd0481",
   "metadata": {},
   "source": [
    "## Parameters"
   ]
  },
  {
   "cell_type": "code",
   "execution_count": 2,
   "id": "db4265fc-038b-4a40-b303-f68e1de8fd54",
   "metadata": {},
   "outputs": [],
   "source": [
    "# select as needed\n",
    "\n",
    "dataset = \"train\"\n",
    "# dataset = \"test\""
   ]
  },
  {
   "cell_type": "markdown",
   "id": "0c329344-3e60-4d07-aee0-1b144e1e7f07",
   "metadata": {},
   "source": [
    "## 1. Load dataset"
   ]
  },
  {
   "cell_type": "code",
   "execution_count": 3,
   "id": "b4444e53-0918-4c5e-9599-b9a83c19f6e6",
   "metadata": {},
   "outputs": [
    {
     "data": {
      "text/html": [
       "<div>\n",
       "<style scoped>\n",
       "    .dataframe tbody tr th:only-of-type {\n",
       "        vertical-align: middle;\n",
       "    }\n",
       "\n",
       "    .dataframe tbody tr th {\n",
       "        vertical-align: top;\n",
       "    }\n",
       "\n",
       "    .dataframe thead th {\n",
       "        text-align: right;\n",
       "    }\n",
       "</style>\n",
       "<table border=\"1\" class=\"dataframe\">\n",
       "  <thead>\n",
       "    <tr style=\"text-align: right;\">\n",
       "      <th></th>\n",
       "      <th>source</th>\n",
       "      <th>citeEnd</th>\n",
       "      <th>sectionName</th>\n",
       "      <th>citeStart</th>\n",
       "      <th>string</th>\n",
       "      <th>label</th>\n",
       "      <th>label_confidence</th>\n",
       "      <th>citingPaperId</th>\n",
       "      <th>citedPaperId</th>\n",
       "      <th>isKeyCitation</th>\n",
       "      <th>id</th>\n",
       "      <th>unique_id</th>\n",
       "      <th>excerpt_index</th>\n",
       "      <th>label2</th>\n",
       "      <th>label2_confidence</th>\n",
       "    </tr>\n",
       "  </thead>\n",
       "  <tbody>\n",
       "    <tr>\n",
       "      <th>0</th>\n",
       "      <td>explicit</td>\n",
       "      <td>175.0</td>\n",
       "      <td>Introduction</td>\n",
       "      <td>168.0</td>\n",
       "      <td>However, how frataxin interacts with the Fe-S ...</td>\n",
       "      <td>background</td>\n",
       "      <td>1.0</td>\n",
       "      <td>1872080baa7d30ec8fb87be9a65358cd3a7fb649</td>\n",
       "      <td>894be9b4ea46a5c422e81ef3c241072d4c73fdc0</td>\n",
       "      <td>True</td>\n",
       "      <td>1872080baa7d30ec8fb87be9a65358cd3a7fb649&gt;894be...</td>\n",
       "      <td>1872080baa7d30ec8fb87be9a65358cd3a7fb649&gt;894be...</td>\n",
       "      <td>11</td>\n",
       "      <td>NaN</td>\n",
       "      <td>NaN</td>\n",
       "    </tr>\n",
       "    <tr>\n",
       "      <th>1</th>\n",
       "      <td>explicit</td>\n",
       "      <td>36.0</td>\n",
       "      <td>Novel Quantitative Trait Loci for Seminal Root...</td>\n",
       "      <td>16.0</td>\n",
       "      <td>In the study by Hickey et al. (2012), spikes w...</td>\n",
       "      <td>background</td>\n",
       "      <td>1.0</td>\n",
       "      <td>ce1d09a4a3a8d7fd3405b9328f65f00c952cf64b</td>\n",
       "      <td>b6642e19efb8db5623b3cc4eef1c5822a6151107</td>\n",
       "      <td>True</td>\n",
       "      <td>ce1d09a4a3a8d7fd3405b9328f65f00c952cf64b&gt;b6642...</td>\n",
       "      <td>ce1d09a4a3a8d7fd3405b9328f65f00c952cf64b&gt;b6642...</td>\n",
       "      <td>2</td>\n",
       "      <td>NaN</td>\n",
       "      <td>NaN</td>\n",
       "    </tr>\n",
       "    <tr>\n",
       "      <th>2</th>\n",
       "      <td>explicit</td>\n",
       "      <td>228.0</td>\n",
       "      <td>Introduction</td>\n",
       "      <td>225.0</td>\n",
       "      <td>The drug also reduces catecholamine secretion,...</td>\n",
       "      <td>background</td>\n",
       "      <td>1.0</td>\n",
       "      <td>9cdf605beb1aa1078f235c4332b3024daa8b31dc</td>\n",
       "      <td>4e6a17fb8d7a3cada601d942e22eb5da6d01adbd</td>\n",
       "      <td>False</td>\n",
       "      <td>9cdf605beb1aa1078f235c4332b3024daa8b31dc&gt;4e6a1...</td>\n",
       "      <td>9cdf605beb1aa1078f235c4332b3024daa8b31dc&gt;4e6a1...</td>\n",
       "      <td>0</td>\n",
       "      <td>NaN</td>\n",
       "      <td>NaN</td>\n",
       "    </tr>\n",
       "    <tr>\n",
       "      <th>3</th>\n",
       "      <td>explicit</td>\n",
       "      <td>110.0</td>\n",
       "      <td>Discussion</td>\n",
       "      <td>46.0</td>\n",
       "      <td>By clustering with lowly aggressive close kin ...</td>\n",
       "      <td>background</td>\n",
       "      <td>1.0</td>\n",
       "      <td>d9f3207db0c79a3b154f3875c9760cc6b056904b</td>\n",
       "      <td>2cc6ff899bf17666ad35893524a4d61624555ed7</td>\n",
       "      <td>False</td>\n",
       "      <td>d9f3207db0c79a3b154f3875c9760cc6b056904b&gt;2cc6f...</td>\n",
       "      <td>d9f3207db0c79a3b154f3875c9760cc6b056904b&gt;2cc6f...</td>\n",
       "      <td>3</td>\n",
       "      <td>NaN</td>\n",
       "      <td>NaN</td>\n",
       "    </tr>\n",
       "    <tr>\n",
       "      <th>4</th>\n",
       "      <td>explicit</td>\n",
       "      <td>239.0</td>\n",
       "      <td>Discussion</td>\n",
       "      <td>234.0</td>\n",
       "      <td>Ophthalmic symptoms are rare manifestations of...</td>\n",
       "      <td>background</td>\n",
       "      <td>1.0</td>\n",
       "      <td>88b86556857f4374842d2af2e359576806239175</td>\n",
       "      <td>a5bb0ff1a026944d2a47a155462959af2b8505a8</td>\n",
       "      <td>False</td>\n",
       "      <td>88b86556857f4374842d2af2e359576806239175&gt;a5bb0...</td>\n",
       "      <td>88b86556857f4374842d2af2e359576806239175&gt;a5bb0...</td>\n",
       "      <td>2</td>\n",
       "      <td>NaN</td>\n",
       "      <td>NaN</td>\n",
       "    </tr>\n",
       "  </tbody>\n",
       "</table>\n",
       "</div>"
      ],
      "text/plain": [
       "     source  citeEnd                                        sectionName  \\\n",
       "0  explicit    175.0                                       Introduction   \n",
       "1  explicit     36.0  Novel Quantitative Trait Loci for Seminal Root...   \n",
       "2  explicit    228.0                                       Introduction   \n",
       "3  explicit    110.0                                         Discussion   \n",
       "4  explicit    239.0                                         Discussion   \n",
       "\n",
       "   citeStart                                             string       label  \\\n",
       "0      168.0  However, how frataxin interacts with the Fe-S ...  background   \n",
       "1       16.0  In the study by Hickey et al. (2012), spikes w...  background   \n",
       "2      225.0  The drug also reduces catecholamine secretion,...  background   \n",
       "3       46.0  By clustering with lowly aggressive close kin ...  background   \n",
       "4      234.0  Ophthalmic symptoms are rare manifestations of...  background   \n",
       "\n",
       "   label_confidence                             citingPaperId  \\\n",
       "0               1.0  1872080baa7d30ec8fb87be9a65358cd3a7fb649   \n",
       "1               1.0  ce1d09a4a3a8d7fd3405b9328f65f00c952cf64b   \n",
       "2               1.0  9cdf605beb1aa1078f235c4332b3024daa8b31dc   \n",
       "3               1.0  d9f3207db0c79a3b154f3875c9760cc6b056904b   \n",
       "4               1.0  88b86556857f4374842d2af2e359576806239175   \n",
       "\n",
       "                               citedPaperId  isKeyCitation  \\\n",
       "0  894be9b4ea46a5c422e81ef3c241072d4c73fdc0           True   \n",
       "1  b6642e19efb8db5623b3cc4eef1c5822a6151107           True   \n",
       "2  4e6a17fb8d7a3cada601d942e22eb5da6d01adbd          False   \n",
       "3  2cc6ff899bf17666ad35893524a4d61624555ed7          False   \n",
       "4  a5bb0ff1a026944d2a47a155462959af2b8505a8          False   \n",
       "\n",
       "                                                  id  \\\n",
       "0  1872080baa7d30ec8fb87be9a65358cd3a7fb649>894be...   \n",
       "1  ce1d09a4a3a8d7fd3405b9328f65f00c952cf64b>b6642...   \n",
       "2  9cdf605beb1aa1078f235c4332b3024daa8b31dc>4e6a1...   \n",
       "3  d9f3207db0c79a3b154f3875c9760cc6b056904b>2cc6f...   \n",
       "4  88b86556857f4374842d2af2e359576806239175>a5bb0...   \n",
       "\n",
       "                                           unique_id  excerpt_index label2  \\\n",
       "0  1872080baa7d30ec8fb87be9a65358cd3a7fb649>894be...             11    NaN   \n",
       "1  ce1d09a4a3a8d7fd3405b9328f65f00c952cf64b>b6642...              2    NaN   \n",
       "2  9cdf605beb1aa1078f235c4332b3024daa8b31dc>4e6a1...              0    NaN   \n",
       "3  d9f3207db0c79a3b154f3875c9760cc6b056904b>2cc6f...              3    NaN   \n",
       "4  88b86556857f4374842d2af2e359576806239175>a5bb0...              2    NaN   \n",
       "\n",
       "   label2_confidence  \n",
       "0                NaN  \n",
       "1                NaN  \n",
       "2                NaN  \n",
       "3                NaN  \n",
       "4                NaN  "
      ]
     },
     "metadata": {},
     "output_type": "display_data"
    },
    {
     "data": {
      "text/plain": [
       "(8243, 15)"
      ]
     },
     "metadata": {},
     "output_type": "display_data"
    }
   ],
   "source": [
    "df = pd.read_json(\"scicite/\" + dataset + \".jsonl\", lines=True)\n",
    "\n",
    "display(\n",
    "    df.head(),\n",
    "    df.shape\n",
    ")"
   ]
  },
  {
   "cell_type": "markdown",
   "id": "345eb1f3",
   "metadata": {},
   "source": [
    "## 2. Data Cleaning\n",
    "\n",
    "##### Final Columns\n",
    "* source: text -> categorical\n",
    "* citeEnd: float\n",
    "* citeStart: float\n",
    "* sectionName: text -> categorical\n",
    "* string: text -> embedding (vectorized)\n",
    "* iskeyCitation: bool -> categorical\n",
    "* excerpt index: int\n",
    "* label: text -> categorical"
   ]
  },
  {
   "cell_type": "markdown",
   "id": "ac6d0a85-418b-4b18-9c83-ad9b0c677174",
   "metadata": {},
   "source": [
    "#### 2.1 Drop unwanted columns"
   ]
  },
  {
   "cell_type": "code",
   "execution_count": 4,
   "id": "9698efd8-6e65-432c-9cc5-0bf26e5c0df6",
   "metadata": {},
   "outputs": [
    {
     "data": {
      "text/plain": [
       "Index(['source', 'citeEnd', 'sectionName', 'citeStart', 'string', 'label',\n",
       "       'isKeyCitation', 'excerpt_index'],\n",
       "      dtype='object')"
      ]
     },
     "metadata": {},
     "output_type": "display_data"
    },
    {
     "data": {
      "text/plain": [
       "(8243, 8)"
      ]
     },
     "metadata": {},
     "output_type": "display_data"
    }
   ],
   "source": [
    "df = df.drop(columns=['label_confidence','citingPaperId','citedPaperId','id','unique_id','label2','label2_confidence'])\n",
    "\n",
    "display(\n",
    "    df.columns,\n",
    "    df.shape\n",
    ")"
   ]
  },
  {
   "cell_type": "markdown",
   "id": "096c27da-c794-4ddf-ab0f-fbfdba0f33cc",
   "metadata": {},
   "source": [
    "#### 2.2 Drop selected null rows"
   ]
  },
  {
   "cell_type": "code",
   "execution_count": 5,
   "id": "ad0f1447-7099-4d6b-8048-89a048b96401",
   "metadata": {},
   "outputs": [
    {
     "name": "stdout",
     "output_type": "stream",
     "text": [
      "source null value: 2\n",
      "citeEnd null value: 2\n",
      "sectionName null value: 19\n",
      "citeStart null value: 2\n",
      "string null value: 0\n",
      "label null value: 0\n",
      "isKeyCitation null value: 0\n",
      "excerpt_index null value: 0\n"
     ]
    }
   ],
   "source": [
    "for column in df.columns:\n",
    "    print(f\"{column} null value:\",sum(df[column].isnull()))"
   ]
  },
  {
   "cell_type": "code",
   "execution_count": 6,
   "id": "1f61a5d7-ab85-4bb9-afbc-d901452b8b64",
   "metadata": {},
   "outputs": [
    {
     "data": {
      "text/plain": [
       "\"Number of null values in 'source': 0\""
      ]
     },
     "metadata": {},
     "output_type": "display_data"
    },
    {
     "data": {
      "text/plain": [
       "\"Number of null values in 'citeEnd': 0\""
      ]
     },
     "metadata": {},
     "output_type": "display_data"
    },
    {
     "data": {
      "text/plain": [
       "\"Number of null values in 'citeStart': 0\""
      ]
     },
     "metadata": {},
     "output_type": "display_data"
    }
   ],
   "source": [
    "df = df.dropna(subset=['source', 'citeEnd', 'citeStart'])\n",
    "display(\n",
    "    f\"Number of null values in 'source': {sum(df['source'].isnull())}\",\n",
    "    f\"Number of null values in 'citeEnd': {sum(df['citeEnd'].isnull())}\",\n",
    "    f\"Number of null values in 'citeStart': {sum(df['citeStart'].isnull())}\"\n",
    ")"
   ]
  },
  {
   "cell_type": "markdown",
   "id": "209290b9-30a5-4e7d-99cb-e4f31a6e995e",
   "metadata": {},
   "source": [
    "#### 2.3 One-hot encoding for 'source' and 'isKeyCitation' columns"
   ]
  },
  {
   "cell_type": "code",
   "execution_count": 7,
   "id": "61304139-6026-410c-86c2-8dd10e328442",
   "metadata": {},
   "outputs": [
    {
     "name": "stdout",
     "output_type": "stream",
     "text": [
      "Source Mapping: ['source_acronym' 'source_acronymParen' 'source_andPhrase'\n",
      " 'source_etAlPhrase' 'source_explicit' 'source_properNoun']\n",
      "Key Citation Mapping: ['isKeyCitation_False' 'isKeyCitation_True']\n"
     ]
    },
    {
     "data": {
      "text/plain": [
       "(8241, 14)"
      ]
     },
     "execution_count": 7,
     "metadata": {},
     "output_type": "execute_result"
    }
   ],
   "source": [
    "# Initialize OneHotEncoder\n",
    "one_hot_encoder = OneHotEncoder(sparse_output=False, handle_unknown='ignore')\n",
    "\n",
    "# Fit and transform the 'source' column\n",
    "one_hot_encoded_source = one_hot_encoder.fit_transform(df[['source']])\n",
    "one_hot_columns_source = one_hot_encoder.get_feature_names_out(['source'])\n",
    "df_one_hot_source = pd.DataFrame(one_hot_encoded_source, columns=one_hot_columns_source, index=df.index)\n",
    "\n",
    "# Fit and transform the 'isKeyCitation' column\n",
    "one_hot_encoded_key_citation = one_hot_encoder.fit_transform(df[['isKeyCitation']])\n",
    "one_hot_columns_key_citation = one_hot_encoder.get_feature_names_out(['isKeyCitation'])\n",
    "df_one_hot_key_citation = pd.DataFrame(one_hot_encoded_key_citation, columns=one_hot_columns_key_citation, index=df.index)\n",
    "\n",
    "# Concatenate the one-hot encoded DataFrames with the original DataFrame\n",
    "df = pd.concat([df, df_one_hot_source, df_one_hot_key_citation], axis=1)\n",
    "\n",
    "# Drop the original categorical columns\n",
    "df.drop(columns=['source', 'isKeyCitation'], inplace=True)\n",
    "\n",
    "# Show one-hot encoded DataFrame and the new shape\n",
    "print(\"Source Mapping:\", one_hot_columns_source)\n",
    "print(\"Key Citation Mapping:\", one_hot_columns_key_citation)\n",
    "df.shape"
   ]
  },
  {
   "cell_type": "markdown",
   "id": "9e4b79a7-f71f-4f8b-a04f-f58c83488d4d",
   "metadata": {},
   "source": [
    "#### 2.4 Clean 'sectionName' column"
   ]
  },
  {
   "cell_type": "markdown",
   "id": "8b1af0a2-0169-4393-a34e-ce232ed1b051",
   "metadata": {},
   "source": [
    "- replace NaN and empty strings with \"Unknown\""
   ]
  },
  {
   "cell_type": "code",
   "execution_count": 8,
   "id": "8decef10-4a2f-4b58-8b70-abc4a44b5cd9",
   "metadata": {},
   "outputs": [
    {
     "name": "stdout",
     "output_type": "stream",
     "text": [
      "NaN values before replacement: 19\n",
      "Empty strings before replacement: 587\n",
      "\n",
      "NaN values after replacement: 0\n",
      "Empty strings after replacement: 0\n"
     ]
    }
   ],
   "source": [
    "# before replacement\n",
    "num_nan = df['sectionName'].isna().sum()\n",
    "num_empty = (df['sectionName'] == '').sum()\n",
    "print(f\"NaN values before replacement: {num_nan}\")\n",
    "print(f\"Empty strings before replacement: {num_empty}\")\n",
    "\n",
    "# replacement\n",
    "df['sectionName'] = df['sectionName'].replace('', np.nan).fillna(\"Unknown\")\n",
    "\n",
    "# after replacement\n",
    "num_nan = df['sectionName'].isna().sum()\n",
    "num_empty = (df['sectionName'] == '').sum()\n",
    "print(f\"\\nNaN values after replacement: {num_nan}\")\n",
    "print(f\"Empty strings after replacement: {num_empty}\")"
   ]
  },
  {
   "cell_type": "markdown",
   "id": "daf3c3e9-a3e2-4f88-9f0f-bd20d4f388d5",
   "metadata": {},
   "source": [
    "- convert string to lowercase"
   ]
  },
  {
   "cell_type": "code",
   "execution_count": 9,
   "id": "f4b70528-1346-4640-b9f0-d458d41df3aa",
   "metadata": {},
   "outputs": [
    {
     "name": "stdout",
     "output_type": "stream",
     "text": [
      "Num unique strings before lowercase: 1147\n",
      "Num unique strings after lowercase: 1074\n"
     ]
    }
   ],
   "source": [
    "print(f\"Num unique strings before lowercase: {len(df['sectionName'].unique())}\")\n",
    "df.loc[:, 'sectionName'] = df['sectionName'].apply(str.lower)\n",
    "print(f\"Num unique strings after lowercase: {len(df['sectionName'].unique())}\")"
   ]
  },
  {
   "cell_type": "markdown",
   "id": "b7fbb8d3-edb2-4847-b4cc-6f2f7c8fc394",
   "metadata": {},
   "source": [
    "- remove numbers and punctuation"
   ]
  },
  {
   "cell_type": "code",
   "execution_count": 10,
   "id": "5ef9fc2a-a658-48a6-aaeb-e9a909cd58fe",
   "metadata": {},
   "outputs": [
    {
     "name": "stdout",
     "output_type": "stream",
     "text": [
      "Num unique strings before removing: 1074\n",
      "Num unique strings after removing: 807\n"
     ]
    }
   ],
   "source": [
    "print(f\"Num unique strings before removing: {len(df['sectionName'].unique())}\")\n",
    "df['sectionName'] = df['sectionName'].str.replace(r'[\\d{}]+'.format(string.punctuation), '', regex=True).str.strip()\n",
    "print(f\"Num unique strings after removing: {len(df['sectionName'].unique())}\")"
   ]
  },
  {
   "cell_type": "markdown",
   "id": "18b56e63-de1a-45e6-b70c-e16938448a65",
   "metadata": {},
   "source": [
    "- lemmatization"
   ]
  },
  {
   "cell_type": "code",
   "execution_count": 11,
   "id": "a0c9e038-dccf-469b-b477-c6fa8d847bbc",
   "metadata": {},
   "outputs": [
    {
     "name": "stdout",
     "output_type": "stream",
     "text": [
      "Num unique strings before lemmatization: 807\n",
      "Num unique strings after lemmatization: 794\n"
     ]
    }
   ],
   "source": [
    "# Initialize the lemmatizer\n",
    "lemmatizer = WordNetLemmatizer()\n",
    "\n",
    "def lemmatize_text(text):\n",
    "    words = nltk.word_tokenize(text)  # Tokenize the text into words\n",
    "    lemmatized_words = [lemmatizer.lemmatize(word) for word in words]  # Lemmatize each word\n",
    "    return \" \".join(lemmatized_words)\n",
    "\n",
    "print(f\"Num unique strings before lemmatization: {len(df['sectionName'].unique())}\")\n",
    "df['sectionName'] = df['sectionName'].apply(lemmatize_text)\n",
    "print(f\"Num unique strings after lemmatization: {len(df['sectionName'].unique())}\")"
   ]
  },
  {
   "cell_type": "markdown",
   "id": "050e8342-48b7-411c-b8b5-1e8d6441d649",
   "metadata": {},
   "source": [
    "- mapping to pre-defined categories"
   ]
  },
  {
   "cell_type": "code",
   "execution_count": 12,
   "id": "ff39ffd1-a09d-4f3e-a2a4-248d84a5a06c",
   "metadata": {},
   "outputs": [
    {
     "name": "stdout",
     "output_type": "stream",
     "text": [
      "Num unique strings before mapping: 794\n",
      "Num unique strings after mapping: 765\n"
     ]
    }
   ],
   "source": [
    "# to be mapped to 'background'\n",
    "background_keywords = ['background', 'introduction', 'related work', 'relatedwork', 'overview', \\\n",
    "            'literature review', 'summary', 'state of the art', 'prior work']\n",
    "\n",
    "pattern = re.compile('|'.join(background_keywords), re.IGNORECASE)\n",
    "\n",
    "print(f\"Num unique strings before mapping: {len(df['sectionName'].unique())}\")\n",
    "df['sectionName'] = df['sectionName'].apply(lambda text: 'background' if pattern.search(text) else text)\n",
    "print(f\"Num unique strings after mapping: {len(df['sectionName'].unique())}\")"
   ]
  },
  {
   "cell_type": "code",
   "execution_count": 13,
   "id": "1bc756fd-22da-4a3f-b082-ec41a475963d",
   "metadata": {},
   "outputs": [
    {
     "name": "stdout",
     "output_type": "stream",
     "text": [
      "Num unique strings before mapping: 765\n",
      "Num unique strings after mapping: 625\n"
     ]
    }
   ],
   "source": [
    "# to be mapped to 'method'\n",
    "method_keywords = ['methodology', 'method', 'approach', 'design', \\\n",
    "            'proposed', 'experiment', 'implementation', 'procedure', \\\n",
    "            'description', 'technique', 'technical', 'formulation', \\\n",
    "            'solution', 'collection', 'describ', 'measure', 'model', \\\n",
    "            'empirical', 'study', 'setup', 'setting', 'system', 'detail']\n",
    "\n",
    "pattern = re.compile('|'.join(method_keywords), re.IGNORECASE)\n",
    "\n",
    "print(f\"Num unique strings before mapping: {len(df['sectionName'].unique())}\")\n",
    "df['sectionName'] = df['sectionName'].apply(lambda text: 'method' if pattern.search(text) else text)\n",
    "print(f\"Num unique strings after mapping: {len(df['sectionName'].unique())}\")"
   ]
  },
  {
   "cell_type": "code",
   "execution_count": 14,
   "id": "a6b182f1-885f-43c8-b278-85e981eff0d7",
   "metadata": {},
   "outputs": [
    {
     "name": "stdout",
     "output_type": "stream",
     "text": [
      "Num unique strings before mapping: 625\n",
      "Num unique strings after mapping: 557\n"
     ]
    }
   ],
   "source": [
    "# to be mapped to 'result'\n",
    "result_keywords = ['result', 'discussion', 'evaluation', 'limitation', 'implication', 'comparison', \\\n",
    "            'contribution', 'analysis', 'test', 'compare']\n",
    "\n",
    "pattern = re.compile('|'.join(result_keywords), re.IGNORECASE)\n",
    "\n",
    "print(f\"Num unique strings before mapping: {len(df['sectionName'].unique())}\")\n",
    "df['sectionName'] = df['sectionName'].apply(lambda text: 'result' if pattern.search(text) else text)\n",
    "print(f\"Num unique strings after mapping: {len(df['sectionName'].unique())}\")"
   ]
  },
  {
   "cell_type": "code",
   "execution_count": 15,
   "id": "16ed027c-0fe0-4e22-bcfe-472eade1d34f",
   "metadata": {},
   "outputs": [
    {
     "name": "stdout",
     "output_type": "stream",
     "text": [
      "Num unique strings before mapping: 557\n",
      "Num unique strings after mapping: 551\n"
     ]
    }
   ],
   "source": [
    "# to be mapped to 'conclusion'\n",
    "conclusion_keywords = ['conclusion', 'concluding', 'future']\n",
    "\n",
    "pattern = re.compile('|'.join(conclusion_keywords), re.IGNORECASE)\n",
    "\n",
    "print(f\"Num unique strings before mapping: {len(df['sectionName'].unique())}\")\n",
    "df['sectionName'] = df['sectionName'].apply(lambda text: 'conclusion' if pattern.search(text) else text)\n",
    "print(f\"Num unique strings after mapping: {len(df['sectionName'].unique())}\")"
   ]
  },
  {
   "cell_type": "code",
   "execution_count": 16,
   "id": "bb90ed53-bba8-467d-8fc5-7704f206f03c",
   "metadata": {},
   "outputs": [
    {
     "name": "stdout",
     "output_type": "stream",
     "text": [
      "Num unique strings before mapping: 551\n",
      "Num unique strings after mapping: 5\n"
     ]
    }
   ],
   "source": [
    "# List of valid section names\n",
    "valid_sections = {'background', 'result', 'conclusion', 'method', 'unknown'}\n",
    "\n",
    "# Replace any other section name with 'unknown'\n",
    "print(f\"Num unique strings before mapping: {len(df['sectionName'].unique())}\")\n",
    "df['sectionName'] = df['sectionName'].apply(lambda text: text if text in valid_sections else 'unknown')\n",
    "print(f\"Num unique strings after mapping: {len(df['sectionName'].unique())}\")"
   ]
  },
  {
   "cell_type": "code",
   "execution_count": 17,
   "id": "2d153c57-5644-4593-883a-410eb95a7a85",
   "metadata": {},
   "outputs": [
    {
     "data": {
      "text/html": [
       "<div>\n",
       "<style scoped>\n",
       "    .dataframe tbody tr th:only-of-type {\n",
       "        vertical-align: middle;\n",
       "    }\n",
       "\n",
       "    .dataframe tbody tr th {\n",
       "        vertical-align: top;\n",
       "    }\n",
       "\n",
       "    .dataframe thead th {\n",
       "        text-align: right;\n",
       "    }\n",
       "</style>\n",
       "<table border=\"1\" class=\"dataframe\">\n",
       "  <thead>\n",
       "    <tr style=\"text-align: right;\">\n",
       "      <th></th>\n",
       "      <th>citeEnd</th>\n",
       "      <th>citeStart</th>\n",
       "      <th>string</th>\n",
       "      <th>label</th>\n",
       "      <th>excerpt_index</th>\n",
       "      <th>source_acronym</th>\n",
       "      <th>source_acronymParen</th>\n",
       "      <th>source_andPhrase</th>\n",
       "      <th>source_etAlPhrase</th>\n",
       "      <th>source_explicit</th>\n",
       "      <th>source_properNoun</th>\n",
       "      <th>isKeyCitation_False</th>\n",
       "      <th>isKeyCitation_True</th>\n",
       "      <th>sectionName_background</th>\n",
       "      <th>sectionName_conclusion</th>\n",
       "      <th>sectionName_method</th>\n",
       "      <th>sectionName_result</th>\n",
       "      <th>sectionName_unknown</th>\n",
       "    </tr>\n",
       "  </thead>\n",
       "  <tbody>\n",
       "    <tr>\n",
       "      <th>0</th>\n",
       "      <td>175.0</td>\n",
       "      <td>168.0</td>\n",
       "      <td>However, how frataxin interacts with the Fe-S ...</td>\n",
       "      <td>background</td>\n",
       "      <td>11</td>\n",
       "      <td>0.0</td>\n",
       "      <td>0.0</td>\n",
       "      <td>0.0</td>\n",
       "      <td>0.0</td>\n",
       "      <td>1.0</td>\n",
       "      <td>0.0</td>\n",
       "      <td>0.0</td>\n",
       "      <td>1.0</td>\n",
       "      <td>1.0</td>\n",
       "      <td>0.0</td>\n",
       "      <td>0.0</td>\n",
       "      <td>0.0</td>\n",
       "      <td>0.0</td>\n",
       "    </tr>\n",
       "    <tr>\n",
       "      <th>1</th>\n",
       "      <td>36.0</td>\n",
       "      <td>16.0</td>\n",
       "      <td>In the study by Hickey et al. (2012), spikes w...</td>\n",
       "      <td>background</td>\n",
       "      <td>2</td>\n",
       "      <td>0.0</td>\n",
       "      <td>0.0</td>\n",
       "      <td>0.0</td>\n",
       "      <td>0.0</td>\n",
       "      <td>1.0</td>\n",
       "      <td>0.0</td>\n",
       "      <td>0.0</td>\n",
       "      <td>1.0</td>\n",
       "      <td>0.0</td>\n",
       "      <td>0.0</td>\n",
       "      <td>0.0</td>\n",
       "      <td>0.0</td>\n",
       "      <td>1.0</td>\n",
       "    </tr>\n",
       "    <tr>\n",
       "      <th>2</th>\n",
       "      <td>228.0</td>\n",
       "      <td>225.0</td>\n",
       "      <td>The drug also reduces catecholamine secretion,...</td>\n",
       "      <td>background</td>\n",
       "      <td>0</td>\n",
       "      <td>0.0</td>\n",
       "      <td>0.0</td>\n",
       "      <td>0.0</td>\n",
       "      <td>0.0</td>\n",
       "      <td>1.0</td>\n",
       "      <td>0.0</td>\n",
       "      <td>1.0</td>\n",
       "      <td>0.0</td>\n",
       "      <td>1.0</td>\n",
       "      <td>0.0</td>\n",
       "      <td>0.0</td>\n",
       "      <td>0.0</td>\n",
       "      <td>0.0</td>\n",
       "    </tr>\n",
       "    <tr>\n",
       "      <th>3</th>\n",
       "      <td>110.0</td>\n",
       "      <td>46.0</td>\n",
       "      <td>By clustering with lowly aggressive close kin ...</td>\n",
       "      <td>background</td>\n",
       "      <td>3</td>\n",
       "      <td>0.0</td>\n",
       "      <td>0.0</td>\n",
       "      <td>0.0</td>\n",
       "      <td>0.0</td>\n",
       "      <td>1.0</td>\n",
       "      <td>0.0</td>\n",
       "      <td>1.0</td>\n",
       "      <td>0.0</td>\n",
       "      <td>0.0</td>\n",
       "      <td>0.0</td>\n",
       "      <td>0.0</td>\n",
       "      <td>1.0</td>\n",
       "      <td>0.0</td>\n",
       "    </tr>\n",
       "    <tr>\n",
       "      <th>4</th>\n",
       "      <td>239.0</td>\n",
       "      <td>234.0</td>\n",
       "      <td>Ophthalmic symptoms are rare manifestations of...</td>\n",
       "      <td>background</td>\n",
       "      <td>2</td>\n",
       "      <td>0.0</td>\n",
       "      <td>0.0</td>\n",
       "      <td>0.0</td>\n",
       "      <td>0.0</td>\n",
       "      <td>1.0</td>\n",
       "      <td>0.0</td>\n",
       "      <td>1.0</td>\n",
       "      <td>0.0</td>\n",
       "      <td>0.0</td>\n",
       "      <td>0.0</td>\n",
       "      <td>0.0</td>\n",
       "      <td>1.0</td>\n",
       "      <td>0.0</td>\n",
       "    </tr>\n",
       "  </tbody>\n",
       "</table>\n",
       "</div>"
      ],
      "text/plain": [
       "   citeEnd  citeStart                                             string  \\\n",
       "0    175.0      168.0  However, how frataxin interacts with the Fe-S ...   \n",
       "1     36.0       16.0  In the study by Hickey et al. (2012), spikes w...   \n",
       "2    228.0      225.0  The drug also reduces catecholamine secretion,...   \n",
       "3    110.0       46.0  By clustering with lowly aggressive close kin ...   \n",
       "4    239.0      234.0  Ophthalmic symptoms are rare manifestations of...   \n",
       "\n",
       "        label  excerpt_index  source_acronym  source_acronymParen  \\\n",
       "0  background             11             0.0                  0.0   \n",
       "1  background              2             0.0                  0.0   \n",
       "2  background              0             0.0                  0.0   \n",
       "3  background              3             0.0                  0.0   \n",
       "4  background              2             0.0                  0.0   \n",
       "\n",
       "   source_andPhrase  source_etAlPhrase  source_explicit  source_properNoun  \\\n",
       "0               0.0                0.0              1.0                0.0   \n",
       "1               0.0                0.0              1.0                0.0   \n",
       "2               0.0                0.0              1.0                0.0   \n",
       "3               0.0                0.0              1.0                0.0   \n",
       "4               0.0                0.0              1.0                0.0   \n",
       "\n",
       "   isKeyCitation_False  isKeyCitation_True  sectionName_background  \\\n",
       "0                  0.0                 1.0                     1.0   \n",
       "1                  0.0                 1.0                     0.0   \n",
       "2                  1.0                 0.0                     1.0   \n",
       "3                  1.0                 0.0                     0.0   \n",
       "4                  1.0                 0.0                     0.0   \n",
       "\n",
       "   sectionName_conclusion  sectionName_method  sectionName_result  \\\n",
       "0                     0.0                 0.0                 0.0   \n",
       "1                     0.0                 0.0                 0.0   \n",
       "2                     0.0                 0.0                 0.0   \n",
       "3                     0.0                 0.0                 1.0   \n",
       "4                     0.0                 0.0                 1.0   \n",
       "\n",
       "   sectionName_unknown  \n",
       "0                  0.0  \n",
       "1                  1.0  \n",
       "2                  0.0  \n",
       "3                  0.0  \n",
       "4                  0.0  "
      ]
     },
     "execution_count": 17,
     "metadata": {},
     "output_type": "execute_result"
    }
   ],
   "source": [
    "# Initialize OneHotEncoder\n",
    "one_hot_encoder = OneHotEncoder(sparse_output=False, handle_unknown='ignore')\n",
    "\n",
    "# Fit and transform the 'sectionName' column (apply one-hot encoding)\n",
    "section_encoded = one_hot_encoder.fit_transform(df[['sectionName']])\n",
    "one_hot_columns = one_hot_encoder.get_feature_names_out(['sectionName'])\n",
    "df_one_hot = pd.DataFrame(section_encoded, columns=one_hot_columns, index=df.index)\n",
    "\n",
    "# Concatenate the original DataFrame with the one-hot encoded columns\n",
    "df = pd.concat([df, df_one_hot], axis=1)\n",
    "\n",
    "# Drop the original 'sectionName' column\n",
    "df.drop(columns=['sectionName'], inplace=True)\n",
    "\n",
    "df.head()"
   ]
  },
  {
   "cell_type": "markdown",
   "id": "bf59234a-f656-48f0-ab53-45a954782540",
   "metadata": {},
   "source": [
    "#### 2.5 Clean 'string' column\n",
    "- Remove citations (e.g., [12,22]).\n",
    "- Convert text to lowercase.\n",
    "- Remove punctuation.\n",
    "- Remove numbers.\n",
    "- Remove stopwords.\n",
    "- Lemmatize words using NLTK.\n",
    "- Replace multiple spaces with a single space."
   ]
  },
  {
   "cell_type": "code",
   "execution_count": 18,
   "id": "6b403924-082d-49fa-809e-ab46db9fa0fa",
   "metadata": {},
   "outputs": [
    {
     "data": {
      "text/html": [
       "<div>\n",
       "<style scoped>\n",
       "    .dataframe tbody tr th:only-of-type {\n",
       "        vertical-align: middle;\n",
       "    }\n",
       "\n",
       "    .dataframe tbody tr th {\n",
       "        vertical-align: top;\n",
       "    }\n",
       "\n",
       "    .dataframe thead th {\n",
       "        text-align: right;\n",
       "    }\n",
       "</style>\n",
       "<table border=\"1\" class=\"dataframe\">\n",
       "  <thead>\n",
       "    <tr style=\"text-align: right;\">\n",
       "      <th></th>\n",
       "      <th>citeEnd</th>\n",
       "      <th>citeStart</th>\n",
       "      <th>string</th>\n",
       "      <th>label</th>\n",
       "      <th>excerpt_index</th>\n",
       "      <th>source_acronym</th>\n",
       "      <th>source_acronymParen</th>\n",
       "      <th>source_andPhrase</th>\n",
       "      <th>source_etAlPhrase</th>\n",
       "      <th>source_explicit</th>\n",
       "      <th>source_properNoun</th>\n",
       "      <th>isKeyCitation_False</th>\n",
       "      <th>isKeyCitation_True</th>\n",
       "      <th>sectionName_background</th>\n",
       "      <th>sectionName_conclusion</th>\n",
       "      <th>sectionName_method</th>\n",
       "      <th>sectionName_result</th>\n",
       "      <th>sectionName_unknown</th>\n",
       "    </tr>\n",
       "  </thead>\n",
       "  <tbody>\n",
       "    <tr>\n",
       "      <th>0</th>\n",
       "      <td>175.0</td>\n",
       "      <td>168.0</td>\n",
       "      <td>however frataxin interacts fe cluster biosynth...</td>\n",
       "      <td>background</td>\n",
       "      <td>11</td>\n",
       "      <td>0.0</td>\n",
       "      <td>0.0</td>\n",
       "      <td>0.0</td>\n",
       "      <td>0.0</td>\n",
       "      <td>1.0</td>\n",
       "      <td>0.0</td>\n",
       "      <td>0.0</td>\n",
       "      <td>1.0</td>\n",
       "      <td>1.0</td>\n",
       "      <td>0.0</td>\n",
       "      <td>0.0</td>\n",
       "      <td>0.0</td>\n",
       "      <td>0.0</td>\n",
       "    </tr>\n",
       "    <tr>\n",
       "      <th>1</th>\n",
       "      <td>36.0</td>\n",
       "      <td>16.0</td>\n",
       "      <td>study hickey et al spike sampled field point p...</td>\n",
       "      <td>background</td>\n",
       "      <td>2</td>\n",
       "      <td>0.0</td>\n",
       "      <td>0.0</td>\n",
       "      <td>0.0</td>\n",
       "      <td>0.0</td>\n",
       "      <td>1.0</td>\n",
       "      <td>0.0</td>\n",
       "      <td>0.0</td>\n",
       "      <td>1.0</td>\n",
       "      <td>0.0</td>\n",
       "      <td>0.0</td>\n",
       "      <td>0.0</td>\n",
       "      <td>0.0</td>\n",
       "      <td>1.0</td>\n",
       "    </tr>\n",
       "    <tr>\n",
       "      <th>2</th>\n",
       "      <td>228.0</td>\n",
       "      <td>225.0</td>\n",
       "      <td>drug also reduces catecholamine secretion ther...</td>\n",
       "      <td>background</td>\n",
       "      <td>0</td>\n",
       "      <td>0.0</td>\n",
       "      <td>0.0</td>\n",
       "      <td>0.0</td>\n",
       "      <td>0.0</td>\n",
       "      <td>1.0</td>\n",
       "      <td>0.0</td>\n",
       "      <td>1.0</td>\n",
       "      <td>0.0</td>\n",
       "      <td>1.0</td>\n",
       "      <td>0.0</td>\n",
       "      <td>0.0</td>\n",
       "      <td>0.0</td>\n",
       "      <td>0.0</td>\n",
       "    </tr>\n",
       "    <tr>\n",
       "      <th>3</th>\n",
       "      <td>110.0</td>\n",
       "      <td>46.0</td>\n",
       "      <td>clustering lowly aggressive close kin king ab ...</td>\n",
       "      <td>background</td>\n",
       "      <td>3</td>\n",
       "      <td>0.0</td>\n",
       "      <td>0.0</td>\n",
       "      <td>0.0</td>\n",
       "      <td>0.0</td>\n",
       "      <td>1.0</td>\n",
       "      <td>0.0</td>\n",
       "      <td>1.0</td>\n",
       "      <td>0.0</td>\n",
       "      <td>0.0</td>\n",
       "      <td>0.0</td>\n",
       "      <td>0.0</td>\n",
       "      <td>1.0</td>\n",
       "      <td>0.0</td>\n",
       "    </tr>\n",
       "    <tr>\n",
       "      <th>4</th>\n",
       "      <td>239.0</td>\n",
       "      <td>234.0</td>\n",
       "      <td>ophthalmic symptom rare manifestation intracra...</td>\n",
       "      <td>background</td>\n",
       "      <td>2</td>\n",
       "      <td>0.0</td>\n",
       "      <td>0.0</td>\n",
       "      <td>0.0</td>\n",
       "      <td>0.0</td>\n",
       "      <td>1.0</td>\n",
       "      <td>0.0</td>\n",
       "      <td>1.0</td>\n",
       "      <td>0.0</td>\n",
       "      <td>0.0</td>\n",
       "      <td>0.0</td>\n",
       "      <td>0.0</td>\n",
       "      <td>1.0</td>\n",
       "      <td>0.0</td>\n",
       "    </tr>\n",
       "  </tbody>\n",
       "</table>\n",
       "</div>"
      ],
      "text/plain": [
       "   citeEnd  citeStart                                             string  \\\n",
       "0    175.0      168.0  however frataxin interacts fe cluster biosynth...   \n",
       "1     36.0       16.0  study hickey et al spike sampled field point p...   \n",
       "2    228.0      225.0  drug also reduces catecholamine secretion ther...   \n",
       "3    110.0       46.0  clustering lowly aggressive close kin king ab ...   \n",
       "4    239.0      234.0  ophthalmic symptom rare manifestation intracra...   \n",
       "\n",
       "        label  excerpt_index  source_acronym  source_acronymParen  \\\n",
       "0  background             11             0.0                  0.0   \n",
       "1  background              2             0.0                  0.0   \n",
       "2  background              0             0.0                  0.0   \n",
       "3  background              3             0.0                  0.0   \n",
       "4  background              2             0.0                  0.0   \n",
       "\n",
       "   source_andPhrase  source_etAlPhrase  source_explicit  source_properNoun  \\\n",
       "0               0.0                0.0              1.0                0.0   \n",
       "1               0.0                0.0              1.0                0.0   \n",
       "2               0.0                0.0              1.0                0.0   \n",
       "3               0.0                0.0              1.0                0.0   \n",
       "4               0.0                0.0              1.0                0.0   \n",
       "\n",
       "   isKeyCitation_False  isKeyCitation_True  sectionName_background  \\\n",
       "0                  0.0                 1.0                     1.0   \n",
       "1                  0.0                 1.0                     0.0   \n",
       "2                  1.0                 0.0                     1.0   \n",
       "3                  1.0                 0.0                     0.0   \n",
       "4                  1.0                 0.0                     0.0   \n",
       "\n",
       "   sectionName_conclusion  sectionName_method  sectionName_result  \\\n",
       "0                     0.0                 0.0                 0.0   \n",
       "1                     0.0                 0.0                 0.0   \n",
       "2                     0.0                 0.0                 0.0   \n",
       "3                     0.0                 0.0                 1.0   \n",
       "4                     0.0                 0.0                 1.0   \n",
       "\n",
       "   sectionName_unknown  \n",
       "0                  0.0  \n",
       "1                  1.0  \n",
       "2                  0.0  \n",
       "3                  0.0  \n",
       "4                  0.0  "
      ]
     },
     "execution_count": 18,
     "metadata": {},
     "output_type": "execute_result"
    }
   ],
   "source": [
    "# Initialize Lemmatizer\n",
    "lemmatizer = WordNetLemmatizer()\n",
    "stop_words = set(stopwords.words('english'))\n",
    "\n",
    "# Function to clean text\n",
    "def clean_text(text):\n",
    "    if pd.isna(text):  # Handle NaN values\n",
    "        return \"\"\n",
    "    \n",
    "    # Remove various citation formats\n",
    "    text = re.sub(r\"\\[[\\d,\\s–-]+\\]\", \"\", text)  # Remove citations like [1–5], [21, 23, 33, 64, 100, 101, 107–118]\n",
    "    text = re.sub(r\"\\([\\d,\\s–-]+\\)\", \"\", text)  # Remove citations like (96-98), (7)\n",
    "    text = re.sub(r\"\\b[A-Z][a-z]+ et al\\.\\s*\\(\\d{4}\\)\", \"\", text)  # Doe et al. (2021)\n",
    "    text = re.sub(r\"\\(\\w+,\\s*\\d{4}(?:;\\s*\\w+,\\s*\\d{4})*\\)\", \"\", text)  # (Smith, 2020; Johnson, 2019)\n",
    "    text = re.sub(r\"\\b(ICML|NeurIPS|CVPR|JMLR|arXiv|vol\\.\\s*\\d+)\\b\", \"\", text)  # Journal/conference names\n",
    "\n",
    "    text = text.lower()  # Convert to lowercase\n",
    "    text = re.sub(r\"[^\\w\\s]\", \"\", text)  # Remove punctuation\n",
    "    text = re.sub(r\"\\d+\", \"\", text)  # Remove numbers\n",
    "    \n",
    "    tokens = word_tokenize(text)  # Tokenize text\n",
    "    tokens = [lemmatizer.lemmatize(word) for word in tokens if word not in stop_words]  # Lemmatization & remove stopwords\n",
    "    \n",
    "    return \" \".join(tokens)  # Reconstruct sentence\n",
    "\n",
    "# Apply text cleaning function\n",
    "df['string'] = df['string'].apply(clean_text)\n",
    "\n",
    "# Display results\n",
    "df.head()"
   ]
  },
  {
   "cell_type": "markdown",
   "id": "5baf8d44-269a-475a-a211-8e2a28559876",
   "metadata": {},
   "source": [
    "- TF-IDF Vectorization of 'string' column"
   ]
  },
  {
   "cell_type": "code",
   "execution_count": 19,
   "id": "d1346023-070e-41fd-8f9a-5a71454effd7",
   "metadata": {},
   "outputs": [
    {
     "data": {
      "text/html": [
       "<div>\n",
       "<style scoped>\n",
       "    .dataframe tbody tr th:only-of-type {\n",
       "        vertical-align: middle;\n",
       "    }\n",
       "\n",
       "    .dataframe tbody tr th {\n",
       "        vertical-align: top;\n",
       "    }\n",
       "\n",
       "    .dataframe thead th {\n",
       "        text-align: right;\n",
       "    }\n",
       "</style>\n",
       "<table border=\"1\" class=\"dataframe\">\n",
       "  <thead>\n",
       "    <tr style=\"text-align: right;\">\n",
       "      <th></th>\n",
       "      <th>citeEnd</th>\n",
       "      <th>citeStart</th>\n",
       "      <th>label</th>\n",
       "      <th>excerpt_index</th>\n",
       "      <th>source_acronym</th>\n",
       "      <th>source_acronymParen</th>\n",
       "      <th>source_andPhrase</th>\n",
       "      <th>source_etAlPhrase</th>\n",
       "      <th>source_explicit</th>\n",
       "      <th>source_properNoun</th>\n",
       "      <th>...</th>\n",
       "      <th>zheng_tfidf</th>\n",
       "      <th>zhou_tfidf</th>\n",
       "      <th>zhu_tfidf</th>\n",
       "      <th>zinc_tfidf</th>\n",
       "      <th>zn_tfidf</th>\n",
       "      <th>zone_tfidf</th>\n",
       "      <th>äì_tfidf</th>\n",
       "      <th>ðþ_tfidf</th>\n",
       "      <th>βarr_tfidf</th>\n",
       "      <th>μm_tfidf</th>\n",
       "    </tr>\n",
       "  </thead>\n",
       "  <tbody>\n",
       "    <tr>\n",
       "      <th>0</th>\n",
       "      <td>175.0</td>\n",
       "      <td>168.0</td>\n",
       "      <td>background</td>\n",
       "      <td>11</td>\n",
       "      <td>0.0</td>\n",
       "      <td>0.0</td>\n",
       "      <td>0.0</td>\n",
       "      <td>0.0</td>\n",
       "      <td>1.0</td>\n",
       "      <td>0.0</td>\n",
       "      <td>...</td>\n",
       "      <td>0.0</td>\n",
       "      <td>0.0</td>\n",
       "      <td>0.0</td>\n",
       "      <td>0.0</td>\n",
       "      <td>0.0</td>\n",
       "      <td>0.0</td>\n",
       "      <td>0.0</td>\n",
       "      <td>0.0</td>\n",
       "      <td>0.0</td>\n",
       "      <td>0.0</td>\n",
       "    </tr>\n",
       "    <tr>\n",
       "      <th>1</th>\n",
       "      <td>36.0</td>\n",
       "      <td>16.0</td>\n",
       "      <td>background</td>\n",
       "      <td>2</td>\n",
       "      <td>0.0</td>\n",
       "      <td>0.0</td>\n",
       "      <td>0.0</td>\n",
       "      <td>0.0</td>\n",
       "      <td>1.0</td>\n",
       "      <td>0.0</td>\n",
       "      <td>...</td>\n",
       "      <td>0.0</td>\n",
       "      <td>0.0</td>\n",
       "      <td>0.0</td>\n",
       "      <td>0.0</td>\n",
       "      <td>0.0</td>\n",
       "      <td>0.0</td>\n",
       "      <td>0.0</td>\n",
       "      <td>0.0</td>\n",
       "      <td>0.0</td>\n",
       "      <td>0.0</td>\n",
       "    </tr>\n",
       "    <tr>\n",
       "      <th>2</th>\n",
       "      <td>228.0</td>\n",
       "      <td>225.0</td>\n",
       "      <td>background</td>\n",
       "      <td>0</td>\n",
       "      <td>0.0</td>\n",
       "      <td>0.0</td>\n",
       "      <td>0.0</td>\n",
       "      <td>0.0</td>\n",
       "      <td>1.0</td>\n",
       "      <td>0.0</td>\n",
       "      <td>...</td>\n",
       "      <td>0.0</td>\n",
       "      <td>0.0</td>\n",
       "      <td>0.0</td>\n",
       "      <td>0.0</td>\n",
       "      <td>0.0</td>\n",
       "      <td>0.0</td>\n",
       "      <td>0.0</td>\n",
       "      <td>0.0</td>\n",
       "      <td>0.0</td>\n",
       "      <td>0.0</td>\n",
       "    </tr>\n",
       "    <tr>\n",
       "      <th>3</th>\n",
       "      <td>110.0</td>\n",
       "      <td>46.0</td>\n",
       "      <td>background</td>\n",
       "      <td>3</td>\n",
       "      <td>0.0</td>\n",
       "      <td>0.0</td>\n",
       "      <td>0.0</td>\n",
       "      <td>0.0</td>\n",
       "      <td>1.0</td>\n",
       "      <td>0.0</td>\n",
       "      <td>...</td>\n",
       "      <td>0.0</td>\n",
       "      <td>0.0</td>\n",
       "      <td>0.0</td>\n",
       "      <td>0.0</td>\n",
       "      <td>0.0</td>\n",
       "      <td>0.0</td>\n",
       "      <td>0.0</td>\n",
       "      <td>0.0</td>\n",
       "      <td>0.0</td>\n",
       "      <td>0.0</td>\n",
       "    </tr>\n",
       "    <tr>\n",
       "      <th>4</th>\n",
       "      <td>239.0</td>\n",
       "      <td>234.0</td>\n",
       "      <td>background</td>\n",
       "      <td>2</td>\n",
       "      <td>0.0</td>\n",
       "      <td>0.0</td>\n",
       "      <td>0.0</td>\n",
       "      <td>0.0</td>\n",
       "      <td>1.0</td>\n",
       "      <td>0.0</td>\n",
       "      <td>...</td>\n",
       "      <td>0.0</td>\n",
       "      <td>0.0</td>\n",
       "      <td>0.0</td>\n",
       "      <td>0.0</td>\n",
       "      <td>0.0</td>\n",
       "      <td>0.0</td>\n",
       "      <td>0.0</td>\n",
       "      <td>0.0</td>\n",
       "      <td>0.0</td>\n",
       "      <td>0.0</td>\n",
       "    </tr>\n",
       "  </tbody>\n",
       "</table>\n",
       "<p>5 rows × 5017 columns</p>\n",
       "</div>"
      ],
      "text/plain": [
       "   citeEnd  citeStart       label  excerpt_index  source_acronym  \\\n",
       "0    175.0      168.0  background             11             0.0   \n",
       "1     36.0       16.0  background              2             0.0   \n",
       "2    228.0      225.0  background              0             0.0   \n",
       "3    110.0       46.0  background              3             0.0   \n",
       "4    239.0      234.0  background              2             0.0   \n",
       "\n",
       "   source_acronymParen  source_andPhrase  source_etAlPhrase  source_explicit  \\\n",
       "0                  0.0               0.0                0.0              1.0   \n",
       "1                  0.0               0.0                0.0              1.0   \n",
       "2                  0.0               0.0                0.0              1.0   \n",
       "3                  0.0               0.0                0.0              1.0   \n",
       "4                  0.0               0.0                0.0              1.0   \n",
       "\n",
       "   source_properNoun  ...  zheng_tfidf  zhou_tfidf  zhu_tfidf  zinc_tfidf  \\\n",
       "0                0.0  ...          0.0         0.0        0.0         0.0   \n",
       "1                0.0  ...          0.0         0.0        0.0         0.0   \n",
       "2                0.0  ...          0.0         0.0        0.0         0.0   \n",
       "3                0.0  ...          0.0         0.0        0.0         0.0   \n",
       "4                0.0  ...          0.0         0.0        0.0         0.0   \n",
       "\n",
       "   zn_tfidf  zone_tfidf  äì_tfidf  ðþ_tfidf  βarr_tfidf  μm_tfidf  \n",
       "0       0.0         0.0       0.0       0.0         0.0       0.0  \n",
       "1       0.0         0.0       0.0       0.0         0.0       0.0  \n",
       "2       0.0         0.0       0.0       0.0         0.0       0.0  \n",
       "3       0.0         0.0       0.0       0.0         0.0       0.0  \n",
       "4       0.0         0.0       0.0       0.0         0.0       0.0  \n",
       "\n",
       "[5 rows x 5017 columns]"
      ]
     },
     "execution_count": 19,
     "metadata": {},
     "output_type": "execute_result"
    }
   ],
   "source": [
    "# Initialize the vectorizer\n",
    "vectorizer = TfidfVectorizer(max_features=5000)  # Limit to top 5000 features\n",
    "\n",
    "# Fit and transform the 'string' column\n",
    "X_tfidf = vectorizer.fit_transform(df[\"string\"])\n",
    "\n",
    "# Convert the sparse matrix to a DataFrame\n",
    "tfidf_df = pd.DataFrame(X_tfidf.toarray(), columns=vectorizer.get_feature_names_out(), index=df.index)\n",
    "\n",
    "# Rename columns of the TF-IDF DataFrame to avoid overlap (add '_tfidf' suffix)\n",
    "tfidf_df.columns = [col + '_tfidf' for col in tfidf_df.columns]\n",
    "\n",
    "# Drop the original 'string' column\n",
    "df.drop(columns=['string'], inplace=True)\n",
    "\n",
    "# Concatenate the original DataFrame with the TF-IDF DataFrame\n",
    "df = pd.concat([df, tfidf_df], axis=1)\n",
    "\n",
    "# Display the updated DataFrame\n",
    "df.head()"
   ]
  },
  {
   "cell_type": "markdown",
   "id": "ed12da1b-3d39-41a8-a71d-514130593647",
   "metadata": {},
   "source": [
    "#### 2.6 Label encoding for 'label' column"
   ]
  },
  {
   "cell_type": "code",
   "execution_count": 20,
   "id": "a092ab09-f7fe-4b3e-b692-e5b737a3e87e",
   "metadata": {},
   "outputs": [
    {
     "name": "stdout",
     "output_type": "stream",
     "text": [
      "Labels: {'background': 0, 'method': 1, 'result': 2}\n"
     ]
    }
   ],
   "source": [
    "# Initialize Label Encoder\n",
    "label_encoder = LabelEncoder()\n",
    "\n",
    "# Encode labels directly in the 'label' column\n",
    "df[\"label\"] = label_encoder.fit_transform(df[\"label\"])\n",
    "joblib.dump(label_encoder, 'scicite_preprocessed/label_encoder.pkl')\n",
    "\n",
    "# Show label mappings\n",
    "label_mapping = dict(zip(label_encoder.classes_, label_encoder.transform(label_encoder.classes_)))\n",
    "print(\"Labels:\", label_mapping)"
   ]
  },
  {
   "cell_type": "markdown",
   "id": "423e985f-b240-4684-bfa6-4e66520d6cb6",
   "metadata": {},
   "source": [
    "## Save processed dataset"
   ]
  },
  {
   "cell_type": "code",
   "execution_count": 21,
   "id": "6d651083-fd58-4fcc-bace-ba5367cf3e98",
   "metadata": {},
   "outputs": [],
   "source": [
    "df.to_csv(\"scicite_preprocessed/\" + dataset + \".csv\", index=False)\n",
    "# scipy.sparse.save_npz(\"scicite_preprocessed/\" + dataset + \"_tfidf_matrix.npz\", X_tfidf)"
   ]
  },
  {
   "cell_type": "markdown",
   "id": "d4082175",
   "metadata": {},
   "source": [
    "# TODO: ML pipeline"
   ]
  },
  {
   "cell_type": "markdown",
   "id": "e778135b",
   "metadata": {},
   "source": [
    "- [x] Clean data\n",
    "- [ ] Upsampling\n",
    "- [x] Word vectorization\n",
    "- [ ] Word embedding\n",
    "- [ ] PCA \n",
    "- [ ] top-k features selection\n",
    "- [ ] Training the classfication model"
   ]
  }
 ],
 "metadata": {
  "kernelspec": {
   "display_name": "Python 3 (ipykernel)",
   "language": "python",
   "name": "python3"
  },
  "language_info": {
   "codemirror_mode": {
    "name": "ipython",
    "version": 3
   },
   "file_extension": ".py",
   "mimetype": "text/x-python",
   "name": "python",
   "nbconvert_exporter": "python",
   "pygments_lexer": "ipython3",
   "version": "3.11.5"
  }
 },
 "nbformat": 4,
 "nbformat_minor": 5
}
