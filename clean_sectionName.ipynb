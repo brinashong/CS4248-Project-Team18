{
 "cells": [
  {
   "cell_type": "code",
   "execution_count": 2,
   "id": "d0335f8a-dff7-42a0-805e-1531d27c73fd",
   "metadata": {},
   "outputs": [
    {
     "name": "stderr",
     "output_type": "stream",
     "text": [
      "[nltk_data] Error loading punkt: <urlopen error [Errno -3] Temporary\n",
      "[nltk_data]     failure in name resolution>\n",
      "[nltk_data] Error loading stopwords: <urlopen error [Errno -3]\n",
      "[nltk_data]     Temporary failure in name resolution>\n",
      "[nltk_data] Error loading wordnet: <urlopen error [Errno -3] Temporary\n",
      "[nltk_data]     failure in name resolution>\n"
     ]
    },
    {
     "data": {
      "text/plain": [
       "False"
      ]
     },
     "execution_count": 2,
     "metadata": {},
     "output_type": "execute_result"
    }
   ],
   "source": [
    "import pandas as pd\n",
    "import re\n",
    "import nltk\n",
    "from nltk.corpus import stopwords\n",
    "from nltk.tokenize import word_tokenize\n",
    "from nltk.stem import WordNetLemmatizer\n",
    "from sklearn.feature_extraction.text import TfidfVectorizer\n",
    "from sklearn.preprocessing import LabelEncoder, OneHotEncoder\n",
    "import numpy as np\n",
    "import matplotlib.pyplot as plt\n",
    "from wordcloud import WordCloud\n",
    "import scipy.sparse\n",
    "import joblib\n",
    "from collections import Counter\n",
    "import re\n",
    "import string\n",
    "\n",
    "nltk.download('punkt')\n",
    "nltk.download('stopwords')\n",
    "nltk.download('wordnet')"
   ]
  },
  {
   "cell_type": "code",
   "execution_count": 3,
   "id": "5cab81b9-7b18-4f22-a922-3d077f58677d",
   "metadata": {},
   "outputs": [
    {
     "data": {
      "text/plain": [
       "(8243, 15)"
      ]
     },
     "execution_count": 3,
     "metadata": {},
     "output_type": "execute_result"
    }
   ],
   "source": [
    "ori_df = pd.read_json(\"scicite/train.jsonl\", lines=True)\n",
    "df = pd.read_json(\"scicite/train.jsonl\", lines=True)\n",
    "\n",
    "df.shape"
   ]
  },
  {
   "cell_type": "code",
   "execution_count": 4,
   "id": "95888622-4145-4e57-8fd2-41b2722220c0",
   "metadata": {},
   "outputs": [
    {
     "data": {
      "text/plain": [
       "(8243, 8)"
      ]
     },
     "execution_count": 4,
     "metadata": {},
     "output_type": "execute_result"
    }
   ],
   "source": [
    "df = df.drop(columns=['label_confidence','citingPaperId','citedPaperId','id','unique_id','label2','label2_confidence'])\n",
    "\n",
    "df.shape"
   ]
  },
  {
   "cell_type": "code",
   "execution_count": 5,
   "id": "1411a8dd-445d-498a-841d-e81f78ee8fae",
   "metadata": {},
   "outputs": [
    {
     "name": "stdout",
     "output_type": "stream",
     "text": [
      "source null value: 2\n",
      "citeEnd null value: 2\n",
      "sectionName null value: 19\n",
      "citeStart null value: 2\n",
      "string null value: 0\n",
      "label null value: 0\n",
      "isKeyCitation null value: 0\n",
      "excerpt_index null value: 0\n"
     ]
    }
   ],
   "source": [
    "for column in df.columns:\n",
    "    print(f\"{column} null value:\",sum(df[column].isnull()))"
   ]
  },
  {
   "cell_type": "code",
   "execution_count": 6,
   "id": "34c7c259-3d7c-4e2d-b7f7-f5b471b97558",
   "metadata": {},
   "outputs": [
    {
     "data": {
      "text/plain": [
       "\"Number of null values in 'source': 0\""
      ]
     },
     "metadata": {},
     "output_type": "display_data"
    },
    {
     "data": {
      "text/plain": [
       "\"Number of null values in 'citeEnd': 0\""
      ]
     },
     "metadata": {},
     "output_type": "display_data"
    },
    {
     "data": {
      "text/plain": [
       "\"Number of null values in 'citeStart': 0\""
      ]
     },
     "metadata": {},
     "output_type": "display_data"
    }
   ],
   "source": [
    "df = df.dropna(subset=['source', 'citeEnd', 'citeStart'])\n",
    "display(\n",
    "    f\"Number of null values in 'source': {sum(df['source'].isnull())}\",\n",
    "    f\"Number of null values in 'citeEnd': {sum(df['citeEnd'].isnull())}\",\n",
    "    f\"Number of null values in 'citeStart': {sum(df['citeStart'].isnull())}\"\n",
    ")"
   ]
  },
  {
   "cell_type": "code",
   "execution_count": 7,
   "id": "4440d408-81a7-4660-8275-10836b34ca2e",
   "metadata": {},
   "outputs": [
    {
     "name": "stdout",
     "output_type": "stream",
     "text": [
      "Source Mapping: ['source_acronym' 'source_acronymParen' 'source_andPhrase'\n",
      " 'source_etAlPhrase' 'source_explicit' 'source_properNoun']\n",
      "Key Citation Mapping: ['isKeyCitation_False' 'isKeyCitation_True']\n"
     ]
    },
    {
     "data": {
      "text/plain": [
       "(8241, 14)"
      ]
     },
     "execution_count": 7,
     "metadata": {},
     "output_type": "execute_result"
    }
   ],
   "source": [
    "# Initialize OneHotEncoder\n",
    "one_hot_encoder = OneHotEncoder(sparse_output=False, handle_unknown='ignore')\n",
    "\n",
    "# Fit and transform the 'source' column\n",
    "one_hot_encoded_source = one_hot_encoder.fit_transform(df[['source']])\n",
    "\n",
    "# Get new column names for 'source'\n",
    "one_hot_columns_source = one_hot_encoder.get_feature_names_out(['source'])\n",
    "\n",
    "# Create a DataFrame with one-hot encoded values for 'source'\n",
    "df_one_hot_source = pd.DataFrame(one_hot_encoded_source, columns=one_hot_columns_source, index=df.index)\n",
    "\n",
    "# Fit and transform the 'isKeyCitation' column\n",
    "one_hot_encoded_key_citation = one_hot_encoder.fit_transform(df[['isKeyCitation']])\n",
    "\n",
    "# Get new column names for 'isKeyCitation'\n",
    "one_hot_columns_key_citation = one_hot_encoder.get_feature_names_out(['isKeyCitation'])\n",
    "\n",
    "# Create a DataFrame with one-hot encoded values for 'isKeyCitation'\n",
    "df_one_hot_key_citation = pd.DataFrame(one_hot_encoded_key_citation, columns=one_hot_columns_key_citation, index=df.index)\n",
    "\n",
    "# Concatenate the one-hot encoded DataFrames with the original DataFrame\n",
    "df = pd.concat([df, df_one_hot_source, df_one_hot_key_citation], axis=1)\n",
    "\n",
    "# Drop the original categorical columns if not needed\n",
    "df.drop(columns=['source', 'isKeyCitation'], inplace=True)\n",
    "\n",
    "# Show one-hot encoded DataFrame and the new shape\n",
    "print(\"Source Mapping:\", one_hot_columns_source)\n",
    "print(\"Key Citation Mapping:\", one_hot_columns_key_citation)\n",
    "df.shape"
   ]
  },
  {
   "cell_type": "code",
   "execution_count": 8,
   "id": "1688925e-8f4a-40ad-a7a6-73e0ddeccc5e",
   "metadata": {},
   "outputs": [],
   "source": [
    "# convert float to int\n",
    "df.loc[:, 'citeStart'] = df['citeStart'].astype(np.int64)\n",
    "df.loc[:,'citeEnd'] = df['citeEnd'].astype(np.int64)"
   ]
  },
  {
   "cell_type": "code",
   "execution_count": 9,
   "id": "3bc4a719-5b8d-456e-a7a8-142965dd2af3",
   "metadata": {},
   "outputs": [
    {
     "data": {
      "text/plain": [
       "0"
      ]
     },
     "execution_count": 9,
     "metadata": {},
     "output_type": "execute_result"
    }
   ],
   "source": [
    "# replace NaN and empty strings with \"Unknown\"\n",
    "df['sectionName'] = df['sectionName'].replace('', np.nan).fillna(\"Unknown\")\n",
    "sum(df['sectionName'].isnull())"
   ]
  },
  {
   "cell_type": "code",
   "execution_count": 10,
   "id": "04aa4923-f491-4158-a85b-799d7ec05f6e",
   "metadata": {},
   "outputs": [
    {
     "data": {
      "text/plain": [
       "1074"
      ]
     },
     "execution_count": 10,
     "metadata": {},
     "output_type": "execute_result"
    }
   ],
   "source": [
    "df.loc[:, 'sectionName'] = df['sectionName'].apply(str.lower)\n",
    "len(df['sectionName'].unique())"
   ]
  },
  {
   "cell_type": "code",
   "execution_count": 11,
   "id": "259509de-2315-488b-be2e-af410729e32a",
   "metadata": {},
   "outputs": [
    {
     "data": {
      "text/plain": [
       "863"
      ]
     },
     "execution_count": 11,
     "metadata": {},
     "output_type": "execute_result"
    }
   ],
   "source": [
    "# Remove numbers using regex\n",
    "df['sectionName'] = df['sectionName'].str.replace(r'\\d+', '', regex=True).str.strip()\n",
    "len(df['sectionName'].unique())"
   ]
  },
  {
   "cell_type": "code",
   "execution_count": 12,
   "id": "1923d4c3-0c3b-411b-9332-700ddbd17979",
   "metadata": {},
   "outputs": [
    {
     "data": {
      "text/plain": [
       "807"
      ]
     },
     "execution_count": 12,
     "metadata": {},
     "output_type": "execute_result"
    }
   ],
   "source": [
    "df['sectionName'] = df['sectionName'].str.replace(r'[\\d{}]+'.format(string.punctuation), '', regex=True).str.strip()\n",
    "len(df['sectionName'].unique())"
   ]
  },
  {
   "cell_type": "code",
   "execution_count": 13,
   "id": "f37aba83-003a-41e6-98e1-958869cfe9dd",
   "metadata": {},
   "outputs": [
    {
     "data": {
      "text/plain": [
       "794"
      ]
     },
     "execution_count": 13,
     "metadata": {},
     "output_type": "execute_result"
    }
   ],
   "source": [
    "# Initialize the lemmatizer\n",
    "lemmatizer = WordNetLemmatizer()\n",
    "\n",
    "# Function to lemmatize text\n",
    "def lemmatize_text(text):\n",
    "    words = nltk.word_tokenize(text)  # Tokenize the text into words\n",
    "    lemmatized_words = [lemmatizer.lemmatize(word) for word in words]  # Lemmatize each word\n",
    "    return \" \".join(lemmatized_words)\n",
    "\n",
    "# Apply lemmatization to the 'sectionName' column\n",
    "df['sectionName'] = df['sectionName'].apply(lemmatize_text)\n",
    "len(df['sectionName'].unique())"
   ]
  },
  {
   "cell_type": "code",
   "execution_count": 14,
   "id": "e2638906-b25b-4dc2-b4d2-74b942b803ed",
   "metadata": {},
   "outputs": [
    {
     "data": {
      "text/plain": [
       "732"
      ]
     },
     "execution_count": 14,
     "metadata": {},
     "output_type": "execute_result"
    }
   ],
   "source": [
    "# List of words to check for in the 'sectionName' column\n",
    "keywords = ['methodology', 'method', 'approach', 'design', \\\n",
    "            'proposed', 'experiment', 'implementation', 'procedure']\n",
    "\n",
    "# Function to replace the entire string with 'Method' if any keyword is found\n",
    "def replace_with_method(text):\n",
    "    if any(keyword in text.lower() for keyword in keywords):  # Check if any keyword is present\n",
    "        return 'method'\n",
    "    return text\n",
    "\n",
    "# Apply the function to the 'sectionName' column\n",
    "df['sectionName'] = df['sectionName'].apply(replace_with_method)\n",
    "\n",
    "len(df['sectionName'].unique())"
   ]
  },
  {
   "cell_type": "code",
   "execution_count": 15,
   "id": "7f70ec05-5724-4e62-9777-e666b51bafa7",
   "metadata": {},
   "outputs": [
    {
     "data": {
      "text/plain": [
       "686"
      ]
     },
     "execution_count": 15,
     "metadata": {},
     "output_type": "execute_result"
    }
   ],
   "source": [
    "# List of words to check for in the 'sectionName' column\n",
    "keywords = ['result', 'discussion', 'evaluation', 'limitation', 'implication', 'comparison']\n",
    "\n",
    "# Function to replace the entire string with 'Method' if any keyword is found\n",
    "def replace_with_method(text):\n",
    "    if any(keyword in text.lower() for keyword in keywords):  # Check if any keyword is present\n",
    "        return 'result'\n",
    "    return text\n",
    "\n",
    "# Apply the function to the 'sectionName' column\n",
    "df['sectionName'] = df['sectionName'].apply(replace_with_method)\n",
    "\n",
    "len(df['sectionName'].unique())"
   ]
  },
  {
   "cell_type": "code",
   "execution_count": 16,
   "id": "0d3fa852-78b6-46dc-b73a-feb6d207af0a",
   "metadata": {},
   "outputs": [
    {
     "data": {
      "text/plain": [
       "665"
      ]
     },
     "execution_count": 16,
     "metadata": {},
     "output_type": "execute_result"
    }
   ],
   "source": [
    "# List of words to check for in the 'sectionName' column\n",
    "keywords = ['background', 'introduction', 'related work', 'relatedwork', 'overview']\n",
    "\n",
    "# Function to replace the entire string with 'Method' if any keyword is found\n",
    "def replace_with_method(text):\n",
    "    if any(keyword in text.lower() for keyword in keywords):  # Check if any keyword is present\n",
    "        return 'background'\n",
    "    return text\n",
    "\n",
    "# Apply the function to the 'sectionName' column\n",
    "df['sectionName'] = df['sectionName'].apply(replace_with_method)\n",
    "\n",
    "len(df['sectionName'].unique())"
   ]
  },
  {
   "cell_type": "code",
   "execution_count": 17,
   "id": "2848d389-0530-4ca9-8f62-1afb4390cb30",
   "metadata": {},
   "outputs": [
    {
     "data": {
      "text/plain": [
       "659"
      ]
     },
     "execution_count": 17,
     "metadata": {},
     "output_type": "execute_result"
    }
   ],
   "source": [
    "# List of words to check for in the 'sectionName' column\n",
    "keywords = ['conclusion', 'concluding', 'future work']\n",
    "\n",
    "# Function to replace the entire string with 'Method' if any keyword is found\n",
    "def replace_with_method(text):\n",
    "    if any(keyword in text.lower() for keyword in keywords):  # Check if any keyword is present\n",
    "        return 'conclusion'\n",
    "    return text\n",
    "\n",
    "# Apply the function to the 'sectionName' column\n",
    "df['sectionName'] = df['sectionName'].apply(replace_with_method)\n",
    "\n",
    "len(df['sectionName'].unique())"
   ]
  },
  {
   "cell_type": "code",
   "execution_count": 116,
   "id": "ba5b8b79-b650-426d-a0fe-60892a0a9555",
   "metadata": {},
   "outputs": [
    {
     "data": {
      "text/plain": [
       "array(['background',\n",
       "       'novel quantitative trait locus for seminal root trait in barley',\n",
       "       'result', 'method', 'providing selfdetermination opportunity',\n",
       "       'mitochondrial lesion', 'unknown', 'go cellular component',\n",
       "       'economic and policy environment', 'scope and extension', 'vglut',\n",
       "       'technical consideration', 'pulse wave velocity',\n",
       "       'interpretation bias in social anxiety', 'accuracy',\n",
       "       'actinobacteria', 'cryostat',\n",
       "       'c uplink capacity analysis for massive mimo', 'ata collection',\n",
       "       'present address', 'no o', 'multiple kernel learning',\n",
       "       'node description', 'q protein of phage λ', 'conclusion',\n",
       "       'geneseer search feature', 'virus and cell',\n",
       "       'empirical kcef and consistency',\n",
       "       'a is well known this concept can be expressed equivalently using a relation between set of proposition and individual proposition instead of an operation for example with the following',\n",
       "       'pharmacokinetic analysis',\n",
       "       'molecular and cellular biology apr p – vol no',\n",
       "       'flavone inhibit angiogenesis', 'contribution',\n",
       "       'induction of a fumigatus gst expression with cdnb and ho',\n",
       "       'dynamic weaving in workflow reference model',\n",
       "       'higher phosphocreatine level were accompanied by higher amount of glycolytic enzyme intermediate and oxidative stress in tender meat sample',\n",
       "       'identification of nonconserved vamirnas',\n",
       "       'personality a a risk factor for alcoholrelated behavior', 'smt',\n",
       "       'in vertebrate the taste system provides information used in the regulation of food ingestion in mammal each cell groupwithin the taste bud express either the',\n",
       "       'necdin interacts with msx',\n",
       "       'change in co and o effect through time',\n",
       "       'enumeration of mycobacteria', 'detection of sparc and albumin',\n",
       "       'formulation of timevarying discretetime wavelet transforms',\n",
       "       'a real option to invest under choquetbrownian ambiguity',\n",
       "       'simultaneous protein extraction and enzymatic saccharification',\n",
       "       'support vector machine', 'endothelial cell study',\n",
       "       'a progressive scanning of the region of interest',\n",
       "       'application symbolic summation and the transcendence of sequence',\n",
       "       'material and procedure', 'eect of fod on fatigue cracking',\n",
       "       'gper localization on the cell of the ventral mesencephalon',\n",
       "       'extending the model', 'slp', 'target of crisprcas system',\n",
       "       'infosec in an equipmentasexperience perspective',\n",
       "       'physiological and molecular assay', 'm', 'phylogenetic analysis',\n",
       "       'heterogeneity among study', 'residual stress',\n",
       "       'the role of coralassociated bacteria',\n",
       "       'dielectronic recombination dr', 'dna substrate',\n",
       "       'hypothesis testing', 'measuring the size of the rrp',\n",
       "       'future opportunity', 'connected component analysis',\n",
       "       'digital platform a layered modular architecture',\n",
       "       'gh receptordeficient female', 'problem setting',\n",
       "       'resolution and cnre study',\n",
       "       'yield and characterisation of ethanol organosolv lignin eol',\n",
       "       'behavior and mission of autonomous system',\n",
       "       'structure and function of the placenta', 'point of light',\n",
       "       'rhythmic movement', 'final remark',\n",
       "       'classic algorithm for bisimilarity over finite labelled transition system',\n",
       "       'juvenile survival and dispersal', 'keywords',\n",
       "       'anthropometric measurement', 'triplex and quadruplex system',\n",
       "       'resummation of threshold logarithm at nnll',\n",
       "       'lynn b martin ii and lisa fitzgerald',\n",
       "       'immunohistochemistry and histology',\n",
       "       'gaussian mixture and gaussian mixtureofexperts',\n",
       "       'the use of bisimilarity checking in verification and tool',\n",
       "       'solution',\n",
       "       'outcome to date intermediate outcome clinical effectiveness',\n",
       "       'soil sampling and processing', 'diffuse reflectance spectroscopy',\n",
       "       'age and crm experience', 'bmi a a measure of body fatness',\n",
       "       'literature review', 'appendix', 'main text', 'ii system model',\n",
       "       'plasmid construction', 'divergence time estimate',\n",
       "       'oligodendrocyte development',\n",
       "       'the microbiome in relation to stress and immunity',\n",
       "       'emotionality', 'morbidity and economic burden',\n",
       "       'stability of the selection trait',\n",
       "       'appendix a learning gplda mixture model',\n",
       "       'is there a biological rationale for ebt in sirssepsis',\n",
       "       'cracking at low applied load ratio',\n",
       "       'unsolved issue in biomedical relation extraction',\n",
       "       'single inoculation',\n",
       "       'effect of jak mek and nfκb inhibitor on ifnγ and tnfαinduced inosno generation in bv cell',\n",
       "       'fluid retention edema formation and weight gain',\n",
       "       'intracellular protein phosphorylation', 'are most',\n",
       "       'measurement technique for platform', 'cell culture', 'survival',\n",
       "       'p',\n",
       "       'differentially expressed kcnj predicts a poor prognosis in hcc',\n",
       "       'ca depletion',\n",
       "       'significant relationship for the vdr the foot view',\n",
       "       'endmember determination',\n",
       "       'semisupervised learning for crowd worker',\n",
       "       'category semigroupoids and semidirect product',\n",
       "       'the pagerank problem',\n",
       "       'problem formulation and the quadratic mea',\n",
       "       'emotional cueing task', 'quality assessment of the study',\n",
       "       'cytotoxicity and cell adhesion',\n",
       "       'shiro miyayama md masashi yamashiro md miho okuda md hiroyuki aburano md',\n",
       "       'optimum multiuser receiver', 'specificity of antibody',\n",
       "       'cortical sex difference in the auditory system',\n",
       "       'standard md simulation', 'disparity predicted virtual view',\n",
       "       'ancient dna and metagenomic application',\n",
       "       'characteristic for a technique', 'animal management and sampling',\n",
       "       'pharmacoepidemiology of antidepressant in',\n",
       "       'restricted morfessor baseline', 'elimination',\n",
       "       'seasonal error duration model', 'meningitis and other infection',\n",
       "       'western blotting',\n",
       "       'akitomo yasunaga hyuntae park eiji watanabe fumiharu togo sungjin park roy j shephard and yukitoshi aoyagi',\n",
       "       'correlation between tcd and baep', 'according to the type of mwe',\n",
       "       'modeling place and manner of articulation',\n",
       "       'video collection and editing', 'testa color',\n",
       "       'a genetic algortihms', 'glutamate is taken up by bbmv',\n",
       "       'property of the estimator', 'setup', 'patientreported outcome',\n",
       "       'allelefrequency change over a time series the fisherford test',\n",
       "       'stimulusspecific adaptation', 'roc analysis',\n",
       "       'rapamycin and puromycin injection', 'demand',\n",
       "       'immunofluorescence microscopy', 'maxout network',\n",
       "       'sociality and sexual segregation', 'dapi disassembly assay',\n",
       "       'prac homologs of all dtus and tcbat',\n",
       "       'conjugation of recombinant tf to dt',\n",
       "       'a probability of requiring new and old content', '', 'r',\n",
       "       's c t t t t – t t a a a a a t', 'fundamental enzyme mechanism',\n",
       "       'contourinduced multiple modulatory effect in v and v',\n",
       "       'carrier phase recovery', 'subject',\n",
       "       'lipid profile and coronary risk score', 'nestedpcrs',\n",
       "       'chromogenic medium',\n",
       "       'effect of ramadan fasting on maternal health', 'reproducibility',\n",
       "       'wei wang wan zhu xiaoyan xu xiaocui nie xue yang',\n",
       "       'eeg recording', 'microarray data analysis',\n",
       "       'diagnosis of hd in parkinson ’ s disease', 'pregnenolone',\n",
       "       'cvlcvp',\n",
       "       'cullin genetically interacts with component of a statdirected genetic circuit',\n",
       "       'digital platform and ubiquitous system', 'case presentation',\n",
       "       'describing topological relation between random areal object',\n",
       "       'transport in the l skeletal muscle cell', 'b czech data set',\n",
       "       'summary', 'data collection and analysis', 'metabolism',\n",
       "       'a mlck–myosin ii pathway is required for the mode of synaptic vesicle cycling that loses less dye and that is used during hz stimulation',\n",
       "       'key insight classification of memory access',\n",
       "       'b redox signaling and biogenesis of mitochondrion',\n",
       "       'transition of leakage current',\n",
       "       'ii power system model and eigenvalue problem',\n",
       "       'reliability of dot probe bias score',\n",
       "       'a tandem nick tn in the genome induces efficient gene editing using a plasmid donor',\n",
       "       'zebrafish line', 'measure', 'clinical interpretation', 'finding',\n",
       "       'coffee a possible mechanism of action', 'algorithm',\n",
       "       'reliability of emotional cueing bias score',\n",
       "       'profile analysis of the modulated radiation force',\n",
       "       'identification of gene underlying tfh cell differentiation via an shrna screen in vivo',\n",
       "       'effect of discourse stage on adjustment of reference marker',\n",
       "       'model prediction',\n",
       "       'transporting with global geometric invariance', 'jvq',\n",
       "       'study participant', 'microcosm setup',\n",
       "       'singlephoton processing andreadout', 'hazard identification',\n",
       "       'from the ‡institute of academic anaesthesia and the ¶division of neuroscience university of dundee dundee dd sy scotland united kingdom and the §department of pharmacology and physiology the george washington university washington d c',\n",
       "       'animal', 'phosphorylation of thr by mst elicits acap',\n",
       "       'sequence of deformation and the plume hypothesis', 'topic model',\n",
       "       'model validation', 'iifm',\n",
       "       'catheter and pumprelated complication',\n",
       "       'effect of taciig and ctlaig treatment on inflammatory',\n",
       "       'de novo variant disrupt chd setda and wdr in probands with ca',\n",
       "       'mechanism of action', 'mutant rescue', '–',\n",
       "       'perspective projection of line',\n",
       "       'vvmyb‑like is localized to the nucleus',\n",
       "       'theoretical formulation', 'ultrasound',\n",
       "       'cff fuf and clinical parameter',\n",
       "       'patient and investigator burden',\n",
       "       'the evolution of a uniquely human capacity for cooperation',\n",
       "       'statistical analysis', 'ro production',\n",
       "       'a scheduling and module placement', 'svdbased audio watermarking',\n",
       "       'john m howell thom a mayer dan hanfling allan morrison glenn druckenbrod cecele murphy robert cates and denis pauze',\n",
       "       'neda stjepanovic jaume capdevila', 'in rat brain figure',\n",
       "       'role of holistic thinking',\n",
       "       'metabolic enzyme higher abundance of glycolytic enzyme wa related to meat tenderness',\n",
       "       'university of jaén spain', 'characteristic',\n",
       "       'declarative explicit geolocalization using alphanumeric or visual clue',\n",
       "       'soft tissue fungal infection', 'message expansion',\n",
       "       'artificial orthography and training procedure',\n",
       "       'tehila kaismanelbaz israel sekler daniel fishman nataly karol michal forberg nicole kahn michal hershfinkel and william f silverman',\n",
       "       'seed region', 'predicting traffic flow', 'prior work', 't cell',\n",
       "       'independent predictor of icu los', 'derived mwe property',\n",
       "       'multifractal product of stochastic process',\n",
       "       'reaction to deviant behavior', 'dependability definition',\n",
       "       'modeling randomness of graphic data',\n",
       "       'computing optimal approximation for deterministic system',\n",
       "       'the openfield test', 'critical flicker and fusion frequency',\n",
       "       'the theory', 'vglut contribution to hpa axis regulation',\n",
       "       'tracking translation and rotation',\n",
       "       'appressorium formation and plant infection assay', 'disadvantage',\n",
       "       'er and neurodegenerative disease', 'signal',\n",
       "       'production of antibody', 'behavioral performance analysis',\n",
       "       'interspecific variation in susceptibility', 'theory',\n",
       "       'plant growth', '– – – –', 'treatment of ethanol lock in patient',\n",
       "       'provenancebased reproducibility', 'apsvm', 'figure legend',\n",
       "       'identification of lysine propionylation in five bacteria',\n",
       "       'convergence in finite time',\n",
       "       'and rr from the national institute of health mhc djg',\n",
       "       'c er in the ventromedial hypothalamus and control of energy expenditure',\n",
       "       'a optical sensor', 'modeling the action of propofol', 'setting',\n",
       "       'datacentric storage',\n",
       "       'cloning and sequence analysis of a fumigatus gst open reading frame',\n",
       "       'the apcytokine transcriptional network is activated by hdac in denervated muscle',\n",
       "       'selection',\n",
       "       'samuelsson et al lin and lane scott et al chandrasekaran and gordon piontkewitz',\n",
       "       'orographic precipitation', 'momentum balance',\n",
       "       'tail suspension test',\n",
       "       'molecular characteristic of siga a a mucosal immunoglobulin',\n",
       "       'bitwise noise',\n",
       "       'stock price forecasting from it and airline sector',\n",
       "       'selection response iii', 'nusa', 'determination of weight',\n",
       "       'lung cancer',\n",
       "       'role of estrogen in sex difference in the auditory system',\n",
       "       'perceptual justification', 'funding cost and other bhc trait',\n",
       "       'ryan a flynna albert e almadaab jesse r zamudioa and phillip a sharpab',\n",
       "       'dialog act schema', 'tg mouse and drug treatment protocol',\n",
       "       'collective behaviour', 'tka',\n",
       "       'the mystery of the sushi repeat gabab receptor isoforms',\n",
       "       'generating function', 'syndromic surveillance',\n",
       "       'the nonimmune specific mechanism that facilitate',\n",
       "       'negative pressure − inspiration', 'dna damage and p upregulation',\n",
       "       'ridge crest setting',\n",
       "       'description of the guide and navigation scheme',\n",
       "       'bcg–ifn in bcg failure', 'quantitative community structure',\n",
       "       'the present study',\n",
       "       'molecular alteration detected in the olfactory bulb ob of monthold tg mouse',\n",
       "       'characteristic of the subject',\n",
       "       'problem associated with wind power',\n",
       "       'image formation in vibroacoustography', 'the dynamic octree',\n",
       "       'programmed death receptor', 'case study inplace list reversal',\n",
       "       'damage and forecast uncertainty is there a link',\n",
       "       'toward an asymptotic analysis jump over the radicands',\n",
       "       'j o u r n a l o f p r o t e o m i c s –',\n",
       "       'group collaborativeshared workspace', 's rrna gene sequencing',\n",
       "       'current study',\n",
       "       'synapticextrasynaptic signaling and aβ production',\n",
       "       'intestinal oxalate absorption', 'clinical data',\n",
       "       'genomewide mapping',\n",
       "       'sparsity problem and data quality for collaborative filtering',\n",
       "       'aberrant signaling in spry−− chondrocytes',\n",
       "       'origin of deep separation between mtdna lineage',\n",
       "       'laboratory data', 'tissue preparation',\n",
       "       'b game theorybased sla negotiation',\n",
       "       'the bunge–wand–weber ontology', 'linear subspace', 'race', 'mbd',\n",
       "       'mechanism of smad dominantnegative activity',\n",
       "       'nativecentric gōlike construct',\n",
       "       'potential bias in genome wide scan for adaptive evolution',\n",
       "       'cancer heterogeneity and it origin', 'imaging analysis',\n",
       "       'panel c abnormal return to passing majority voting standard proposal – control for other governance proposal',\n",
       "       'the nature of the multinational enterprise',\n",
       "       'nonchartered routing protocol', 'yeast twohybrid screening',\n",
       "       'baseline parameter', 'multimedia guide',\n",
       "       'copyright ⓒ by the korean society for biochemistry and molecular biology',\n",
       "       'percutaneous transluminal coronary angioplasty ptca',\n",
       "       'diagnosis and prediction', 'c key parameter',\n",
       "       'random sheared library',\n",
       "       'effect of referential complexity of the story on referential choice based on discourse stage',\n",
       "       'chromatographic separation of the venom and identification of fraction responsible for blood pressure perturbation',\n",
       "       'study organism',\n",
       "       'alternative measure of religiosityspirituality and alcohol use',\n",
       "       'svhn', 'patterned activity in nrt',\n",
       "       'unsupervised learning for document classification',\n",
       "       'multilingual nlp and the role of typology',\n",
       "       'preparation of brain slice to study neuronal', 'h r h r',\n",
       "       'assessment of infection control and medication preparation practice',\n",
       "       'advance',\n",
       "       'computational complexity of trajectory over unbounded domain',\n",
       "       'kernel conditional exponential family',\n",
       "       'h contact lpd via short consensus repeat and – factor h fhl and plasminogen when bound to lpd were functionally active factor h and fhl displayed complementregulatory activity and bound plasminogen when converted to the active',\n",
       "       'immunised library construction', 'general observation',\n",
       "       'the table compare a number of basilar papilla feature found in a variety of bird specie',\n",
       "       'objective function for optimal survival timerelated cutpoint',\n",
       "       'ii energy efficiency of highspeed vcsels',\n",
       "       'transformation procedure',\n",
       "       'pathophysiological interpretation of the iva metabolite profile',\n",
       "       'nmeander scanning trace',\n",
       "       'horizontal gene transfer in the rhizosphere', 'clinical feature',\n",
       "       'analytical technique', 'orthotopic xenograft transplantation',\n",
       "       '± ± ± ±', 'weak key', 'acoustic modelling', 'activelezi',\n",
       "       'datadriven kc model refinement using the additive factor model',\n",
       "       'multiple process in contour detection', 'boston massachusetts',\n",
       "       'giardini et al', 'a control flow graph for mercury',\n",
       "       'the complexity of checking bisimilarity over finite process',\n",
       "       'gi and potential access to health facility', 'depression',\n",
       "       'electrophysiology', 'shannon ’ s model',\n",
       "       'reinitiation of it drug delivery after cessation of it therapy',\n",
       "       'the mutant ph and de interact with alk but are not phosphorylated',\n",
       "       'some immediate application', 'rigour',\n",
       "       'metabolism of afb by control tlms', 'spacer diversity',\n",
       "       'bioinformatics', 'data analysis',\n",
       "       'increase in cytosolic cation level', 'salirasib',\n",
       "       'variable or p value', 'woman and identity development',\n",
       "       'iv emphysema', 'apparatus', 'msi in atrxdeficient gbm',\n",
       "       'm dnoap ef ttc', 'eye blink feature',\n",
       "       'nonverbal communication in humanhuman interaction',\n",
       "       'midbrain regionalisation',\n",
       "       'iii gaussian multipleaccess relay channel with noncausal side information',\n",
       "       'bt a and ∂∂atra', 'enzymatic hydrolysis', 't aoki et al',\n",
       "       'psychopharmacology retrograde facilitation',\n",
       "       'determination of αlipoamide dehydrogenase activity in intact mitochondrion',\n",
       "       'data quality', 'b process influence on the lamination stack',\n",
       "       'term n reference',\n",
       "       'appendix a model equation and parameter value',\n",
       "       'coselection of other characteristic', 'patient selection',\n",
       "       'difference and history visualization for', 'catechol estrogen',\n",
       "       'caffeine breath test', 'chemical oxygen demand removal',\n",
       "       'ct mdct', 'growth and maintenance',\n",
       "       'long memory at seasonal frequency',\n",
       "       'a data generation and compression',\n",
       "       'identification of gene underlying ctl differentiation by an shrna screen in vivo',\n",
       "       'selective breeding',\n",
       "       'paul kelly mona bajajelliott max katubulushi isaac zulu richard poulsom roger a feldman charles l bevin and winnie dhaliwal',\n",
       "       'pcr amplification and sequencing',\n",
       "       'f m porteiro a bragahenriques j jakobsen',\n",
       "       'empirical context skin whitening product in india',\n",
       "       'tal moran† and moni naor‡', 'unnormalized density estimation',\n",
       "       'b opportunistic routing',\n",
       "       'bradley walter biggsab chin giaw lima kristen sagliania smriti shankara gregory stephanopoulosc marjan de meyacd and parayil kumaran ajikumara',\n",
       "       'b predominant pitch detection', 'brain motion during',\n",
       "       'the role of hscs in htlv infection and pathogenesis',\n",
       "       'the personal audio loop',\n",
       "       'cullin limit the set of migratory cell by reducing stat signaling',\n",
       "       'frequency of a term',\n",
       "       'morphology fluorescence microscopy and morphometry of mouse and rat heart',\n",
       "       'ecological data', 'murine mechanical ventilation',\n",
       "       'memorability metric',\n",
       "       'nature of the deficit in fear regulation in the polyic offspring',\n",
       "       'targeting senile endothelium brain biometal fe ca dyshomeostasis and glucosetransportbbb disruption',\n",
       "       'growth rate', 'surface air temperature', 'state of the art',\n",
       "       'uncertain ftle and lcs visualization',\n",
       "       'goal recognition with markov logic network',\n",
       "       'identification of leukemia stem cell surface marker',\n",
       "       'discovery and structure of the gabab receptor b',\n",
       "       'model calculation', 'enablers', 'equilibrium factor',\n",
       "       'from the ‡sanfordburnham medical research institute la jolla california and §department of pathology university of california san diego california',\n",
       "       'social engagement',\n",
       "       'cold spring harbor laboratory cold spring harbor new york usa',\n",
       "       'the importance of wage discretion', 'perceived reachability',\n",
       "       'angela bowman and roel nusse', 'research paper',\n",
       "       'cognitive function and mood', 'kinetic analysis',\n",
       "       'textbased trip planner', 'rehabilitation',\n",
       "       'nongaussian mixture and mixture of independent mapping',\n",
       "       'shortrun impact of subsidy', 'behavioral protocol',\n",
       "       'panel b multivariate analysis of the responsiveness to vote withheld from director',\n",
       "       'clinical evidence for dosimetry', 'comment on propeller loop',\n",
       "       'social preference in the presence of explicit in',\n",
       "       'uncertain and ensemble flow visualization', 'a ramesh et al',\n",
       "       'chiawei w tsai and stephen m wolniak', 'lp', 'clustering',\n",
       "       'robustness', 'turn and dialog act',\n",
       "       'carlos bianciotto md carol l shield md sara e lally md jorge freire md jerry a shield md',\n",
       "       'activity of the kb ptfa enhancer', 'activity recognition',\n",
       "       'c target model', 'case study over dubai uae',\n",
       "       'skp modification is o dependent', 'description of chapter i',\n",
       "       'aufhebung von sprachmustern', 'var evidence',\n",
       "       'claudia hawkins md jenny huang scd nancy jin m gary a noskin md teresa r zembower md mph maureen bolon m md',\n",
       "       'the cell repeller model', 'th cell in tb defense and pathology',\n",
       "       'prognostic role of ptps',\n",
       "       'a wikipedia related multi domain seed knowledge base',\n",
       "       'outcome measure',\n",
       "       'desolvation barrier rationalize intrinsic enthalpic folding barrier',\n",
       "       'cortex', 'role of ttg in the trichome patterning gene network',\n",
       "       'c evolution of the metric collection tool',\n",
       "       'vicarious learning and serendipity', 'real sample',\n",
       "       '† † † † † † †',\n",
       "       'analogy between mendelian randomization and randomized controlled trial',\n",
       "       'immunoprecipitation and western blot',\n",
       "       'associative classification data mining',\n",
       "       'ion channel facilitate malignant cell migration', 'bac cloning',\n",
       "       'environmental factor', 'dosage and',\n",
       "       'preparation of conidium suspension', 'colorectal cancer',\n",
       "       'distribution of fitness effect dfe', 'chemical and treatment',\n",
       "       'wh mutant insertion sequence',\n",
       "       'the european consensus protocol for daylight pdt',\n",
       "       'gastroenterology department centro hospitalar s√£o jo√£o porto portugal',\n",
       "       'learning sequent class', 'participant',\n",
       "       'ali is increased in cd mouse', 'stableisotope probing',\n",
       "       'sample of marine fish and invertebrate',\n",
       "       'definition and basic property of ap s and r ∗extensions',\n",
       "       'response to longterm overfeeding', 'oxygen sensing mechanism',\n",
       "       'a history of stock exchange of thailand set',\n",
       "       'intentionbased treatment identification', 'xi activity',\n",
       "       'in silico identification of backbone enzyme and gene cluster by genome sequencing',\n",
       "       'medium cd q cb', 'software development strategy are engineered',\n",
       "       'simulation', 'frequencybased entity linking',\n",
       "       'sex difference in sk channel', 'behavioral data',\n",
       "       'classification of mobile museum guide function',\n",
       "       'd shape and appearance', 'cannabinoidmediated plasticity',\n",
       "       'a distributed storage chain',\n",
       "       'unnamed clade chloranthus–liriodendron node',\n",
       "       'characterization of brain dynamic', 'asl phonology',\n",
       "       'dragsuit training', 'our construction', 'exploratory study',\n",
       "       'phylogenetic analysis of rsva', 'name translation',\n",
       "       'ii prior work', 'interpretation of data',\n",
       "       'the larpbs computing model', 'processing of rnaseq data',\n",
       "       'inhibition of cd enhances ali', 'cache controller protocol',\n",
       "       'improving cognitive skill through video game training',\n",
       "       'generating population of elasticity', 'transcription pausing',\n",
       "       'onchip bandwidth reduction', 'outlook',\n",
       "       'lq convergence general bound', 'chemical exposure',\n",
       "       'the pathoetiological issue',\n",
       "       'a purely unsupervised sparse representation',\n",
       "       'the dimensional lorentz group revisited',\n",
       "       'the cterminal phosphoinositidebinding domain of dmyd is necessary for toll signaling in development',\n",
       "       'shep', 'o and assisted reproduction',\n",
       "       'sdspage and immunoblotting', 'the decision tree',\n",
       "       'asp machine and execution trace',\n",
       "       'a stated in chap transition metal cu and zn may contribute to the',\n",
       "       'defining digital platform', 'large scale',\n",
       "       'plant material and culture',\n",
       "       'appendix a receiveroperating characteristic roc analysis',\n",
       "       'realtime pcr identification',\n",
       "       'integrating theorizing on metaperceptions and dehumanization',\n",
       "       'ablation study on shapenet',\n",
       "       'tumor cell proliferation and apoptosis',\n",
       "       'the dynamic sensor field model', 'seed longevity',\n",
       "       'byy system and harmony learning',\n",
       "       'preoperative physical activity',\n",
       "       'tracking algorithm using the ct feature',\n",
       "       'predisposing factor for balloon dilatation in ttc',\n",
       "       'loss of creb binding lead to disassembly of the',\n",
       "       'stephanie m power md msc damir b matic md msc frcsc',\n",
       "       'weighting information according to precision and reliability',\n",
       "       'preliminary', 'g d apoorva and r mamidi', 'voip sip and rtp',\n",
       "       'variational dynamic kernel',\n",
       "       'immunoassay with cellulosebound peptide',\n",
       "       'amplification control element',\n",
       "       'generalized shape correspondence',\n",
       "       'independent variable anchor mean±sd min–max',\n",
       "       's typhimurium dt isolates form a distinct phylogenetic',\n",
       "       'hierarchical interaction layer',\n",
       "       'sabrina d lamour vincent p alibu elaine holmes and jeremy m sternberg',\n",
       "       'topiramate', 'cns vasculitis', 'calibration', 'case study',\n",
       "       'hydroxyproline hp assay', 'global cpg methylation pattern',\n",
       "       'microsatellite library development',\n",
       "       'gradient color and shape match kernel', 'cell sorting',\n",
       "       'smfmmf with different mzm modulation scheme',\n",
       "       'computational study', 'protein sample',\n",
       "       'concept for improved model version control',\n",
       "       'yeast twohybrid assay', 'final customer and intermediary', 'oo',\n",
       "       'r learning and development', 'action editor alain destexhe',\n",
       "       'qualitative data', 'scutellaria baicalensis', 'product selection',\n",
       "       'glutamate a the main excitatory neurotransmitter in the brain',\n",
       "       'b spectral clustering algorithm',\n",
       "       'department of cognitive science university of california irvine ca',\n",
       "       'correlate of physical activity', 'terminology',\n",
       "       'molecular genetic mechanism of the', 'r–r',\n",
       "       'chromatinmodifying drug transiently disrupt',\n",
       "       'influence of image registration strategy',\n",
       "       'image retrieval with deep network',\n",
       "       'bacterial strain and reagent', 'stimulus',\n",
       "       'female postmating response', 'mandibular rest position',\n",
       "       'psychometric property',\n",
       "       'rewiring the circuit – mir a an attractive target for therapeutic intervention',\n",
       "       'deceleration of the slow exchanging substrate in the s→ s transition'],\n",
       "      dtype=object)"
      ]
     },
     "execution_count": 116,
     "metadata": {},
     "output_type": "execute_result"
    }
   ],
   "source": [
    "df['sectionName'].unique()"
   ]
  },
  {
   "cell_type": "code",
   "execution_count": null,
   "id": "495644ef-3099-43f2-bc8f-c1ea9bbe4da5",
   "metadata": {},
   "outputs": [],
   "source": []
  }
 ],
 "metadata": {
  "kernelspec": {
   "display_name": "Python 3 (ipykernel)",
   "language": "python",
   "name": "python3"
  },
  "language_info": {
   "codemirror_mode": {
    "name": "ipython",
    "version": 3
   },
   "file_extension": ".py",
   "mimetype": "text/x-python",
   "name": "python",
   "nbconvert_exporter": "python",
   "pygments_lexer": "ipython3",
   "version": "3.11.5"
  }
 },
 "nbformat": 4,
 "nbformat_minor": 5
}
